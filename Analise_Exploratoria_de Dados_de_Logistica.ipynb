{
 "cells": [
  {
   "cell_type": "markdown",
   "metadata": {
    "id": "QRcqbpLpFK5o"
   },
   "source": [
    "# **Análise Exploratória de Dados de Logística**"
   ]
  },
  {
   "cell_type": "markdown",
   "metadata": {
    "id": "6-CvdKwqFPiW"
   },
   "source": [
    "## 1\\. Contexto"
   ]
  },
  {
   "cell_type": "markdown",
   "metadata": {
    "id": "XRURE1uUFXGw"
   },
   "source": [
    "Os dados foram fornecidos pela startup brasileira Loggi, que realiza entregas em diversas cidades do Brasil. A empresa trabalha no contexto <i>Last-Mile</i>, ou seja, a etapa final da entrega, realizada dentro do município, do centro de distribuição até a residência do cliente.\n",
    "\n",
    "Dos diversos problemas que poderão ser apontados na análise, podemos citar otimização de rotas de entrega afim de minimizar a distância entre os centros de distribuição até o objetivo, otimização na distribuição das cargas nos veículos e consumo de combustível."
   ]
  },
  {
   "cell_type": "markdown",
   "metadata": {
    "id": "QxukLHaqFnkU"
   },
   "source": [
    "## 2\\. Pacotes e bibliotecas"
   ]
  },
  {
   "cell_type": "code",
   "execution_count": null,
   "metadata": {
    "id": "VXUEW0VrF7XW"
   },
   "outputs": [],
   "source": [
    "# importação das bibliotecas\n",
    "import json\n",
    "\n",
    "import pandas as pd\n",
    "import numpy as np\n",
    "import matplotlib.pyplot as plt\n",
    "import seaborn as sns\n",
    "import geopy\n",
    "import geopandas\n",
    "\n",
    "from geopy.geocoders import Nominatim\n",
    "from geopy.extra.rate_limiter import RateLimiter"
   ]
  },
  {
   "cell_type": "code",
   "execution_count": null,
   "metadata": {
    "id": "3bIaWoeoSqOi"
   },
   "outputs": [],
   "source": [
    "!pip install geopandas"
   ]
  },
  {
   "cell_type": "markdown",
   "metadata": {
    "id": "irQxHW1zGkdZ"
   },
   "source": [
    "## 3\\. Exploração de dados"
   ]
  },
  {
   "cell_type": "code",
   "execution_count": null,
   "metadata": {
    "colab": {
     "base_uri": "https://localhost:8080/"
    },
    "executionInfo": {
     "elapsed": 4658,
     "status": "ok",
     "timestamp": 1643126740511,
     "user": {
      "displayName": "Pedro Sartoro",
      "photoUrl": "https://lh3.googleusercontent.com/a-/AOh14GgW0XBtdT2QXAMbCHjbuvidYUCNdUXOZL5KVQUh=s64",
      "userId": "12375826268682074049"
     },
     "user_tz": 180
    },
    "id": "lxLj8e0GHAnr",
    "outputId": "18a87b27-1c8b-4524-8451-dd731ad7f6d4"
   },
   "outputs": [
    {
     "data": {
      "text/plain": [
       "dict_keys(['name', 'region', 'origin', 'vehicle_capacity', 'deliveries'])"
      ]
     },
     "execution_count": 2,
     "metadata": {},
     "output_type": "execute_result"
    }
   ],
   "source": [
    "# coleta e exploração dos dados\n",
    "!wget -q 'https://raw.githubusercontent.com/andre-marcos-perez/ebac-course-utils/main/dataset/deliveries.json' -O deliveries.json\n",
    "\n",
    "data = json.load(open('deliveries.json', 'r', encoding='utf8'))\n",
    "\n",
    "data[0].keys()"
   ]
  },
  {
   "cell_type": "markdown",
   "metadata": {
    "id": "05OMqJcuUJ1w"
   },
   "source": [
    "Os dados foram baixados do GitHub. Faço a leitura e o carrego em uma variável. Para entender melhor a composição das chaves do arquivo json, chamei o método keys() do primeiro registro, que me retorna uma lista com os nomes das chaves."
   ]
  },
  {
   "cell_type": "markdown",
   "metadata": {
    "id": "OjoUqqo1YSL8"
   },
   "source": [
    "```json\n",
    "[\n",
    "  {\n",
    "    \"name\": \"cvrp-0-df-0\",\n",
    "    \"region\": \"df-0\",\n",
    "    \"origin\": {\"lng\": -47.802664728268745, \"lat\": -15.657013854445248},\n",
    "    \"vehicle_capacity\": 180,\n",
    "    \"deliveries\": [\n",
    "      {\n",
    "        \"id\": \"ed0993f8cc70d998342f38ee827176dc\",\n",
    "        \"point\": {\"lng\": -47.7496622016347, \"lat\": -15.65879313293694},\n",
    "        \"size\": 10\n",
    "      }\n",
    "    ]\n",
    "  }\n",
    "]\n",
    "```"
   ]
  },
  {
   "cell_type": "markdown",
   "metadata": {
    "id": "MdkmAVLGZgde"
   },
   "source": [
    "A composição do arquivo permite se ter uma noção de como os dados estão organizados."
   ]
  },
  {
   "cell_type": "code",
   "execution_count": null,
   "metadata": {
    "colab": {
     "base_uri": "https://localhost:8080/",
     "height": 204
    },
    "executionInfo": {
     "elapsed": 826,
     "status": "ok",
     "timestamp": 1643126746695,
     "user": {
      "displayName": "Pedro Sartoro",
      "photoUrl": "https://lh3.googleusercontent.com/a-/AOh14GgW0XBtdT2QXAMbCHjbuvidYUCNdUXOZL5KVQUh=s64",
      "userId": "12375826268682074049"
     },
     "user_tz": 180
    },
    "id": "si9b25JWLUBN",
    "outputId": "1b6a0433-7244-4d35-c805-1b4a71aee5e4"
   },
   "outputs": [
    {
     "data": {
      "text/html": [
       "\n",
       "  <div id=\"df-9a8d7975-d08a-4e21-9a22-ccec7760cbf5\">\n",
       "    <div class=\"colab-df-container\">\n",
       "      <div>\n",
       "<style scoped>\n",
       "    .dataframe tbody tr th:only-of-type {\n",
       "        vertical-align: middle;\n",
       "    }\n",
       "\n",
       "    .dataframe tbody tr th {\n",
       "        vertical-align: top;\n",
       "    }\n",
       "\n",
       "    .dataframe thead th {\n",
       "        text-align: right;\n",
       "    }\n",
       "</style>\n",
       "<table border=\"1\" class=\"dataframe\">\n",
       "  <thead>\n",
       "    <tr style=\"text-align: right;\">\n",
       "      <th></th>\n",
       "      <th>name</th>\n",
       "      <th>region</th>\n",
       "      <th>origin</th>\n",
       "      <th>vehicle_capacity</th>\n",
       "      <th>deliveries</th>\n",
       "    </tr>\n",
       "  </thead>\n",
       "  <tbody>\n",
       "    <tr>\n",
       "      <th>0</th>\n",
       "      <td>cvrp-2-df-33</td>\n",
       "      <td>df-2</td>\n",
       "      <td>{'lng': -48.05498915846707, 'lat': -15.8381445...</td>\n",
       "      <td>180</td>\n",
       "      <td>[{'id': '313483a19d2f8d65cd5024c8d215cfbd', 'p...</td>\n",
       "    </tr>\n",
       "    <tr>\n",
       "      <th>1</th>\n",
       "      <td>cvrp-2-df-73</td>\n",
       "      <td>df-2</td>\n",
       "      <td>{'lng': -48.05498915846707, 'lat': -15.8381445...</td>\n",
       "      <td>180</td>\n",
       "      <td>[{'id': 'bf3fc630b1c29601a4caf1bdd474b85', 'po...</td>\n",
       "    </tr>\n",
       "    <tr>\n",
       "      <th>2</th>\n",
       "      <td>cvrp-2-df-20</td>\n",
       "      <td>df-2</td>\n",
       "      <td>{'lng': -48.05498915846707, 'lat': -15.8381445...</td>\n",
       "      <td>180</td>\n",
       "      <td>[{'id': 'b30f1145a2ba4e0b9ac0162b68d045c3', 'p...</td>\n",
       "    </tr>\n",
       "    <tr>\n",
       "      <th>3</th>\n",
       "      <td>cvrp-1-df-71</td>\n",
       "      <td>df-1</td>\n",
       "      <td>{'lng': -47.89366206897872, 'lat': -15.8051175...</td>\n",
       "      <td>180</td>\n",
       "      <td>[{'id': 'be3ed547394196c12c7c27c89ac74ed6', 'p...</td>\n",
       "    </tr>\n",
       "    <tr>\n",
       "      <th>4</th>\n",
       "      <td>cvrp-2-df-87</td>\n",
       "      <td>df-2</td>\n",
       "      <td>{'lng': -48.05498915846707, 'lat': -15.8381445...</td>\n",
       "      <td>180</td>\n",
       "      <td>[{'id': 'a6328fb4dc0654eb28a996a270b0f6e4', 'p...</td>\n",
       "    </tr>\n",
       "  </tbody>\n",
       "</table>\n",
       "</div>\n",
       "      <button class=\"colab-df-convert\" onclick=\"convertToInteractive('df-9a8d7975-d08a-4e21-9a22-ccec7760cbf5')\"\n",
       "              title=\"Convert this dataframe to an interactive table.\"\n",
       "              style=\"display:none;\">\n",
       "        \n",
       "  <svg xmlns=\"http://www.w3.org/2000/svg\" height=\"24px\"viewBox=\"0 0 24 24\"\n",
       "       width=\"24px\">\n",
       "    <path d=\"M0 0h24v24H0V0z\" fill=\"none\"/>\n",
       "    <path d=\"M18.56 5.44l.94 2.06.94-2.06 2.06-.94-2.06-.94-.94-2.06-.94 2.06-2.06.94zm-11 1L8.5 8.5l.94-2.06 2.06-.94-2.06-.94L8.5 2.5l-.94 2.06-2.06.94zm10 10l.94 2.06.94-2.06 2.06-.94-2.06-.94-.94-2.06-.94 2.06-2.06.94z\"/><path d=\"M17.41 7.96l-1.37-1.37c-.4-.4-.92-.59-1.43-.59-.52 0-1.04.2-1.43.59L10.3 9.45l-7.72 7.72c-.78.78-.78 2.05 0 2.83L4 21.41c.39.39.9.59 1.41.59.51 0 1.02-.2 1.41-.59l7.78-7.78 2.81-2.81c.8-.78.8-2.07 0-2.86zM5.41 20L4 18.59l7.72-7.72 1.47 1.35L5.41 20z\"/>\n",
       "  </svg>\n",
       "      </button>\n",
       "      \n",
       "  <style>\n",
       "    .colab-df-container {\n",
       "      display:flex;\n",
       "      flex-wrap:wrap;\n",
       "      gap: 12px;\n",
       "    }\n",
       "\n",
       "    .colab-df-convert {\n",
       "      background-color: #E8F0FE;\n",
       "      border: none;\n",
       "      border-radius: 50%;\n",
       "      cursor: pointer;\n",
       "      display: none;\n",
       "      fill: #1967D2;\n",
       "      height: 32px;\n",
       "      padding: 0 0 0 0;\n",
       "      width: 32px;\n",
       "    }\n",
       "\n",
       "    .colab-df-convert:hover {\n",
       "      background-color: #E2EBFA;\n",
       "      box-shadow: 0px 1px 2px rgba(60, 64, 67, 0.3), 0px 1px 3px 1px rgba(60, 64, 67, 0.15);\n",
       "      fill: #174EA6;\n",
       "    }\n",
       "\n",
       "    [theme=dark] .colab-df-convert {\n",
       "      background-color: #3B4455;\n",
       "      fill: #D2E3FC;\n",
       "    }\n",
       "\n",
       "    [theme=dark] .colab-df-convert:hover {\n",
       "      background-color: #434B5C;\n",
       "      box-shadow: 0px 1px 3px 1px rgba(0, 0, 0, 0.15);\n",
       "      filter: drop-shadow(0px 1px 2px rgba(0, 0, 0, 0.3));\n",
       "      fill: #FFFFFF;\n",
       "    }\n",
       "  </style>\n",
       "\n",
       "      <script>\n",
       "        const buttonEl =\n",
       "          document.querySelector('#df-9a8d7975-d08a-4e21-9a22-ccec7760cbf5 button.colab-df-convert');\n",
       "        buttonEl.style.display =\n",
       "          google.colab.kernel.accessAllowed ? 'block' : 'none';\n",
       "\n",
       "        async function convertToInteractive(key) {\n",
       "          const element = document.querySelector('#df-9a8d7975-d08a-4e21-9a22-ccec7760cbf5');\n",
       "          const dataTable =\n",
       "            await google.colab.kernel.invokeFunction('convertToInteractive',\n",
       "                                                     [key], {});\n",
       "          if (!dataTable) return;\n",
       "\n",
       "          const docLinkHtml = 'Like what you see? Visit the ' +\n",
       "            '<a target=\"_blank\" href=https://colab.research.google.com/notebooks/data_table.ipynb>data table notebook</a>'\n",
       "            + ' to learn more about interactive tables.';\n",
       "          element.innerHTML = '';\n",
       "          dataTable['output_type'] = 'display_data';\n",
       "          await google.colab.output.renderOutput(dataTable, element);\n",
       "          const docLink = document.createElement('div');\n",
       "          docLink.innerHTML = docLinkHtml;\n",
       "          element.appendChild(docLink);\n",
       "        }\n",
       "      </script>\n",
       "    </div>\n",
       "  </div>\n",
       "  "
      ],
      "text/plain": [
       "           name  ...                                         deliveries\n",
       "0  cvrp-2-df-33  ...  [{'id': '313483a19d2f8d65cd5024c8d215cfbd', 'p...\n",
       "1  cvrp-2-df-73  ...  [{'id': 'bf3fc630b1c29601a4caf1bdd474b85', 'po...\n",
       "2  cvrp-2-df-20  ...  [{'id': 'b30f1145a2ba4e0b9ac0162b68d045c3', 'p...\n",
       "3  cvrp-1-df-71  ...  [{'id': 'be3ed547394196c12c7c27c89ac74ed6', 'p...\n",
       "4  cvrp-2-df-87  ...  [{'id': 'a6328fb4dc0654eb28a996a270b0f6e4', 'p...\n",
       "\n",
       "[5 rows x 5 columns]"
      ]
     },
     "execution_count": 3,
     "metadata": {},
     "output_type": "execute_result"
    }
   ],
   "source": [
    "df = pd.DataFrame(data)\n",
    "df.head()"
   ]
  },
  {
   "cell_type": "markdown",
   "metadata": {
    "id": "-g77gLOfVCq0"
   },
   "source": [
    "Carregando o arquivo em um dataframe e visualizando os primeiros registros, nota-se que as colunas **origin** e **deliveries** são listas de dicionários. Esses dados terão de ser tratados e transformados em colunas do dataframe."
   ]
  },
  {
   "cell_type": "code",
   "execution_count": null,
   "metadata": {
    "colab": {
     "base_uri": "https://localhost:8080/",
     "height": 204
    },
    "executionInfo": {
     "elapsed": 396,
     "status": "ok",
     "timestamp": 1643126751383,
     "user": {
      "displayName": "Pedro Sartoro",
      "photoUrl": "https://lh3.googleusercontent.com/a-/AOh14GgW0XBtdT2QXAMbCHjbuvidYUCNdUXOZL5KVQUh=s64",
      "userId": "12375826268682074049"
     },
     "user_tz": 180
    },
    "id": "qi_-BibSLlKP",
    "outputId": "302679f0-8b84-47d5-f2a4-4cbd925a68ed"
   },
   "outputs": [
    {
     "data": {
      "text/html": [
       "\n",
       "  <div id=\"df-78f2ce53-8656-47d4-8b83-11ecf6ebc92d\">\n",
       "    <div class=\"colab-df-container\">\n",
       "      <div>\n",
       "<style scoped>\n",
       "    .dataframe tbody tr th:only-of-type {\n",
       "        vertical-align: middle;\n",
       "    }\n",
       "\n",
       "    .dataframe tbody tr th {\n",
       "        vertical-align: top;\n",
       "    }\n",
       "\n",
       "    .dataframe thead th {\n",
       "        text-align: right;\n",
       "    }\n",
       "</style>\n",
       "<table border=\"1\" class=\"dataframe\">\n",
       "  <thead>\n",
       "    <tr style=\"text-align: right;\">\n",
       "      <th></th>\n",
       "      <th>lng</th>\n",
       "      <th>lat</th>\n",
       "    </tr>\n",
       "  </thead>\n",
       "  <tbody>\n",
       "    <tr>\n",
       "      <th>0</th>\n",
       "      <td>-48.054989</td>\n",
       "      <td>-15.838145</td>\n",
       "    </tr>\n",
       "    <tr>\n",
       "      <th>1</th>\n",
       "      <td>-48.054989</td>\n",
       "      <td>-15.838145</td>\n",
       "    </tr>\n",
       "    <tr>\n",
       "      <th>2</th>\n",
       "      <td>-48.054989</td>\n",
       "      <td>-15.838145</td>\n",
       "    </tr>\n",
       "    <tr>\n",
       "      <th>3</th>\n",
       "      <td>-47.893662</td>\n",
       "      <td>-15.805118</td>\n",
       "    </tr>\n",
       "    <tr>\n",
       "      <th>4</th>\n",
       "      <td>-48.054989</td>\n",
       "      <td>-15.838145</td>\n",
       "    </tr>\n",
       "  </tbody>\n",
       "</table>\n",
       "</div>\n",
       "      <button class=\"colab-df-convert\" onclick=\"convertToInteractive('df-78f2ce53-8656-47d4-8b83-11ecf6ebc92d')\"\n",
       "              title=\"Convert this dataframe to an interactive table.\"\n",
       "              style=\"display:none;\">\n",
       "        \n",
       "  <svg xmlns=\"http://www.w3.org/2000/svg\" height=\"24px\"viewBox=\"0 0 24 24\"\n",
       "       width=\"24px\">\n",
       "    <path d=\"M0 0h24v24H0V0z\" fill=\"none\"/>\n",
       "    <path d=\"M18.56 5.44l.94 2.06.94-2.06 2.06-.94-2.06-.94-.94-2.06-.94 2.06-2.06.94zm-11 1L8.5 8.5l.94-2.06 2.06-.94-2.06-.94L8.5 2.5l-.94 2.06-2.06.94zm10 10l.94 2.06.94-2.06 2.06-.94-2.06-.94-.94-2.06-.94 2.06-2.06.94z\"/><path d=\"M17.41 7.96l-1.37-1.37c-.4-.4-.92-.59-1.43-.59-.52 0-1.04.2-1.43.59L10.3 9.45l-7.72 7.72c-.78.78-.78 2.05 0 2.83L4 21.41c.39.39.9.59 1.41.59.51 0 1.02-.2 1.41-.59l7.78-7.78 2.81-2.81c.8-.78.8-2.07 0-2.86zM5.41 20L4 18.59l7.72-7.72 1.47 1.35L5.41 20z\"/>\n",
       "  </svg>\n",
       "      </button>\n",
       "      \n",
       "  <style>\n",
       "    .colab-df-container {\n",
       "      display:flex;\n",
       "      flex-wrap:wrap;\n",
       "      gap: 12px;\n",
       "    }\n",
       "\n",
       "    .colab-df-convert {\n",
       "      background-color: #E8F0FE;\n",
       "      border: none;\n",
       "      border-radius: 50%;\n",
       "      cursor: pointer;\n",
       "      display: none;\n",
       "      fill: #1967D2;\n",
       "      height: 32px;\n",
       "      padding: 0 0 0 0;\n",
       "      width: 32px;\n",
       "    }\n",
       "\n",
       "    .colab-df-convert:hover {\n",
       "      background-color: #E2EBFA;\n",
       "      box-shadow: 0px 1px 2px rgba(60, 64, 67, 0.3), 0px 1px 3px 1px rgba(60, 64, 67, 0.15);\n",
       "      fill: #174EA6;\n",
       "    }\n",
       "\n",
       "    [theme=dark] .colab-df-convert {\n",
       "      background-color: #3B4455;\n",
       "      fill: #D2E3FC;\n",
       "    }\n",
       "\n",
       "    [theme=dark] .colab-df-convert:hover {\n",
       "      background-color: #434B5C;\n",
       "      box-shadow: 0px 1px 3px 1px rgba(0, 0, 0, 0.15);\n",
       "      filter: drop-shadow(0px 1px 2px rgba(0, 0, 0, 0.3));\n",
       "      fill: #FFFFFF;\n",
       "    }\n",
       "  </style>\n",
       "\n",
       "      <script>\n",
       "        const buttonEl =\n",
       "          document.querySelector('#df-78f2ce53-8656-47d4-8b83-11ecf6ebc92d button.colab-df-convert');\n",
       "        buttonEl.style.display =\n",
       "          google.colab.kernel.accessAllowed ? 'block' : 'none';\n",
       "\n",
       "        async function convertToInteractive(key) {\n",
       "          const element = document.querySelector('#df-78f2ce53-8656-47d4-8b83-11ecf6ebc92d');\n",
       "          const dataTable =\n",
       "            await google.colab.kernel.invokeFunction('convertToInteractive',\n",
       "                                                     [key], {});\n",
       "          if (!dataTable) return;\n",
       "\n",
       "          const docLinkHtml = 'Like what you see? Visit the ' +\n",
       "            '<a target=\"_blank\" href=https://colab.research.google.com/notebooks/data_table.ipynb>data table notebook</a>'\n",
       "            + ' to learn more about interactive tables.';\n",
       "          element.innerHTML = '';\n",
       "          dataTable['output_type'] = 'display_data';\n",
       "          await google.colab.output.renderOutput(dataTable, element);\n",
       "          const docLink = document.createElement('div');\n",
       "          docLink.innerHTML = docLinkHtml;\n",
       "          element.appendChild(docLink);\n",
       "        }\n",
       "      </script>\n",
       "    </div>\n",
       "  </div>\n",
       "  "
      ],
      "text/plain": [
       "         lng        lat\n",
       "0 -48.054989 -15.838145\n",
       "1 -48.054989 -15.838145\n",
       "2 -48.054989 -15.838145\n",
       "3 -47.893662 -15.805118\n",
       "4 -48.054989 -15.838145"
      ]
     },
     "execution_count": 4,
     "metadata": {},
     "output_type": "execute_result"
    }
   ],
   "source": [
    "# normalizando (flatten) dados nested (aninhados)\n",
    "origin_normalized = pd.json_normalize(df['origin'])\n",
    "origin_normalized.head()"
   ]
  },
  {
   "cell_type": "markdown",
   "metadata": {
    "id": "Ub9xYHb8VoRB"
   },
   "source": [
    "Utilizando o método json_normalize() do Pandas, a coluna origin é transformada em um dataframe de duas colunas, separando latitude e longitude."
   ]
  },
  {
   "cell_type": "code",
   "execution_count": null,
   "metadata": {
    "colab": {
     "base_uri": "https://localhost:8080/",
     "height": 204
    },
    "executionInfo": {
     "elapsed": 794,
     "status": "ok",
     "timestamp": 1643126761418,
     "user": {
      "displayName": "Pedro Sartoro",
      "photoUrl": "https://lh3.googleusercontent.com/a-/AOh14GgW0XBtdT2QXAMbCHjbuvidYUCNdUXOZL5KVQUh=s64",
      "userId": "12375826268682074049"
     },
     "user_tz": 180
    },
    "id": "cZvJ7_nRLmGK",
    "outputId": "cdb097f3-4725-4d41-f3b6-743d68a8799e"
   },
   "outputs": [
    {
     "data": {
      "text/html": [
       "\n",
       "  <div id=\"df-c3444739-d6f7-4255-ba12-218bb6ef6d23\">\n",
       "    <div class=\"colab-df-container\">\n",
       "      <div>\n",
       "<style scoped>\n",
       "    .dataframe tbody tr th:only-of-type {\n",
       "        vertical-align: middle;\n",
       "    }\n",
       "\n",
       "    .dataframe tbody tr th {\n",
       "        vertical-align: top;\n",
       "    }\n",
       "\n",
       "    .dataframe thead th {\n",
       "        text-align: right;\n",
       "    }\n",
       "</style>\n",
       "<table border=\"1\" class=\"dataframe\">\n",
       "  <thead>\n",
       "    <tr style=\"text-align: right;\">\n",
       "      <th></th>\n",
       "      <th>name</th>\n",
       "      <th>region</th>\n",
       "      <th>vehicle_capacity</th>\n",
       "      <th>deliveries</th>\n",
       "      <th>hub_lng</th>\n",
       "      <th>hub_lat</th>\n",
       "    </tr>\n",
       "  </thead>\n",
       "  <tbody>\n",
       "    <tr>\n",
       "      <th>0</th>\n",
       "      <td>cvrp-2-df-33</td>\n",
       "      <td>df-2</td>\n",
       "      <td>180</td>\n",
       "      <td>[{'id': '313483a19d2f8d65cd5024c8d215cfbd', 'p...</td>\n",
       "      <td>-48.054989</td>\n",
       "      <td>-15.838145</td>\n",
       "    </tr>\n",
       "    <tr>\n",
       "      <th>1</th>\n",
       "      <td>cvrp-2-df-73</td>\n",
       "      <td>df-2</td>\n",
       "      <td>180</td>\n",
       "      <td>[{'id': 'bf3fc630b1c29601a4caf1bdd474b85', 'po...</td>\n",
       "      <td>-48.054989</td>\n",
       "      <td>-15.838145</td>\n",
       "    </tr>\n",
       "    <tr>\n",
       "      <th>2</th>\n",
       "      <td>cvrp-2-df-20</td>\n",
       "      <td>df-2</td>\n",
       "      <td>180</td>\n",
       "      <td>[{'id': 'b30f1145a2ba4e0b9ac0162b68d045c3', 'p...</td>\n",
       "      <td>-48.054989</td>\n",
       "      <td>-15.838145</td>\n",
       "    </tr>\n",
       "    <tr>\n",
       "      <th>3</th>\n",
       "      <td>cvrp-1-df-71</td>\n",
       "      <td>df-1</td>\n",
       "      <td>180</td>\n",
       "      <td>[{'id': 'be3ed547394196c12c7c27c89ac74ed6', 'p...</td>\n",
       "      <td>-47.893662</td>\n",
       "      <td>-15.805118</td>\n",
       "    </tr>\n",
       "    <tr>\n",
       "      <th>4</th>\n",
       "      <td>cvrp-2-df-87</td>\n",
       "      <td>df-2</td>\n",
       "      <td>180</td>\n",
       "      <td>[{'id': 'a6328fb4dc0654eb28a996a270b0f6e4', 'p...</td>\n",
       "      <td>-48.054989</td>\n",
       "      <td>-15.838145</td>\n",
       "    </tr>\n",
       "  </tbody>\n",
       "</table>\n",
       "</div>\n",
       "      <button class=\"colab-df-convert\" onclick=\"convertToInteractive('df-c3444739-d6f7-4255-ba12-218bb6ef6d23')\"\n",
       "              title=\"Convert this dataframe to an interactive table.\"\n",
       "              style=\"display:none;\">\n",
       "        \n",
       "  <svg xmlns=\"http://www.w3.org/2000/svg\" height=\"24px\"viewBox=\"0 0 24 24\"\n",
       "       width=\"24px\">\n",
       "    <path d=\"M0 0h24v24H0V0z\" fill=\"none\"/>\n",
       "    <path d=\"M18.56 5.44l.94 2.06.94-2.06 2.06-.94-2.06-.94-.94-2.06-.94 2.06-2.06.94zm-11 1L8.5 8.5l.94-2.06 2.06-.94-2.06-.94L8.5 2.5l-.94 2.06-2.06.94zm10 10l.94 2.06.94-2.06 2.06-.94-2.06-.94-.94-2.06-.94 2.06-2.06.94z\"/><path d=\"M17.41 7.96l-1.37-1.37c-.4-.4-.92-.59-1.43-.59-.52 0-1.04.2-1.43.59L10.3 9.45l-7.72 7.72c-.78.78-.78 2.05 0 2.83L4 21.41c.39.39.9.59 1.41.59.51 0 1.02-.2 1.41-.59l7.78-7.78 2.81-2.81c.8-.78.8-2.07 0-2.86zM5.41 20L4 18.59l7.72-7.72 1.47 1.35L5.41 20z\"/>\n",
       "  </svg>\n",
       "      </button>\n",
       "      \n",
       "  <style>\n",
       "    .colab-df-container {\n",
       "      display:flex;\n",
       "      flex-wrap:wrap;\n",
       "      gap: 12px;\n",
       "    }\n",
       "\n",
       "    .colab-df-convert {\n",
       "      background-color: #E8F0FE;\n",
       "      border: none;\n",
       "      border-radius: 50%;\n",
       "      cursor: pointer;\n",
       "      display: none;\n",
       "      fill: #1967D2;\n",
       "      height: 32px;\n",
       "      padding: 0 0 0 0;\n",
       "      width: 32px;\n",
       "    }\n",
       "\n",
       "    .colab-df-convert:hover {\n",
       "      background-color: #E2EBFA;\n",
       "      box-shadow: 0px 1px 2px rgba(60, 64, 67, 0.3), 0px 1px 3px 1px rgba(60, 64, 67, 0.15);\n",
       "      fill: #174EA6;\n",
       "    }\n",
       "\n",
       "    [theme=dark] .colab-df-convert {\n",
       "      background-color: #3B4455;\n",
       "      fill: #D2E3FC;\n",
       "    }\n",
       "\n",
       "    [theme=dark] .colab-df-convert:hover {\n",
       "      background-color: #434B5C;\n",
       "      box-shadow: 0px 1px 3px 1px rgba(0, 0, 0, 0.15);\n",
       "      filter: drop-shadow(0px 1px 2px rgba(0, 0, 0, 0.3));\n",
       "      fill: #FFFFFF;\n",
       "    }\n",
       "  </style>\n",
       "\n",
       "      <script>\n",
       "        const buttonEl =\n",
       "          document.querySelector('#df-c3444739-d6f7-4255-ba12-218bb6ef6d23 button.colab-df-convert');\n",
       "        buttonEl.style.display =\n",
       "          google.colab.kernel.accessAllowed ? 'block' : 'none';\n",
       "\n",
       "        async function convertToInteractive(key) {\n",
       "          const element = document.querySelector('#df-c3444739-d6f7-4255-ba12-218bb6ef6d23');\n",
       "          const dataTable =\n",
       "            await google.colab.kernel.invokeFunction('convertToInteractive',\n",
       "                                                     [key], {});\n",
       "          if (!dataTable) return;\n",
       "\n",
       "          const docLinkHtml = 'Like what you see? Visit the ' +\n",
       "            '<a target=\"_blank\" href=https://colab.research.google.com/notebooks/data_table.ipynb>data table notebook</a>'\n",
       "            + ' to learn more about interactive tables.';\n",
       "          element.innerHTML = '';\n",
       "          dataTable['output_type'] = 'display_data';\n",
       "          await google.colab.output.renderOutput(dataTable, element);\n",
       "          const docLink = document.createElement('div');\n",
       "          docLink.innerHTML = docLinkHtml;\n",
       "          element.appendChild(docLink);\n",
       "        }\n",
       "      </script>\n",
       "    </div>\n",
       "  </div>\n",
       "  "
      ],
      "text/plain": [
       "           name region  ...    hub_lng    hub_lat\n",
       "0  cvrp-2-df-33   df-2  ... -48.054989 -15.838145\n",
       "1  cvrp-2-df-73   df-2  ... -48.054989 -15.838145\n",
       "2  cvrp-2-df-20   df-2  ... -48.054989 -15.838145\n",
       "3  cvrp-1-df-71   df-1  ... -47.893662 -15.805118\n",
       "4  cvrp-2-df-87   df-2  ... -48.054989 -15.838145\n",
       "\n",
       "[5 rows x 6 columns]"
      ]
     },
     "execution_count": 5,
     "metadata": {},
     "output_type": "execute_result"
    }
   ],
   "source": [
    "# copia do df original\n",
    "deliveries_df = df.copy()\n",
    "\n",
    "deliveries_df = pd.merge(deliveries_df, origin_normalized, how='inner', left_index=True, right_index=True)\n",
    "\n",
    "deliveries_df.drop('origin', axis=1, inplace=True)\n",
    "deliveries_df.rename(columns={'lng': 'hub_lng', 'lat': 'hub_lat'}, inplace=True)\n",
    "deliveries_df.head()"
   ]
  },
  {
   "cell_type": "markdown",
   "metadata": {
    "id": "UhWeA5nuWAIf"
   },
   "source": [
    "Antes de tudo fiz uma cópia do dataframe original para preservá-lo e não precisar recarregá-lo por algum motivo.\n",
    "\n",
    "Após, é feito um merge do dataframe original e o com os dados de latitude e longitude normalizados, relacionados pelos índices. A coluna original origin é excluída por não se fazer mais necessário."
   ]
  },
  {
   "cell_type": "code",
   "execution_count": null,
   "metadata": {
    "colab": {
     "base_uri": "https://localhost:8080/",
     "height": 204
    },
    "executionInfo": {
     "elapsed": 1207,
     "status": "ok",
     "timestamp": 1643126767926,
     "user": {
      "displayName": "Pedro Sartoro",
      "photoUrl": "https://lh3.googleusercontent.com/a-/AOh14GgW0XBtdT2QXAMbCHjbuvidYUCNdUXOZL5KVQUh=s64",
      "userId": "12375826268682074049"
     },
     "user_tz": 180
    },
    "id": "drEVrhZYLqOF",
    "outputId": "0a33aaa0-206d-42c9-ea6b-314ced4ac183"
   },
   "outputs": [
    {
     "data": {
      "text/html": [
       "\n",
       "  <div id=\"df-7c4f60b8-c30a-45dd-80e6-433e25a673c3\">\n",
       "    <div class=\"colab-df-container\">\n",
       "      <div>\n",
       "<style scoped>\n",
       "    .dataframe tbody tr th:only-of-type {\n",
       "        vertical-align: middle;\n",
       "    }\n",
       "\n",
       "    .dataframe tbody tr th {\n",
       "        vertical-align: top;\n",
       "    }\n",
       "\n",
       "    .dataframe thead th {\n",
       "        text-align: right;\n",
       "    }\n",
       "</style>\n",
       "<table border=\"1\" class=\"dataframe\">\n",
       "  <thead>\n",
       "    <tr style=\"text-align: right;\">\n",
       "      <th></th>\n",
       "      <th>delivery_size</th>\n",
       "      <th>delivery_lng</th>\n",
       "      <th>delivery_lat</th>\n",
       "    </tr>\n",
       "  </thead>\n",
       "  <tbody>\n",
       "    <tr>\n",
       "      <th>0</th>\n",
       "      <td>9</td>\n",
       "      <td>-48.116189</td>\n",
       "      <td>-15.848929</td>\n",
       "    </tr>\n",
       "    <tr>\n",
       "      <th>0</th>\n",
       "      <td>2</td>\n",
       "      <td>-48.118195</td>\n",
       "      <td>-15.850772</td>\n",
       "    </tr>\n",
       "    <tr>\n",
       "      <th>0</th>\n",
       "      <td>1</td>\n",
       "      <td>-48.112483</td>\n",
       "      <td>-15.847871</td>\n",
       "    </tr>\n",
       "    <tr>\n",
       "      <th>0</th>\n",
       "      <td>2</td>\n",
       "      <td>-48.118023</td>\n",
       "      <td>-15.846471</td>\n",
       "    </tr>\n",
       "    <tr>\n",
       "      <th>0</th>\n",
       "      <td>7</td>\n",
       "      <td>-48.114898</td>\n",
       "      <td>-15.858055</td>\n",
       "    </tr>\n",
       "  </tbody>\n",
       "</table>\n",
       "</div>\n",
       "      <button class=\"colab-df-convert\" onclick=\"convertToInteractive('df-7c4f60b8-c30a-45dd-80e6-433e25a673c3')\"\n",
       "              title=\"Convert this dataframe to an interactive table.\"\n",
       "              style=\"display:none;\">\n",
       "        \n",
       "  <svg xmlns=\"http://www.w3.org/2000/svg\" height=\"24px\"viewBox=\"0 0 24 24\"\n",
       "       width=\"24px\">\n",
       "    <path d=\"M0 0h24v24H0V0z\" fill=\"none\"/>\n",
       "    <path d=\"M18.56 5.44l.94 2.06.94-2.06 2.06-.94-2.06-.94-.94-2.06-.94 2.06-2.06.94zm-11 1L8.5 8.5l.94-2.06 2.06-.94-2.06-.94L8.5 2.5l-.94 2.06-2.06.94zm10 10l.94 2.06.94-2.06 2.06-.94-2.06-.94-.94-2.06-.94 2.06-2.06.94z\"/><path d=\"M17.41 7.96l-1.37-1.37c-.4-.4-.92-.59-1.43-.59-.52 0-1.04.2-1.43.59L10.3 9.45l-7.72 7.72c-.78.78-.78 2.05 0 2.83L4 21.41c.39.39.9.59 1.41.59.51 0 1.02-.2 1.41-.59l7.78-7.78 2.81-2.81c.8-.78.8-2.07 0-2.86zM5.41 20L4 18.59l7.72-7.72 1.47 1.35L5.41 20z\"/>\n",
       "  </svg>\n",
       "      </button>\n",
       "      \n",
       "  <style>\n",
       "    .colab-df-container {\n",
       "      display:flex;\n",
       "      flex-wrap:wrap;\n",
       "      gap: 12px;\n",
       "    }\n",
       "\n",
       "    .colab-df-convert {\n",
       "      background-color: #E8F0FE;\n",
       "      border: none;\n",
       "      border-radius: 50%;\n",
       "      cursor: pointer;\n",
       "      display: none;\n",
       "      fill: #1967D2;\n",
       "      height: 32px;\n",
       "      padding: 0 0 0 0;\n",
       "      width: 32px;\n",
       "    }\n",
       "\n",
       "    .colab-df-convert:hover {\n",
       "      background-color: #E2EBFA;\n",
       "      box-shadow: 0px 1px 2px rgba(60, 64, 67, 0.3), 0px 1px 3px 1px rgba(60, 64, 67, 0.15);\n",
       "      fill: #174EA6;\n",
       "    }\n",
       "\n",
       "    [theme=dark] .colab-df-convert {\n",
       "      background-color: #3B4455;\n",
       "      fill: #D2E3FC;\n",
       "    }\n",
       "\n",
       "    [theme=dark] .colab-df-convert:hover {\n",
       "      background-color: #434B5C;\n",
       "      box-shadow: 0px 1px 3px 1px rgba(0, 0, 0, 0.15);\n",
       "      filter: drop-shadow(0px 1px 2px rgba(0, 0, 0, 0.3));\n",
       "      fill: #FFFFFF;\n",
       "    }\n",
       "  </style>\n",
       "\n",
       "      <script>\n",
       "        const buttonEl =\n",
       "          document.querySelector('#df-7c4f60b8-c30a-45dd-80e6-433e25a673c3 button.colab-df-convert');\n",
       "        buttonEl.style.display =\n",
       "          google.colab.kernel.accessAllowed ? 'block' : 'none';\n",
       "\n",
       "        async function convertToInteractive(key) {\n",
       "          const element = document.querySelector('#df-7c4f60b8-c30a-45dd-80e6-433e25a673c3');\n",
       "          const dataTable =\n",
       "            await google.colab.kernel.invokeFunction('convertToInteractive',\n",
       "                                                     [key], {});\n",
       "          if (!dataTable) return;\n",
       "\n",
       "          const docLinkHtml = 'Like what you see? Visit the ' +\n",
       "            '<a target=\"_blank\" href=https://colab.research.google.com/notebooks/data_table.ipynb>data table notebook</a>'\n",
       "            + ' to learn more about interactive tables.';\n",
       "          element.innerHTML = '';\n",
       "          dataTable['output_type'] = 'display_data';\n",
       "          await google.colab.output.renderOutput(dataTable, element);\n",
       "          const docLink = document.createElement('div');\n",
       "          docLink.innerHTML = docLinkHtml;\n",
       "          element.appendChild(docLink);\n",
       "        }\n",
       "      </script>\n",
       "    </div>\n",
       "  </div>\n",
       "  "
      ],
      "text/plain": [
       "   delivery_size  delivery_lng  delivery_lat\n",
       "0              9    -48.116189    -15.848929\n",
       "0              2    -48.118195    -15.850772\n",
       "0              1    -48.112483    -15.847871\n",
       "0              2    -48.118023    -15.846471\n",
       "0              7    -48.114898    -15.858055"
      ]
     },
     "execution_count": 6,
     "metadata": {},
     "output_type": "execute_result"
    }
   ],
   "source": [
    "# explode a coluna deliveries\n",
    "deliveries_exploded = deliveries_df[['deliveries']].explode('deliveries')\n",
    "\n",
    "deliveries_normalized = pd.concat([\n",
    "    pd.DataFrame(deliveries_exploded.deliveries.apply(lambda x: x['size'])) \\\n",
    "    .rename(columns={'deliveries': 'delivery_size'}),\n",
    "    pd.DataFrame(deliveries_exploded.deliveries.apply(lambda x: x['point']['lng'])) \\\n",
    "    .rename(columns={'deliveries': 'delivery_lng'}),\n",
    "    pd.DataFrame(deliveries_exploded.deliveries.apply(lambda x: x['point']['lat'])) \\\n",
    "    .rename(columns={'deliveries': 'delivery_lat'})\n",
    "], axis=1)\n",
    "\n",
    "deliveries_normalized.head()"
   ]
  },
  {
   "cell_type": "markdown",
   "metadata": {
    "id": "-YxPLYA6WuBq"
   },
   "source": [
    "Com a coluna deliveries é mais complexo, uma vez que o nível de profundidade é um pouco diferente da coluna origin. Com o método explode() do Pandas, os dados são separados em linhas. São criados três dataframes para os dados size, longitude e latitude das entregas e concatenados. Após esse processo, cada linha foi tratada e temos um dataframe com os dados das entregas."
   ]
  },
  {
   "cell_type": "code",
   "execution_count": null,
   "metadata": {
    "colab": {
     "base_uri": "https://localhost:8080/",
     "height": 204
    },
    "executionInfo": {
     "elapsed": 255,
     "status": "ok",
     "timestamp": 1643126773159,
     "user": {
      "displayName": "Pedro Sartoro",
      "photoUrl": "https://lh3.googleusercontent.com/a-/AOh14GgW0XBtdT2QXAMbCHjbuvidYUCNdUXOZL5KVQUh=s64",
      "userId": "12375826268682074049"
     },
     "user_tz": 180
    },
    "id": "OKtC6EHoLzLl",
    "outputId": "1dc63782-6a78-46a2-f85b-b24d66637052"
   },
   "outputs": [
    {
     "data": {
      "text/html": [
       "\n",
       "  <div id=\"df-2996bf57-6c4a-477d-85f2-9fac8e9b016b\">\n",
       "    <div class=\"colab-df-container\">\n",
       "      <div>\n",
       "<style scoped>\n",
       "    .dataframe tbody tr th:only-of-type {\n",
       "        vertical-align: middle;\n",
       "    }\n",
       "\n",
       "    .dataframe tbody tr th {\n",
       "        vertical-align: top;\n",
       "    }\n",
       "\n",
       "    .dataframe thead th {\n",
       "        text-align: right;\n",
       "    }\n",
       "</style>\n",
       "<table border=\"1\" class=\"dataframe\">\n",
       "  <thead>\n",
       "    <tr style=\"text-align: right;\">\n",
       "      <th></th>\n",
       "      <th>name</th>\n",
       "      <th>region</th>\n",
       "      <th>vehicle_capacity</th>\n",
       "      <th>hub_lng</th>\n",
       "      <th>hub_lat</th>\n",
       "      <th>delivery_size</th>\n",
       "      <th>delivery_lng</th>\n",
       "      <th>delivery_lat</th>\n",
       "    </tr>\n",
       "  </thead>\n",
       "  <tbody>\n",
       "    <tr>\n",
       "      <th>0</th>\n",
       "      <td>cvrp-2-df-33</td>\n",
       "      <td>df-2</td>\n",
       "      <td>180</td>\n",
       "      <td>-48.054989</td>\n",
       "      <td>-15.838145</td>\n",
       "      <td>9</td>\n",
       "      <td>-48.116189</td>\n",
       "      <td>-15.848929</td>\n",
       "    </tr>\n",
       "    <tr>\n",
       "      <th>1</th>\n",
       "      <td>cvrp-2-df-33</td>\n",
       "      <td>df-2</td>\n",
       "      <td>180</td>\n",
       "      <td>-48.054989</td>\n",
       "      <td>-15.838145</td>\n",
       "      <td>2</td>\n",
       "      <td>-48.118195</td>\n",
       "      <td>-15.850772</td>\n",
       "    </tr>\n",
       "    <tr>\n",
       "      <th>2</th>\n",
       "      <td>cvrp-2-df-33</td>\n",
       "      <td>df-2</td>\n",
       "      <td>180</td>\n",
       "      <td>-48.054989</td>\n",
       "      <td>-15.838145</td>\n",
       "      <td>1</td>\n",
       "      <td>-48.112483</td>\n",
       "      <td>-15.847871</td>\n",
       "    </tr>\n",
       "    <tr>\n",
       "      <th>3</th>\n",
       "      <td>cvrp-2-df-33</td>\n",
       "      <td>df-2</td>\n",
       "      <td>180</td>\n",
       "      <td>-48.054989</td>\n",
       "      <td>-15.838145</td>\n",
       "      <td>2</td>\n",
       "      <td>-48.118023</td>\n",
       "      <td>-15.846471</td>\n",
       "    </tr>\n",
       "    <tr>\n",
       "      <th>4</th>\n",
       "      <td>cvrp-2-df-33</td>\n",
       "      <td>df-2</td>\n",
       "      <td>180</td>\n",
       "      <td>-48.054989</td>\n",
       "      <td>-15.838145</td>\n",
       "      <td>7</td>\n",
       "      <td>-48.114898</td>\n",
       "      <td>-15.858055</td>\n",
       "    </tr>\n",
       "  </tbody>\n",
       "</table>\n",
       "</div>\n",
       "      <button class=\"colab-df-convert\" onclick=\"convertToInteractive('df-2996bf57-6c4a-477d-85f2-9fac8e9b016b')\"\n",
       "              title=\"Convert this dataframe to an interactive table.\"\n",
       "              style=\"display:none;\">\n",
       "        \n",
       "  <svg xmlns=\"http://www.w3.org/2000/svg\" height=\"24px\"viewBox=\"0 0 24 24\"\n",
       "       width=\"24px\">\n",
       "    <path d=\"M0 0h24v24H0V0z\" fill=\"none\"/>\n",
       "    <path d=\"M18.56 5.44l.94 2.06.94-2.06 2.06-.94-2.06-.94-.94-2.06-.94 2.06-2.06.94zm-11 1L8.5 8.5l.94-2.06 2.06-.94-2.06-.94L8.5 2.5l-.94 2.06-2.06.94zm10 10l.94 2.06.94-2.06 2.06-.94-2.06-.94-.94-2.06-.94 2.06-2.06.94z\"/><path d=\"M17.41 7.96l-1.37-1.37c-.4-.4-.92-.59-1.43-.59-.52 0-1.04.2-1.43.59L10.3 9.45l-7.72 7.72c-.78.78-.78 2.05 0 2.83L4 21.41c.39.39.9.59 1.41.59.51 0 1.02-.2 1.41-.59l7.78-7.78 2.81-2.81c.8-.78.8-2.07 0-2.86zM5.41 20L4 18.59l7.72-7.72 1.47 1.35L5.41 20z\"/>\n",
       "  </svg>\n",
       "      </button>\n",
       "      \n",
       "  <style>\n",
       "    .colab-df-container {\n",
       "      display:flex;\n",
       "      flex-wrap:wrap;\n",
       "      gap: 12px;\n",
       "    }\n",
       "\n",
       "    .colab-df-convert {\n",
       "      background-color: #E8F0FE;\n",
       "      border: none;\n",
       "      border-radius: 50%;\n",
       "      cursor: pointer;\n",
       "      display: none;\n",
       "      fill: #1967D2;\n",
       "      height: 32px;\n",
       "      padding: 0 0 0 0;\n",
       "      width: 32px;\n",
       "    }\n",
       "\n",
       "    .colab-df-convert:hover {\n",
       "      background-color: #E2EBFA;\n",
       "      box-shadow: 0px 1px 2px rgba(60, 64, 67, 0.3), 0px 1px 3px 1px rgba(60, 64, 67, 0.15);\n",
       "      fill: #174EA6;\n",
       "    }\n",
       "\n",
       "    [theme=dark] .colab-df-convert {\n",
       "      background-color: #3B4455;\n",
       "      fill: #D2E3FC;\n",
       "    }\n",
       "\n",
       "    [theme=dark] .colab-df-convert:hover {\n",
       "      background-color: #434B5C;\n",
       "      box-shadow: 0px 1px 3px 1px rgba(0, 0, 0, 0.15);\n",
       "      filter: drop-shadow(0px 1px 2px rgba(0, 0, 0, 0.3));\n",
       "      fill: #FFFFFF;\n",
       "    }\n",
       "  </style>\n",
       "\n",
       "      <script>\n",
       "        const buttonEl =\n",
       "          document.querySelector('#df-2996bf57-6c4a-477d-85f2-9fac8e9b016b button.colab-df-convert');\n",
       "        buttonEl.style.display =\n",
       "          google.colab.kernel.accessAllowed ? 'block' : 'none';\n",
       "\n",
       "        async function convertToInteractive(key) {\n",
       "          const element = document.querySelector('#df-2996bf57-6c4a-477d-85f2-9fac8e9b016b');\n",
       "          const dataTable =\n",
       "            await google.colab.kernel.invokeFunction('convertToInteractive',\n",
       "                                                     [key], {});\n",
       "          if (!dataTable) return;\n",
       "\n",
       "          const docLinkHtml = 'Like what you see? Visit the ' +\n",
       "            '<a target=\"_blank\" href=https://colab.research.google.com/notebooks/data_table.ipynb>data table notebook</a>'\n",
       "            + ' to learn more about interactive tables.';\n",
       "          element.innerHTML = '';\n",
       "          dataTable['output_type'] = 'display_data';\n",
       "          await google.colab.output.renderOutput(dataTable, element);\n",
       "          const docLink = document.createElement('div');\n",
       "          docLink.innerHTML = docLinkHtml;\n",
       "          element.appendChild(docLink);\n",
       "        }\n",
       "      </script>\n",
       "    </div>\n",
       "  </div>\n",
       "  "
      ],
      "text/plain": [
       "           name region  ...  delivery_lng  delivery_lat\n",
       "0  cvrp-2-df-33   df-2  ...    -48.116189    -15.848929\n",
       "1  cvrp-2-df-33   df-2  ...    -48.118195    -15.850772\n",
       "2  cvrp-2-df-33   df-2  ...    -48.112483    -15.847871\n",
       "3  cvrp-2-df-33   df-2  ...    -48.118023    -15.846471\n",
       "4  cvrp-2-df-33   df-2  ...    -48.114898    -15.858055\n",
       "\n",
       "[5 rows x 8 columns]"
      ]
     },
     "execution_count": 7,
     "metadata": {},
     "output_type": "execute_result"
    }
   ],
   "source": [
    "deliveries_df.drop('deliveries', axis=1, inplace=True)\n",
    "deliveries_df = pd.merge(deliveries_df, deliveries_normalized, how='right', left_index=True, right_index=True)\n",
    "deliveries_df.reset_index(inplace=True, drop=True)\n",
    "deliveries_df.head()"
   ]
  },
  {
   "cell_type": "markdown",
   "metadata": {
    "id": "ULnpIgK5ZuCM"
   },
   "source": [
    "Após o tratamento da coluna deliveries, ela é elimindada e os dataframes são unidos pelo índice. Agora, cada hub, que é o centro de ditribuição das entregas, está relacionado não só com os veículos mas também com as entregas."
   ]
  },
  {
   "cell_type": "code",
   "execution_count": null,
   "metadata": {
    "colab": {
     "base_uri": "https://localhost:8080/"
    },
    "executionInfo": {
     "elapsed": 693,
     "status": "ok",
     "timestamp": 1643126783793,
     "user": {
      "displayName": "Pedro Sartoro",
      "photoUrl": "https://lh3.googleusercontent.com/a-/AOh14GgW0XBtdT2QXAMbCHjbuvidYUCNdUXOZL5KVQUh=s64",
      "userId": "12375826268682074049"
     },
     "user_tz": 180
    },
    "id": "w2r4naaQL6o3",
    "outputId": "daf8d331-7c18-4e45-b715-3c7649795b6c"
   },
   "outputs": [
    {
     "data": {
      "text/plain": [
       "636149"
      ]
     },
     "execution_count": 8,
     "metadata": {},
     "output_type": "execute_result"
    }
   ],
   "source": [
    "len(deliveries_df)"
   ]
  },
  {
   "cell_type": "markdown",
   "metadata": {
    "id": "Cb791uCnaY3E"
   },
   "source": [
    "O dataframe ficou bem grande devido a \"explosão\" da coluna deliveries, que antes era um lista de dicionários das entregas."
   ]
  },
  {
   "cell_type": "code",
   "execution_count": null,
   "metadata": {
    "id": "6PrfM0_tL7J3"
   },
   "outputs": [],
   "source": [
    "deliveries_df.to_csv('deliveries.csv', sep=';')"
   ]
  },
  {
   "cell_type": "markdown",
   "metadata": {
    "id": "zRPYnp5wanwd"
   },
   "source": [
    "Salvei o dataframe em um csv para não precisar refazer todo o tratamento, se for necessário, bastando apenas carregar o csv."
   ]
  },
  {
   "cell_type": "markdown",
   "metadata": {
    "id": "_rc9-TKOMDJf"
   },
   "source": [
    "###**Análise Exploratória dos Dados**"
   ]
  },
  {
   "cell_type": "code",
   "execution_count": null,
   "metadata": {
    "colab": {
     "base_uri": "https://localhost:8080/"
    },
    "executionInfo": {
     "elapsed": 248,
     "status": "ok",
     "timestamp": 1643126793618,
     "user": {
      "displayName": "Pedro Sartoro",
      "photoUrl": "https://lh3.googleusercontent.com/a-/AOh14GgW0XBtdT2QXAMbCHjbuvidYUCNdUXOZL5KVQUh=s64",
      "userId": "12375826268682074049"
     },
     "user_tz": 180
    },
    "id": "J0ea9b7hMA2s",
    "outputId": "1f969091-1a6e-4ace-8631-9700e00fa4fc"
   },
   "outputs": [
    {
     "name": "stdout",
     "output_type": "stream",
     "text": [
      "\n",
      "Tamanho do DataFrame\n",
      "Linhas: 636149\n",
      "Colunas: 8\n",
      "\n"
     ]
    }
   ],
   "source": [
    "linhas, colunas = deliveries_df.shape\n",
    "print(f'\\nTamanho do DataFrame\\nLinhas: {linhas}\\nColunas: {colunas}\\n'\u001c",
    ")"
   ]
  },
  {
   "cell_type": "markdown",
   "metadata": {
    "id": "Qu87QyK1a3C3"
   },
   "source": [
    "Como dito antes, o dataframe ficou bem grande após a transformação da coluna deliveries em linhas, relacionando cada entrega a seu hub."
   ]
  },
  {
   "cell_type": "code",
   "execution_count": null,
   "metadata": {
    "colab": {
     "base_uri": "https://localhost:8080/"
    },
    "executionInfo": {
     "elapsed": 382,
     "status": "ok",
     "timestamp": 1643126798179,
     "user": {
      "displayName": "Pedro Sartoro",
      "photoUrl": "https://lh3.googleusercontent.com/a-/AOh14GgW0XBtdT2QXAMbCHjbuvidYUCNdUXOZL5KVQUh=s64",
      "userId": "12375826268682074049"
     },
     "user_tz": 180
    },
    "id": "pFmWFnIlMgM7",
    "outputId": "5a2c982a-f520-4dca-92a2-2b60a7326e16"
   },
   "outputs": [
    {
     "name": "stdout",
     "output_type": "stream",
     "text": [
      "<class 'pandas.core.frame.DataFrame'>\n",
      "RangeIndex: 636149 entries, 0 to 636148\n",
      "Data columns (total 8 columns):\n",
      " #   Column            Non-Null Count   Dtype  \n",
      "---  ------            --------------   -----  \n",
      " 0   name              636149 non-null  object \n",
      " 1   region            636149 non-null  object \n",
      " 2   vehicle_capacity  636149 non-null  int64  \n",
      " 3   hub_lng           636149 non-null  float64\n",
      " 4   hub_lat           636149 non-null  float64\n",
      " 5   delivery_size     636149 non-null  int64  \n",
      " 6   delivery_lng      636149 non-null  float64\n",
      " 7   delivery_lat      636149 non-null  float64\n",
      "dtypes: float64(4), int64(2), object(2)\n",
      "memory usage: 38.8+ MB\n"
     ]
    }
   ],
   "source": [
    "deliveries_df.info()"
   ]
  },
  {
   "cell_type": "markdown",
   "metadata": {
    "id": "VobghWlxbOfT"
   },
   "source": [
    "Agora é possível analisar os dados. Não existem dado nulos. Basicamente, o dataframe é composto por dados float e int, onde apenas name e region são strings."
   ]
  },
  {
   "cell_type": "code",
   "execution_count": null,
   "metadata": {
    "colab": {
     "base_uri": "https://localhost:8080/",
     "height": 111
    },
    "executionInfo": {
     "elapsed": 588,
     "status": "ok",
     "timestamp": 1643126805682,
     "user": {
      "displayName": "Pedro Sartoro",
      "photoUrl": "https://lh3.googleusercontent.com/a-/AOh14GgW0XBtdT2QXAMbCHjbuvidYUCNdUXOZL5KVQUh=s64",
      "userId": "12375826268682074049"
     },
     "user_tz": 180
    },
    "id": "bcWskOqpMgsg",
    "outputId": "0cf0bbde-9995-4ad8-f8a1-f65055252a2e"
   },
   "outputs": [
    {
     "data": {
      "text/html": [
       "\n",
       "  <div id=\"df-f044fd7b-1bc5-428b-8127-4e43dcfa4be7\">\n",
       "    <div class=\"colab-df-container\">\n",
       "      <div>\n",
       "<style scoped>\n",
       "    .dataframe tbody tr th:only-of-type {\n",
       "        vertical-align: middle;\n",
       "    }\n",
       "\n",
       "    .dataframe tbody tr th {\n",
       "        vertical-align: top;\n",
       "    }\n",
       "\n",
       "    .dataframe thead th {\n",
       "        text-align: right;\n",
       "    }\n",
       "</style>\n",
       "<table border=\"1\" class=\"dataframe\">\n",
       "  <thead>\n",
       "    <tr style=\"text-align: right;\">\n",
       "      <th></th>\n",
       "      <th>count</th>\n",
       "      <th>unique</th>\n",
       "      <th>top</th>\n",
       "      <th>freq</th>\n",
       "    </tr>\n",
       "  </thead>\n",
       "  <tbody>\n",
       "    <tr>\n",
       "      <th>name</th>\n",
       "      <td>636149</td>\n",
       "      <td>199</td>\n",
       "      <td>cvrp-1-df-87</td>\n",
       "      <td>5636</td>\n",
       "    </tr>\n",
       "    <tr>\n",
       "      <th>region</th>\n",
       "      <td>636149</td>\n",
       "      <td>3</td>\n",
       "      <td>df-1</td>\n",
       "      <td>304708</td>\n",
       "    </tr>\n",
       "  </tbody>\n",
       "</table>\n",
       "</div>\n",
       "      <button class=\"colab-df-convert\" onclick=\"convertToInteractive('df-f044fd7b-1bc5-428b-8127-4e43dcfa4be7')\"\n",
       "              title=\"Convert this dataframe to an interactive table.\"\n",
       "              style=\"display:none;\">\n",
       "        \n",
       "  <svg xmlns=\"http://www.w3.org/2000/svg\" height=\"24px\"viewBox=\"0 0 24 24\"\n",
       "       width=\"24px\">\n",
       "    <path d=\"M0 0h24v24H0V0z\" fill=\"none\"/>\n",
       "    <path d=\"M18.56 5.44l.94 2.06.94-2.06 2.06-.94-2.06-.94-.94-2.06-.94 2.06-2.06.94zm-11 1L8.5 8.5l.94-2.06 2.06-.94-2.06-.94L8.5 2.5l-.94 2.06-2.06.94zm10 10l.94 2.06.94-2.06 2.06-.94-2.06-.94-.94-2.06-.94 2.06-2.06.94z\"/><path d=\"M17.41 7.96l-1.37-1.37c-.4-.4-.92-.59-1.43-.59-.52 0-1.04.2-1.43.59L10.3 9.45l-7.72 7.72c-.78.78-.78 2.05 0 2.83L4 21.41c.39.39.9.59 1.41.59.51 0 1.02-.2 1.41-.59l7.78-7.78 2.81-2.81c.8-.78.8-2.07 0-2.86zM5.41 20L4 18.59l7.72-7.72 1.47 1.35L5.41 20z\"/>\n",
       "  </svg>\n",
       "      </button>\n",
       "      \n",
       "  <style>\n",
       "    .colab-df-container {\n",
       "      display:flex;\n",
       "      flex-wrap:wrap;\n",
       "      gap: 12px;\n",
       "    }\n",
       "\n",
       "    .colab-df-convert {\n",
       "      background-color: #E8F0FE;\n",
       "      border: none;\n",
       "      border-radius: 50%;\n",
       "      cursor: pointer;\n",
       "      display: none;\n",
       "      fill: #1967D2;\n",
       "      height: 32px;\n",
       "      padding: 0 0 0 0;\n",
       "      width: 32px;\n",
       "    }\n",
       "\n",
       "    .colab-df-convert:hover {\n",
       "      background-color: #E2EBFA;\n",
       "      box-shadow: 0px 1px 2px rgba(60, 64, 67, 0.3), 0px 1px 3px 1px rgba(60, 64, 67, 0.15);\n",
       "      fill: #174EA6;\n",
       "    }\n",
       "\n",
       "    [theme=dark] .colab-df-convert {\n",
       "      background-color: #3B4455;\n",
       "      fill: #D2E3FC;\n",
       "    }\n",
       "\n",
       "    [theme=dark] .colab-df-convert:hover {\n",
       "      background-color: #434B5C;\n",
       "      box-shadow: 0px 1px 3px 1px rgba(0, 0, 0, 0.15);\n",
       "      filter: drop-shadow(0px 1px 2px rgba(0, 0, 0, 0.3));\n",
       "      fill: #FFFFFF;\n",
       "    }\n",
       "  </style>\n",
       "\n",
       "      <script>\n",
       "        const buttonEl =\n",
       "          document.querySelector('#df-f044fd7b-1bc5-428b-8127-4e43dcfa4be7 button.colab-df-convert');\n",
       "        buttonEl.style.display =\n",
       "          google.colab.kernel.accessAllowed ? 'block' : 'none';\n",
       "\n",
       "        async function convertToInteractive(key) {\n",
       "          const element = document.querySelector('#df-f044fd7b-1bc5-428b-8127-4e43dcfa4be7');\n",
       "          const dataTable =\n",
       "            await google.colab.kernel.invokeFunction('convertToInteractive',\n",
       "                                                     [key], {});\n",
       "          if (!dataTable) return;\n",
       "\n",
       "          const docLinkHtml = 'Like what you see? Visit the ' +\n",
       "            '<a target=\"_blank\" href=https://colab.research.google.com/notebooks/data_table.ipynb>data table notebook</a>'\n",
       "            + ' to learn more about interactive tables.';\n",
       "          element.innerHTML = '';\n",
       "          dataTable['output_type'] = 'display_data';\n",
       "          await google.colab.output.renderOutput(dataTable, element);\n",
       "          const docLink = document.createElement('div');\n",
       "          docLink.innerHTML = docLinkHtml;\n",
       "          element.appendChild(docLink);\n",
       "        }\n",
       "      </script>\n",
       "    </div>\n",
       "  </div>\n",
       "  "
      ],
      "text/plain": [
       "         count unique           top    freq\n",
       "name    636149    199  cvrp-1-df-87    5636\n",
       "region  636149      3          df-1  304708"
      ]
     },
     "execution_count": 12,
     "metadata": {},
     "output_type": "execute_result"
    }
   ],
   "source": [
    "# dados categoricos\n",
    "deliveries_df.select_dtypes('object').describe().T"
   ]
  },
  {
   "cell_type": "markdown",
   "metadata": {
    "id": "cyGdl24Dbctq"
   },
   "source": [
    "Separando os dados categóricos, vemos que a contagem de linhas bate, onde a coluna name possui 199 dados únicos, assim como no dataframe original, antes de tratarmos a coluna deliveries. São 3 hubs ao todo. O hub cvrp-1-df-87\té o mais frequente, assim como a região df-1, que também concentra a maioria das entregas."
   ]
  },
  {
   "cell_type": "code",
   "execution_count": null,
   "metadata": {
    "colab": {
     "base_uri": "https://localhost:8080/",
     "height": 111
    },
    "executionInfo": {
     "elapsed": 291,
     "status": "ok",
     "timestamp": 1643126808715,
     "user": {
      "displayName": "Pedro Sartoro",
      "photoUrl": "https://lh3.googleusercontent.com/a-/AOh14GgW0XBtdT2QXAMbCHjbuvidYUCNdUXOZL5KVQUh=s64",
      "userId": "12375826268682074049"
     },
     "user_tz": 180
    },
    "id": "w4mvbx6OMjzx",
    "outputId": "18e787d5-a6e1-437f-c4f9-fde5a2935a15"
   },
   "outputs": [
    {
     "data": {
      "text/html": [
       "\n",
       "  <div id=\"df-767dd9f6-4f2b-4d1b-aee2-d3d6fc03a8fe\">\n",
       "    <div class=\"colab-df-container\">\n",
       "      <div>\n",
       "<style scoped>\n",
       "    .dataframe tbody tr th:only-of-type {\n",
       "        vertical-align: middle;\n",
       "    }\n",
       "\n",
       "    .dataframe tbody tr th {\n",
       "        vertical-align: top;\n",
       "    }\n",
       "\n",
       "    .dataframe thead th {\n",
       "        text-align: right;\n",
       "    }\n",
       "</style>\n",
       "<table border=\"1\" class=\"dataframe\">\n",
       "  <thead>\n",
       "    <tr style=\"text-align: right;\">\n",
       "      <th></th>\n",
       "      <th>count</th>\n",
       "      <th>mean</th>\n",
       "      <th>std</th>\n",
       "      <th>min</th>\n",
       "      <th>25%</th>\n",
       "      <th>50%</th>\n",
       "      <th>75%</th>\n",
       "      <th>max</th>\n",
       "    </tr>\n",
       "  </thead>\n",
       "  <tbody>\n",
       "    <tr>\n",
       "      <th>vehicle_capacity</th>\n",
       "      <td>636149.0</td>\n",
       "      <td>180.000000</td>\n",
       "      <td>0.000000</td>\n",
       "      <td>180.0</td>\n",
       "      <td>180.0</td>\n",
       "      <td>180.0</td>\n",
       "      <td>180.0</td>\n",
       "      <td>180.0</td>\n",
       "    </tr>\n",
       "    <tr>\n",
       "      <th>delivery_size</th>\n",
       "      <td>636149.0</td>\n",
       "      <td>5.512111</td>\n",
       "      <td>2.874557</td>\n",
       "      <td>1.0</td>\n",
       "      <td>3.0</td>\n",
       "      <td>6.0</td>\n",
       "      <td>8.0</td>\n",
       "      <td>10.0</td>\n",
       "    </tr>\n",
       "  </tbody>\n",
       "</table>\n",
       "</div>\n",
       "      <button class=\"colab-df-convert\" onclick=\"convertToInteractive('df-767dd9f6-4f2b-4d1b-aee2-d3d6fc03a8fe')\"\n",
       "              title=\"Convert this dataframe to an interactive table.\"\n",
       "              style=\"display:none;\">\n",
       "        \n",
       "  <svg xmlns=\"http://www.w3.org/2000/svg\" height=\"24px\"viewBox=\"0 0 24 24\"\n",
       "       width=\"24px\">\n",
       "    <path d=\"M0 0h24v24H0V0z\" fill=\"none\"/>\n",
       "    <path d=\"M18.56 5.44l.94 2.06.94-2.06 2.06-.94-2.06-.94-.94-2.06-.94 2.06-2.06.94zm-11 1L8.5 8.5l.94-2.06 2.06-.94-2.06-.94L8.5 2.5l-.94 2.06-2.06.94zm10 10l.94 2.06.94-2.06 2.06-.94-2.06-.94-.94-2.06-.94 2.06-2.06.94z\"/><path d=\"M17.41 7.96l-1.37-1.37c-.4-.4-.92-.59-1.43-.59-.52 0-1.04.2-1.43.59L10.3 9.45l-7.72 7.72c-.78.78-.78 2.05 0 2.83L4 21.41c.39.39.9.59 1.41.59.51 0 1.02-.2 1.41-.59l7.78-7.78 2.81-2.81c.8-.78.8-2.07 0-2.86zM5.41 20L4 18.59l7.72-7.72 1.47 1.35L5.41 20z\"/>\n",
       "  </svg>\n",
       "      </button>\n",
       "      \n",
       "  <style>\n",
       "    .colab-df-container {\n",
       "      display:flex;\n",
       "      flex-wrap:wrap;\n",
       "      gap: 12px;\n",
       "    }\n",
       "\n",
       "    .colab-df-convert {\n",
       "      background-color: #E8F0FE;\n",
       "      border: none;\n",
       "      border-radius: 50%;\n",
       "      cursor: pointer;\n",
       "      display: none;\n",
       "      fill: #1967D2;\n",
       "      height: 32px;\n",
       "      padding: 0 0 0 0;\n",
       "      width: 32px;\n",
       "    }\n",
       "\n",
       "    .colab-df-convert:hover {\n",
       "      background-color: #E2EBFA;\n",
       "      box-shadow: 0px 1px 2px rgba(60, 64, 67, 0.3), 0px 1px 3px 1px rgba(60, 64, 67, 0.15);\n",
       "      fill: #174EA6;\n",
       "    }\n",
       "\n",
       "    [theme=dark] .colab-df-convert {\n",
       "      background-color: #3B4455;\n",
       "      fill: #D2E3FC;\n",
       "    }\n",
       "\n",
       "    [theme=dark] .colab-df-convert:hover {\n",
       "      background-color: #434B5C;\n",
       "      box-shadow: 0px 1px 3px 1px rgba(0, 0, 0, 0.15);\n",
       "      filter: drop-shadow(0px 1px 2px rgba(0, 0, 0, 0.3));\n",
       "      fill: #FFFFFF;\n",
       "    }\n",
       "  </style>\n",
       "\n",
       "      <script>\n",
       "        const buttonEl =\n",
       "          document.querySelector('#df-767dd9f6-4f2b-4d1b-aee2-d3d6fc03a8fe button.colab-df-convert');\n",
       "        buttonEl.style.display =\n",
       "          google.colab.kernel.accessAllowed ? 'block' : 'none';\n",
       "\n",
       "        async function convertToInteractive(key) {\n",
       "          const element = document.querySelector('#df-767dd9f6-4f2b-4d1b-aee2-d3d6fc03a8fe');\n",
       "          const dataTable =\n",
       "            await google.colab.kernel.invokeFunction('convertToInteractive',\n",
       "                                                     [key], {});\n",
       "          if (!dataTable) return;\n",
       "\n",
       "          const docLinkHtml = 'Like what you see? Visit the ' +\n",
       "            '<a target=\"_blank\" href=https://colab.research.google.com/notebooks/data_table.ipynb>data table notebook</a>'\n",
       "            + ' to learn more about interactive tables.';\n",
       "          element.innerHTML = '';\n",
       "          dataTable['output_type'] = 'display_data';\n",
       "          await google.colab.output.renderOutput(dataTable, element);\n",
       "          const docLink = document.createElement('div');\n",
       "          docLink.innerHTML = docLinkHtml;\n",
       "          element.appendChild(docLink);\n",
       "        }\n",
       "      </script>\n",
       "    </div>\n",
       "  </div>\n",
       "  "
      ],
      "text/plain": [
       "                     count        mean       std  ...    50%    75%    max\n",
       "vehicle_capacity  636149.0  180.000000  0.000000  ...  180.0  180.0  180.0\n",
       "delivery_size     636149.0    5.512111  2.874557  ...    6.0    8.0   10.0\n",
       "\n",
       "[2 rows x 8 columns]"
      ]
     },
     "execution_count": 13,
     "metadata": {},
     "output_type": "execute_result"
    }
   ],
   "source": [
    "# dados numericos\n",
    "deliveries_df.drop(['name', 'region'], axis=1).select_dtypes('int64').describe().T"
   ]
  },
  {
   "cell_type": "markdown",
   "metadata": {
    "id": "zsPgRoPycHMs"
   },
   "source": [
    "Separamos aqui apenas os dados do veículo e o tamanho da entrega, uma vez que não faz muito sentido obter estatísticas de dados de geo-localização, como desvio padrão, por exemplo.\n",
    "\n",
    "Todos os veículos possuem capacidade igual a 180. O desvio padrão igual a 0 confirma essa estatística.\n",
    "\n",
    "No tamanho da entrega, vemos que a média e mediana não estão muito distantes, nos indicando que pode haver uma distribuição simétrica dos dados. O desvio padrão está em 2.87, indicando que capacidade do veículo pode ter, em média, entre 2.6 e 8.3. Vemos também que não existem cargas menores que 10."
   ]
  },
  {
   "cell_type": "code",
   "execution_count": null,
   "metadata": {
    "colab": {
     "base_uri": "https://localhost:8080/"
    },
    "executionInfo": {
     "elapsed": 623,
     "status": "ok",
     "timestamp": 1643126818967,
     "user": {
      "displayName": "Pedro Sartoro",
      "photoUrl": "https://lh3.googleusercontent.com/a-/AOh14GgW0XBtdT2QXAMbCHjbuvidYUCNdUXOZL5KVQUh=s64",
      "userId": "12375826268682074049"
     },
     "user_tz": 180
    },
    "id": "rlFV80jFMt9d",
    "outputId": "0f70300e-9235-4e8e-df76-5810f5c91237"
   },
   "outputs": [
    {
     "data": {
      "text/plain": [
       "name                0\n",
       "region              0\n",
       "vehicle_capacity    0\n",
       "hub_lng             0\n",
       "hub_lat             0\n",
       "delivery_size       0\n",
       "delivery_lng        0\n",
       "delivery_lat        0\n",
       "dtype: int64"
      ]
     },
     "execution_count": 14,
     "metadata": {},
     "output_type": "execute_result"
    }
   ],
   "source": [
    "deliveries_df.isnull().sum()"
   ]
  },
  {
   "cell_type": "markdown",
   "metadata": {
    "id": "rwTHFH3zeKn9"
   },
   "source": [
    "Somente para validar, não existe nenhum dado nulo em nenhuma coluna."
   ]
  },
  {
   "cell_type": "markdown",
   "metadata": {
    "id": "znGf9PQbcwtl"
   },
   "source": [
    "## 4\\. Manipulação"
   ]
  },
  {
   "cell_type": "markdown",
   "metadata": {
    "id": "z7_Anwl7DXDn"
   },
   "source": [
    "### Hubs"
   ]
  },
  {
   "cell_type": "code",
   "execution_count": null,
   "metadata": {
    "colab": {
     "base_uri": "https://localhost:8080/",
     "height": 142
    },
    "executionInfo": {
     "elapsed": 764,
     "status": "ok",
     "timestamp": 1643127478020,
     "user": {
      "displayName": "Pedro Sartoro",
      "photoUrl": "https://lh3.googleusercontent.com/a-/AOh14GgW0XBtdT2QXAMbCHjbuvidYUCNdUXOZL5KVQUh=s64",
      "userId": "12375826268682074049"
     },
     "user_tz": 180
    },
    "id": "ANyGu25Pc2z1",
    "outputId": "f248e096-3203-414b-991e-a3cfeff3920f"
   },
   "outputs": [
    {
     "data": {
      "text/html": [
       "\n",
       "  <div id=\"df-6f749e1c-7efd-4ae4-a16d-2177ff4174b3\">\n",
       "    <div class=\"colab-df-container\">\n",
       "      <div>\n",
       "<style scoped>\n",
       "    .dataframe tbody tr th:only-of-type {\n",
       "        vertical-align: middle;\n",
       "    }\n",
       "\n",
       "    .dataframe tbody tr th {\n",
       "        vertical-align: top;\n",
       "    }\n",
       "\n",
       "    .dataframe thead th {\n",
       "        text-align: right;\n",
       "    }\n",
       "</style>\n",
       "<table border=\"1\" class=\"dataframe\">\n",
       "  <thead>\n",
       "    <tr style=\"text-align: right;\">\n",
       "      <th></th>\n",
       "      <th>region</th>\n",
       "      <th>hub_lng</th>\n",
       "      <th>hub_lat</th>\n",
       "    </tr>\n",
       "  </thead>\n",
       "  <tbody>\n",
       "    <tr>\n",
       "      <th>0</th>\n",
       "      <td>df-0</td>\n",
       "      <td>-47.802665</td>\n",
       "      <td>-15.657014</td>\n",
       "    </tr>\n",
       "    <tr>\n",
       "      <th>1</th>\n",
       "      <td>df-1</td>\n",
       "      <td>-47.893662</td>\n",
       "      <td>-15.805118</td>\n",
       "    </tr>\n",
       "    <tr>\n",
       "      <th>2</th>\n",
       "      <td>df-2</td>\n",
       "      <td>-48.054989</td>\n",
       "      <td>-15.838145</td>\n",
       "    </tr>\n",
       "  </tbody>\n",
       "</table>\n",
       "</div>\n",
       "      <button class=\"colab-df-convert\" onclick=\"convertToInteractive('df-6f749e1c-7efd-4ae4-a16d-2177ff4174b3')\"\n",
       "              title=\"Convert this dataframe to an interactive table.\"\n",
       "              style=\"display:none;\">\n",
       "        \n",
       "  <svg xmlns=\"http://www.w3.org/2000/svg\" height=\"24px\"viewBox=\"0 0 24 24\"\n",
       "       width=\"24px\">\n",
       "    <path d=\"M0 0h24v24H0V0z\" fill=\"none\"/>\n",
       "    <path d=\"M18.56 5.44l.94 2.06.94-2.06 2.06-.94-2.06-.94-.94-2.06-.94 2.06-2.06.94zm-11 1L8.5 8.5l.94-2.06 2.06-.94-2.06-.94L8.5 2.5l-.94 2.06-2.06.94zm10 10l.94 2.06.94-2.06 2.06-.94-2.06-.94-.94-2.06-.94 2.06-2.06.94z\"/><path d=\"M17.41 7.96l-1.37-1.37c-.4-.4-.92-.59-1.43-.59-.52 0-1.04.2-1.43.59L10.3 9.45l-7.72 7.72c-.78.78-.78 2.05 0 2.83L4 21.41c.39.39.9.59 1.41.59.51 0 1.02-.2 1.41-.59l7.78-7.78 2.81-2.81c.8-.78.8-2.07 0-2.86zM5.41 20L4 18.59l7.72-7.72 1.47 1.35L5.41 20z\"/>\n",
       "  </svg>\n",
       "      </button>\n",
       "      \n",
       "  <style>\n",
       "    .colab-df-container {\n",
       "      display:flex;\n",
       "      flex-wrap:wrap;\n",
       "      gap: 12px;\n",
       "    }\n",
       "\n",
       "    .colab-df-convert {\n",
       "      background-color: #E8F0FE;\n",
       "      border: none;\n",
       "      border-radius: 50%;\n",
       "      cursor: pointer;\n",
       "      display: none;\n",
       "      fill: #1967D2;\n",
       "      height: 32px;\n",
       "      padding: 0 0 0 0;\n",
       "      width: 32px;\n",
       "    }\n",
       "\n",
       "    .colab-df-convert:hover {\n",
       "      background-color: #E2EBFA;\n",
       "      box-shadow: 0px 1px 2px rgba(60, 64, 67, 0.3), 0px 1px 3px 1px rgba(60, 64, 67, 0.15);\n",
       "      fill: #174EA6;\n",
       "    }\n",
       "\n",
       "    [theme=dark] .colab-df-convert {\n",
       "      background-color: #3B4455;\n",
       "      fill: #D2E3FC;\n",
       "    }\n",
       "\n",
       "    [theme=dark] .colab-df-convert:hover {\n",
       "      background-color: #434B5C;\n",
       "      box-shadow: 0px 1px 3px 1px rgba(0, 0, 0, 0.15);\n",
       "      filter: drop-shadow(0px 1px 2px rgba(0, 0, 0, 0.3));\n",
       "      fill: #FFFFFF;\n",
       "    }\n",
       "  </style>\n",
       "\n",
       "      <script>\n",
       "        const buttonEl =\n",
       "          document.querySelector('#df-6f749e1c-7efd-4ae4-a16d-2177ff4174b3 button.colab-df-convert');\n",
       "        buttonEl.style.display =\n",
       "          google.colab.kernel.accessAllowed ? 'block' : 'none';\n",
       "\n",
       "        async function convertToInteractive(key) {\n",
       "          const element = document.querySelector('#df-6f749e1c-7efd-4ae4-a16d-2177ff4174b3');\n",
       "          const dataTable =\n",
       "            await google.colab.kernel.invokeFunction('convertToInteractive',\n",
       "                                                     [key], {});\n",
       "          if (!dataTable) return;\n",
       "\n",
       "          const docLinkHtml = 'Like what you see? Visit the ' +\n",
       "            '<a target=\"_blank\" href=https://colab.research.google.com/notebooks/data_table.ipynb>data table notebook</a>'\n",
       "            + ' to learn more about interactive tables.';\n",
       "          element.innerHTML = '';\n",
       "          dataTable['output_type'] = 'display_data';\n",
       "          await google.colab.output.renderOutput(dataTable, element);\n",
       "          const docLink = document.createElement('div');\n",
       "          docLink.innerHTML = docLinkHtml;\n",
       "          element.appendChild(docLink);\n",
       "        }\n",
       "      </script>\n",
       "    </div>\n",
       "  </div>\n",
       "  "
      ],
      "text/plain": [
       "  region    hub_lng    hub_lat\n",
       "0   df-0 -47.802665 -15.657014\n",
       "1   df-1 -47.893662 -15.805118\n",
       "2   df-2 -48.054989 -15.838145"
      ]
     },
     "execution_count": 25,
     "metadata": {},
     "output_type": "execute_result"
    }
   ],
   "source": [
    "hubs = deliveries_df[['region', 'hub_lng', 'hub_lat']]\n",
    "hubs = hubs.drop_duplicates().sort_values(by='region').reset_index(drop=True)\n",
    "hubs.head()"
   ]
  },
  {
   "cell_type": "markdown",
   "metadata": {
    "id": "eIc7NNzHANyu"
   },
   "source": [
    "Seleção das colunas de interesse e remoção de duplicadas."
   ]
  },
  {
   "cell_type": "code",
   "execution_count": null,
   "metadata": {
    "id": "JKVgoWiHm_pT"
   },
   "outputs": [],
   "source": [
    "gloc = Nominatim(user_agent='psartoro')\n",
    "gcod = RateLimiter(gloc.reverse, min_delay_seconds=1)"
   ]
  },
  {
   "cell_type": "code",
   "execution_count": null,
   "metadata": {
    "colab": {
     "base_uri": "https://localhost:8080/",
     "height": 142
    },
    "executionInfo": {
     "elapsed": 3113,
     "status": "ok",
     "timestamp": 1643127485290,
     "user": {
      "displayName": "Pedro Sartoro",
      "photoUrl": "https://lh3.googleusercontent.com/a-/AOh14GgW0XBtdT2QXAMbCHjbuvidYUCNdUXOZL5KVQUh=s64",
      "userId": "12375826268682074049"
     },
     "user_tz": 180
    },
    "id": "SjqpVs9JkqcF",
    "outputId": "6715a78a-1fa5-4420-b437-60149543ded4"
   },
   "outputs": [
    {
     "data": {
      "text/html": [
       "\n",
       "  <div id=\"df-1cf2a82c-a1d8-43bd-a75e-725f4e06aa9f\">\n",
       "    <div class=\"colab-df-container\">\n",
       "      <div>\n",
       "<style scoped>\n",
       "    .dataframe tbody tr th:only-of-type {\n",
       "        vertical-align: middle;\n",
       "    }\n",
       "\n",
       "    .dataframe tbody tr th {\n",
       "        vertical-align: top;\n",
       "    }\n",
       "\n",
       "    .dataframe thead th {\n",
       "        text-align: right;\n",
       "    }\n",
       "</style>\n",
       "<table border=\"1\" class=\"dataframe\">\n",
       "  <thead>\n",
       "    <tr style=\"text-align: right;\">\n",
       "      <th></th>\n",
       "      <th>region</th>\n",
       "      <th>hub_lng</th>\n",
       "      <th>hub_lat</th>\n",
       "      <th>coordinates</th>\n",
       "      <th>geodata</th>\n",
       "    </tr>\n",
       "  </thead>\n",
       "  <tbody>\n",
       "    <tr>\n",
       "      <th>0</th>\n",
       "      <td>df-0</td>\n",
       "      <td>-47.802665</td>\n",
       "      <td>-15.657014</td>\n",
       "      <td>-15.657013854445248, -47.802664728268745</td>\n",
       "      <td>(Clinica dos Olhos, Rua 7, Quadra 2, Sobradinh...</td>\n",
       "    </tr>\n",
       "    <tr>\n",
       "      <th>1</th>\n",
       "      <td>df-1</td>\n",
       "      <td>-47.893662</td>\n",
       "      <td>-15.805118</td>\n",
       "      <td>-15.80511751066334, -47.89366206897872</td>\n",
       "      <td>(Bloco B / F, W1 Sul, SQS 103, Asa Sul, Brasíl...</td>\n",
       "    </tr>\n",
       "    <tr>\n",
       "      <th>2</th>\n",
       "      <td>df-2</td>\n",
       "      <td>-48.054989</td>\n",
       "      <td>-15.838145</td>\n",
       "      <td>-15.83814451122274, -48.05498915846707</td>\n",
       "      <td>(Armazém do Bolo, lote 4/8, CSB 4/5, Taguating...</td>\n",
       "    </tr>\n",
       "  </tbody>\n",
       "</table>\n",
       "</div>\n",
       "      <button class=\"colab-df-convert\" onclick=\"convertToInteractive('df-1cf2a82c-a1d8-43bd-a75e-725f4e06aa9f')\"\n",
       "              title=\"Convert this dataframe to an interactive table.\"\n",
       "              style=\"display:none;\">\n",
       "        \n",
       "  <svg xmlns=\"http://www.w3.org/2000/svg\" height=\"24px\"viewBox=\"0 0 24 24\"\n",
       "       width=\"24px\">\n",
       "    <path d=\"M0 0h24v24H0V0z\" fill=\"none\"/>\n",
       "    <path d=\"M18.56 5.44l.94 2.06.94-2.06 2.06-.94-2.06-.94-.94-2.06-.94 2.06-2.06.94zm-11 1L8.5 8.5l.94-2.06 2.06-.94-2.06-.94L8.5 2.5l-.94 2.06-2.06.94zm10 10l.94 2.06.94-2.06 2.06-.94-2.06-.94-.94-2.06-.94 2.06-2.06.94z\"/><path d=\"M17.41 7.96l-1.37-1.37c-.4-.4-.92-.59-1.43-.59-.52 0-1.04.2-1.43.59L10.3 9.45l-7.72 7.72c-.78.78-.78 2.05 0 2.83L4 21.41c.39.39.9.59 1.41.59.51 0 1.02-.2 1.41-.59l7.78-7.78 2.81-2.81c.8-.78.8-2.07 0-2.86zM5.41 20L4 18.59l7.72-7.72 1.47 1.35L5.41 20z\"/>\n",
       "  </svg>\n",
       "      </button>\n",
       "      \n",
       "  <style>\n",
       "    .colab-df-container {\n",
       "      display:flex;\n",
       "      flex-wrap:wrap;\n",
       "      gap: 12px;\n",
       "    }\n",
       "\n",
       "    .colab-df-convert {\n",
       "      background-color: #E8F0FE;\n",
       "      border: none;\n",
       "      border-radius: 50%;\n",
       "      cursor: pointer;\n",
       "      display: none;\n",
       "      fill: #1967D2;\n",
       "      height: 32px;\n",
       "      padding: 0 0 0 0;\n",
       "      width: 32px;\n",
       "    }\n",
       "\n",
       "    .colab-df-convert:hover {\n",
       "      background-color: #E2EBFA;\n",
       "      box-shadow: 0px 1px 2px rgba(60, 64, 67, 0.3), 0px 1px 3px 1px rgba(60, 64, 67, 0.15);\n",
       "      fill: #174EA6;\n",
       "    }\n",
       "\n",
       "    [theme=dark] .colab-df-convert {\n",
       "      background-color: #3B4455;\n",
       "      fill: #D2E3FC;\n",
       "    }\n",
       "\n",
       "    [theme=dark] .colab-df-convert:hover {\n",
       "      background-color: #434B5C;\n",
       "      box-shadow: 0px 1px 3px 1px rgba(0, 0, 0, 0.15);\n",
       "      filter: drop-shadow(0px 1px 2px rgba(0, 0, 0, 0.3));\n",
       "      fill: #FFFFFF;\n",
       "    }\n",
       "  </style>\n",
       "\n",
       "      <script>\n",
       "        const buttonEl =\n",
       "          document.querySelector('#df-1cf2a82c-a1d8-43bd-a75e-725f4e06aa9f button.colab-df-convert');\n",
       "        buttonEl.style.display =\n",
       "          google.colab.kernel.accessAllowed ? 'block' : 'none';\n",
       "\n",
       "        async function convertToInteractive(key) {\n",
       "          const element = document.querySelector('#df-1cf2a82c-a1d8-43bd-a75e-725f4e06aa9f');\n",
       "          const dataTable =\n",
       "            await google.colab.kernel.invokeFunction('convertToInteractive',\n",
       "                                                     [key], {});\n",
       "          if (!dataTable) return;\n",
       "\n",
       "          const docLinkHtml = 'Like what you see? Visit the ' +\n",
       "            '<a target=\"_blank\" href=https://colab.research.google.com/notebooks/data_table.ipynb>data table notebook</a>'\n",
       "            + ' to learn more about interactive tables.';\n",
       "          element.innerHTML = '';\n",
       "          dataTable['output_type'] = 'display_data';\n",
       "          await google.colab.output.renderOutput(dataTable, element);\n",
       "          const docLink = document.createElement('div');\n",
       "          docLink.innerHTML = docLinkHtml;\n",
       "          element.appendChild(docLink);\n",
       "        }\n",
       "      </script>\n",
       "    </div>\n",
       "  </div>\n",
       "  "
      ],
      "text/plain": [
       "  region  ...                                            geodata\n",
       "0   df-0  ...  (Clinica dos Olhos, Rua 7, Quadra 2, Sobradinh...\n",
       "1   df-1  ...  (Bloco B / F, W1 Sul, SQS 103, Asa Sul, Brasíl...\n",
       "2   df-2  ...  (Armazém do Bolo, lote 4/8, CSB 4/5, Taguating...\n",
       "\n",
       "[3 rows x 5 columns]"
      ]
     },
     "execution_count": 27,
     "metadata": {},
     "output_type": "execute_result"
    }
   ],
   "source": [
    "hubs['coordinates'] = hubs.hub_lat.astype(str) + ', ' + hubs.hub_lng.astype(str)\n",
    "hubs['geodata'] = hubs.coordinates.apply(gcod)\n",
    "hubs.head()"
   ]
  },
  {
   "cell_type": "markdown",
   "metadata": {
    "id": "Z_UsCrBzA4UZ"
   },
   "source": [
    "Criamos uma nova coluna com as coordenadas de cada hub. Dessa forma, podemos aplicar a consulta e trazer os dados geográficos de cada hub."
   ]
  },
  {
   "cell_type": "code",
   "execution_count": null,
   "metadata": {
    "colab": {
     "base_uri": "https://localhost:8080/",
     "height": 359
    },
    "executionInfo": {
     "elapsed": 293,
     "status": "ok",
     "timestamp": 1643127488950,
     "user": {
      "displayName": "Pedro Sartoro",
      "photoUrl": "https://lh3.googleusercontent.com/a-/AOh14GgW0XBtdT2QXAMbCHjbuvidYUCNdUXOZL5KVQUh=s64",
      "userId": "12375826268682074049"
     },
     "user_tz": 180
    },
    "id": "fucAw05vqA1n",
    "outputId": "838878e9-2acb-4cc9-b13f-b3ebc881c57a"
   },
   "outputs": [
    {
     "data": {
      "text/html": [
       "\n",
       "  <div id=\"df-34f358f6-26e0-4065-90a1-3d4467143252\">\n",
       "    <div class=\"colab-df-container\">\n",
       "      <div>\n",
       "<style scoped>\n",
       "    .dataframe tbody tr th:only-of-type {\n",
       "        vertical-align: middle;\n",
       "    }\n",
       "\n",
       "    .dataframe tbody tr th {\n",
       "        vertical-align: top;\n",
       "    }\n",
       "\n",
       "    .dataframe thead th {\n",
       "        text-align: right;\n",
       "    }\n",
       "</style>\n",
       "<table border=\"1\" class=\"dataframe\">\n",
       "  <thead>\n",
       "    <tr style=\"text-align: right;\">\n",
       "      <th></th>\n",
       "      <th>place_id</th>\n",
       "      <th>licence</th>\n",
       "      <th>osm_type</th>\n",
       "      <th>osm_id</th>\n",
       "      <th>lat</th>\n",
       "      <th>lon</th>\n",
       "      <th>display_name</th>\n",
       "      <th>boundingbox</th>\n",
       "      <th>address.amenity</th>\n",
       "      <th>address.road</th>\n",
       "      <th>address.residential</th>\n",
       "      <th>address.suburb</th>\n",
       "      <th>address.town</th>\n",
       "      <th>address.municipality</th>\n",
       "      <th>address.county</th>\n",
       "      <th>address.state_district</th>\n",
       "      <th>address.state</th>\n",
       "      <th>address.region</th>\n",
       "      <th>address.postcode</th>\n",
       "      <th>address.country</th>\n",
       "      <th>address.country_code</th>\n",
       "      <th>address.building</th>\n",
       "      <th>address.neighbourhood</th>\n",
       "      <th>address.city</th>\n",
       "      <th>address.shop</th>\n",
       "      <th>address.house_number</th>\n",
       "    </tr>\n",
       "  </thead>\n",
       "  <tbody>\n",
       "    <tr>\n",
       "      <th>0</th>\n",
       "      <td>69392732</td>\n",
       "      <td>Data © OpenStreetMap contributors, ODbL 1.0. h...</td>\n",
       "      <td>node</td>\n",
       "      <td>6456379935</td>\n",
       "      <td>-15.656819</td>\n",
       "      <td>-47.8019514</td>\n",
       "      <td>Clinica dos Olhos, Rua 7, Quadra 2, Sobradinho...</td>\n",
       "      <td>[-15.656869, -15.656769, -47.8020014, -47.8019...</td>\n",
       "      <td>Clinica dos Olhos</td>\n",
       "      <td>Rua 7</td>\n",
       "      <td>Quadra 2</td>\n",
       "      <td>Sobradinho</td>\n",
       "      <td>Sobradinho</td>\n",
       "      <td>Região Geográfica Imediata do Distrito Federal</td>\n",
       "      <td>Região Integrada de Desenvolvimento do Distrit...</td>\n",
       "      <td>Região Geográfica Intermediária do Distrito Fe...</td>\n",
       "      <td>Distrito Federal</td>\n",
       "      <td>Região Centro-Oeste</td>\n",
       "      <td>73015-202</td>\n",
       "      <td>Brasil</td>\n",
       "      <td>br</td>\n",
       "      <td>NaN</td>\n",
       "      <td>NaN</td>\n",
       "      <td>NaN</td>\n",
       "      <td>NaN</td>\n",
       "      <td>NaN</td>\n",
       "    </tr>\n",
       "    <tr>\n",
       "      <th>1</th>\n",
       "      <td>134245547</td>\n",
       "      <td>Data © OpenStreetMap contributors, ODbL 1.0. h...</td>\n",
       "      <td>way</td>\n",
       "      <td>140908717</td>\n",
       "      <td>-15.80443735</td>\n",
       "      <td>-47.893155456691616</td>\n",
       "      <td>Bloco B / F, W1 Sul, SQS 103, Asa Sul, Brasíli...</td>\n",
       "      <td>[-15.805071, -15.8038038, -47.8937468, -47.892...</td>\n",
       "      <td>NaN</td>\n",
       "      <td>W1 Sul</td>\n",
       "      <td>NaN</td>\n",
       "      <td>Asa Sul</td>\n",
       "      <td>NaN</td>\n",
       "      <td>Região Geográfica Imediata do Distrito Federal</td>\n",
       "      <td>Região Integrada de Desenvolvimento do Distrit...</td>\n",
       "      <td>Região Geográfica Intermediária do Distrito Fe...</td>\n",
       "      <td>Distrito Federal</td>\n",
       "      <td>Região Centro-Oeste</td>\n",
       "      <td>70342-010</td>\n",
       "      <td>Brasil</td>\n",
       "      <td>br</td>\n",
       "      <td>Bloco B / F</td>\n",
       "      <td>SQS 103</td>\n",
       "      <td>Brasília</td>\n",
       "      <td>NaN</td>\n",
       "      <td>NaN</td>\n",
       "    </tr>\n",
       "    <tr>\n",
       "      <th>2</th>\n",
       "      <td>68616994</td>\n",
       "      <td>Data © OpenStreetMap contributors, ODbL 1.0. h...</td>\n",
       "      <td>node</td>\n",
       "      <td>6249717596</td>\n",
       "      <td>-15.8384371</td>\n",
       "      <td>-48.0552917</td>\n",
       "      <td>Armazém do Bolo, lote 4/8, CSB 4/5, Taguatinga...</td>\n",
       "      <td>[-15.8384871, -15.8383871, -48.0553417, -48.05...</td>\n",
       "      <td>NaN</td>\n",
       "      <td>CSB 4/5</td>\n",
       "      <td>NaN</td>\n",
       "      <td>NaN</td>\n",
       "      <td>NaN</td>\n",
       "      <td>Região Geográfica Imediata do Distrito Federal</td>\n",
       "      <td>Região Integrada de Desenvolvimento do Distrit...</td>\n",
       "      <td>Região Geográfica Intermediária do Distrito Fe...</td>\n",
       "      <td>Distrito Federal</td>\n",
       "      <td>Região Centro-Oeste</td>\n",
       "      <td>72015030</td>\n",
       "      <td>Brasil</td>\n",
       "      <td>br</td>\n",
       "      <td>NaN</td>\n",
       "      <td>NaN</td>\n",
       "      <td>Taguatinga</td>\n",
       "      <td>Armazém do Bolo</td>\n",
       "      <td>lote 4/8</td>\n",
       "    </tr>\n",
       "  </tbody>\n",
       "</table>\n",
       "</div>\n",
       "      <button class=\"colab-df-convert\" onclick=\"convertToInteractive('df-34f358f6-26e0-4065-90a1-3d4467143252')\"\n",
       "              title=\"Convert this dataframe to an interactive table.\"\n",
       "              style=\"display:none;\">\n",
       "        \n",
       "  <svg xmlns=\"http://www.w3.org/2000/svg\" height=\"24px\"viewBox=\"0 0 24 24\"\n",
       "       width=\"24px\">\n",
       "    <path d=\"M0 0h24v24H0V0z\" fill=\"none\"/>\n",
       "    <path d=\"M18.56 5.44l.94 2.06.94-2.06 2.06-.94-2.06-.94-.94-2.06-.94 2.06-2.06.94zm-11 1L8.5 8.5l.94-2.06 2.06-.94-2.06-.94L8.5 2.5l-.94 2.06-2.06.94zm10 10l.94 2.06.94-2.06 2.06-.94-2.06-.94-.94-2.06-.94 2.06-2.06.94z\"/><path d=\"M17.41 7.96l-1.37-1.37c-.4-.4-.92-.59-1.43-.59-.52 0-1.04.2-1.43.59L10.3 9.45l-7.72 7.72c-.78.78-.78 2.05 0 2.83L4 21.41c.39.39.9.59 1.41.59.51 0 1.02-.2 1.41-.59l7.78-7.78 2.81-2.81c.8-.78.8-2.07 0-2.86zM5.41 20L4 18.59l7.72-7.72 1.47 1.35L5.41 20z\"/>\n",
       "  </svg>\n",
       "      </button>\n",
       "      \n",
       "  <style>\n",
       "    .colab-df-container {\n",
       "      display:flex;\n",
       "      flex-wrap:wrap;\n",
       "      gap: 12px;\n",
       "    }\n",
       "\n",
       "    .colab-df-convert {\n",
       "      background-color: #E8F0FE;\n",
       "      border: none;\n",
       "      border-radius: 50%;\n",
       "      cursor: pointer;\n",
       "      display: none;\n",
       "      fill: #1967D2;\n",
       "      height: 32px;\n",
       "      padding: 0 0 0 0;\n",
       "      width: 32px;\n",
       "    }\n",
       "\n",
       "    .colab-df-convert:hover {\n",
       "      background-color: #E2EBFA;\n",
       "      box-shadow: 0px 1px 2px rgba(60, 64, 67, 0.3), 0px 1px 3px 1px rgba(60, 64, 67, 0.15);\n",
       "      fill: #174EA6;\n",
       "    }\n",
       "\n",
       "    [theme=dark] .colab-df-convert {\n",
       "      background-color: #3B4455;\n",
       "      fill: #D2E3FC;\n",
       "    }\n",
       "\n",
       "    [theme=dark] .colab-df-convert:hover {\n",
       "      background-color: #434B5C;\n",
       "      box-shadow: 0px 1px 3px 1px rgba(0, 0, 0, 0.15);\n",
       "      filter: drop-shadow(0px 1px 2px rgba(0, 0, 0, 0.3));\n",
       "      fill: #FFFFFF;\n",
       "    }\n",
       "  </style>\n",
       "\n",
       "      <script>\n",
       "        const buttonEl =\n",
       "          document.querySelector('#df-34f358f6-26e0-4065-90a1-3d4467143252 button.colab-df-convert');\n",
       "        buttonEl.style.display =\n",
       "          google.colab.kernel.accessAllowed ? 'block' : 'none';\n",
       "\n",
       "        async function convertToInteractive(key) {\n",
       "          const element = document.querySelector('#df-34f358f6-26e0-4065-90a1-3d4467143252');\n",
       "          const dataTable =\n",
       "            await google.colab.kernel.invokeFunction('convertToInteractive',\n",
       "                                                     [key], {});\n",
       "          if (!dataTable) return;\n",
       "\n",
       "          const docLinkHtml = 'Like what you see? Visit the ' +\n",
       "            '<a target=\"_blank\" href=https://colab.research.google.com/notebooks/data_table.ipynb>data table notebook</a>'\n",
       "            + ' to learn more about interactive tables.';\n",
       "          element.innerHTML = '';\n",
       "          dataTable['output_type'] = 'display_data';\n",
       "          await google.colab.output.renderOutput(dataTable, element);\n",
       "          const docLink = document.createElement('div');\n",
       "          docLink.innerHTML = docLinkHtml;\n",
       "          element.appendChild(docLink);\n",
       "        }\n",
       "      </script>\n",
       "    </div>\n",
       "  </div>\n",
       "  "
      ],
      "text/plain": [
       "    place_id  ... address.house_number\n",
       "0   69392732  ...                  NaN\n",
       "1  134245547  ...                  NaN\n",
       "2   68616994  ...             lote 4/8\n",
       "\n",
       "[3 rows x 26 columns]"
      ]
     },
     "execution_count": 28,
     "metadata": {},
     "output_type": "execute_result"
    }
   ],
   "source": [
    "hubs_geodata = pd.json_normalize(hubs.geodata.apply(lambda x: x.raw))\n",
    "hubs_geodata.head()"
   ]
  },
  {
   "cell_type": "code",
   "execution_count": null,
   "metadata": {
    "colab": {
     "base_uri": "https://localhost:8080/",
     "height": 142
    },
    "executionInfo": {
     "elapsed": 473,
     "status": "ok",
     "timestamp": 1643127502814,
     "user": {
      "displayName": "Pedro Sartoro",
      "photoUrl": "https://lh3.googleusercontent.com/a-/AOh14GgW0XBtdT2QXAMbCHjbuvidYUCNdUXOZL5KVQUh=s64",
      "userId": "12375826268682074049"
     },
     "user_tz": 180
    },
    "id": "ELON52JcsB_8",
    "outputId": "4ed75bfe-3fa2-452e-ce64-5ab976ee99ae"
   },
   "outputs": [
    {
     "data": {
      "text/html": [
       "\n",
       "  <div id=\"df-abb2c62d-901c-4e9c-ad19-5693621ddbe5\">\n",
       "    <div class=\"colab-df-container\">\n",
       "      <div>\n",
       "<style scoped>\n",
       "    .dataframe tbody tr th:only-of-type {\n",
       "        vertical-align: middle;\n",
       "    }\n",
       "\n",
       "    .dataframe tbody tr th {\n",
       "        vertical-align: top;\n",
       "    }\n",
       "\n",
       "    .dataframe thead th {\n",
       "        text-align: right;\n",
       "    }\n",
       "</style>\n",
       "<table border=\"1\" class=\"dataframe\">\n",
       "  <thead>\n",
       "    <tr style=\"text-align: right;\">\n",
       "      <th></th>\n",
       "      <th>hub_suburb</th>\n",
       "      <th>hub_city</th>\n",
       "    </tr>\n",
       "  </thead>\n",
       "  <tbody>\n",
       "    <tr>\n",
       "      <th>0</th>\n",
       "      <td>Sobradinho</td>\n",
       "      <td>Sobradinho</td>\n",
       "    </tr>\n",
       "    <tr>\n",
       "      <th>1</th>\n",
       "      <td>Asa Sul</td>\n",
       "      <td>Asa Sul</td>\n",
       "    </tr>\n",
       "    <tr>\n",
       "      <th>2</th>\n",
       "      <td>Taguatinga</td>\n",
       "      <td>Taguatinga</td>\n",
       "    </tr>\n",
       "  </tbody>\n",
       "</table>\n",
       "</div>\n",
       "      <button class=\"colab-df-convert\" onclick=\"convertToInteractive('df-abb2c62d-901c-4e9c-ad19-5693621ddbe5')\"\n",
       "              title=\"Convert this dataframe to an interactive table.\"\n",
       "              style=\"display:none;\">\n",
       "        \n",
       "  <svg xmlns=\"http://www.w3.org/2000/svg\" height=\"24px\"viewBox=\"0 0 24 24\"\n",
       "       width=\"24px\">\n",
       "    <path d=\"M0 0h24v24H0V0z\" fill=\"none\"/>\n",
       "    <path d=\"M18.56 5.44l.94 2.06.94-2.06 2.06-.94-2.06-.94-.94-2.06-.94 2.06-2.06.94zm-11 1L8.5 8.5l.94-2.06 2.06-.94-2.06-.94L8.5 2.5l-.94 2.06-2.06.94zm10 10l.94 2.06.94-2.06 2.06-.94-2.06-.94-.94-2.06-.94 2.06-2.06.94z\"/><path d=\"M17.41 7.96l-1.37-1.37c-.4-.4-.92-.59-1.43-.59-.52 0-1.04.2-1.43.59L10.3 9.45l-7.72 7.72c-.78.78-.78 2.05 0 2.83L4 21.41c.39.39.9.59 1.41.59.51 0 1.02-.2 1.41-.59l7.78-7.78 2.81-2.81c.8-.78.8-2.07 0-2.86zM5.41 20L4 18.59l7.72-7.72 1.47 1.35L5.41 20z\"/>\n",
       "  </svg>\n",
       "      </button>\n",
       "      \n",
       "  <style>\n",
       "    .colab-df-container {\n",
       "      display:flex;\n",
       "      flex-wrap:wrap;\n",
       "      gap: 12px;\n",
       "    }\n",
       "\n",
       "    .colab-df-convert {\n",
       "      background-color: #E8F0FE;\n",
       "      border: none;\n",
       "      border-radius: 50%;\n",
       "      cursor: pointer;\n",
       "      display: none;\n",
       "      fill: #1967D2;\n",
       "      height: 32px;\n",
       "      padding: 0 0 0 0;\n",
       "      width: 32px;\n",
       "    }\n",
       "\n",
       "    .colab-df-convert:hover {\n",
       "      background-color: #E2EBFA;\n",
       "      box-shadow: 0px 1px 2px rgba(60, 64, 67, 0.3), 0px 1px 3px 1px rgba(60, 64, 67, 0.15);\n",
       "      fill: #174EA6;\n",
       "    }\n",
       "\n",
       "    [theme=dark] .colab-df-convert {\n",
       "      background-color: #3B4455;\n",
       "      fill: #D2E3FC;\n",
       "    }\n",
       "\n",
       "    [theme=dark] .colab-df-convert:hover {\n",
       "      background-color: #434B5C;\n",
       "      box-shadow: 0px 1px 3px 1px rgba(0, 0, 0, 0.15);\n",
       "      filter: drop-shadow(0px 1px 2px rgba(0, 0, 0, 0.3));\n",
       "      fill: #FFFFFF;\n",
       "    }\n",
       "  </style>\n",
       "\n",
       "      <script>\n",
       "        const buttonEl =\n",
       "          document.querySelector('#df-abb2c62d-901c-4e9c-ad19-5693621ddbe5 button.colab-df-convert');\n",
       "        buttonEl.style.display =\n",
       "          google.colab.kernel.accessAllowed ? 'block' : 'none';\n",
       "\n",
       "        async function convertToInteractive(key) {\n",
       "          const element = document.querySelector('#df-abb2c62d-901c-4e9c-ad19-5693621ddbe5');\n",
       "          const dataTable =\n",
       "            await google.colab.kernel.invokeFunction('convertToInteractive',\n",
       "                                                     [key], {});\n",
       "          if (!dataTable) return;\n",
       "\n",
       "          const docLinkHtml = 'Like what you see? Visit the ' +\n",
       "            '<a target=\"_blank\" href=https://colab.research.google.com/notebooks/data_table.ipynb>data table notebook</a>'\n",
       "            + ' to learn more about interactive tables.';\n",
       "          element.innerHTML = '';\n",
       "          dataTable['output_type'] = 'display_data';\n",
       "          await google.colab.output.renderOutput(dataTable, element);\n",
       "          const docLink = document.createElement('div');\n",
       "          docLink.innerHTML = docLinkHtml;\n",
       "          element.appendChild(docLink);\n",
       "        }\n",
       "      </script>\n",
       "    </div>\n",
       "  </div>\n",
       "  "
      ],
      "text/plain": [
       "    hub_suburb     hub_city\n",
       "0   Sobradinho   Sobradinho\n",
       "1      Asa Sul      Asa Sul\n",
       "2   Taguatinga   Taguatinga"
      ]
     },
     "execution_count": 29,
     "metadata": {},
     "output_type": "execute_result"
    }
   ],
   "source": [
    "for i in range(len(hubs_geodata['display_name'])):\n",
    "  hubs_geodata.loc[i, 'hub_city'] = hubs_geodata['display_name'][i].split(',')[3]\n",
    "\n",
    "hubs_geodata = hubs_geodata.loc[:, ['address.suburb', 'hub_city']]\n",
    "hubs_geodata.rename(columns={'address.suburb': 'hub_suburb'}, inplace=True)\n",
    "hubs_geodata['hub_suburb'] = np.where(hubs_geodata.hub_suburb.notna(), hubs_geodata.hub_suburb, hubs_geodata.hub_city)\n",
    "\n",
    "hubs_geodata"
   ]
  },
  {
   "cell_type": "markdown",
   "metadata": {
    "id": "k9PX9T_7_qqe"
   },
   "source": [
    "Adotei uma abordagem diferente ao notar que a coluna `display_name`, nese caso, contém os dados necessários para preencher a informação de interesse, que é `bairro` e `cidade` do hub."
   ]
  },
  {
   "cell_type": "code",
   "execution_count": null,
   "metadata": {
    "colab": {
     "base_uri": "https://localhost:8080/",
     "height": 204
    },
    "executionInfo": {
     "elapsed": 263,
     "status": "ok",
     "timestamp": 1643127015355,
     "user": {
      "displayName": "Pedro Sartoro",
      "photoUrl": "https://lh3.googleusercontent.com/a-/AOh14GgW0XBtdT2QXAMbCHjbuvidYUCNdUXOZL5KVQUh=s64",
      "userId": "12375826268682074049"
     },
     "user_tz": 180
    },
    "id": "pOGMf_Flz4rp",
    "outputId": "1540871e-b270-47f6-d97c-72691c87cdca"
   },
   "outputs": [
    {
     "data": {
      "text/html": [
       "\n",
       "  <div id=\"df-d2fe0f15-6034-4778-81c8-a0a6cd3a8260\">\n",
       "    <div class=\"colab-df-container\">\n",
       "      <div>\n",
       "<style scoped>\n",
       "    .dataframe tbody tr th:only-of-type {\n",
       "        vertical-align: middle;\n",
       "    }\n",
       "\n",
       "    .dataframe tbody tr th {\n",
       "        vertical-align: top;\n",
       "    }\n",
       "\n",
       "    .dataframe thead th {\n",
       "        text-align: right;\n",
       "    }\n",
       "</style>\n",
       "<table border=\"1\" class=\"dataframe\">\n",
       "  <thead>\n",
       "    <tr style=\"text-align: right;\">\n",
       "      <th></th>\n",
       "      <th>name</th>\n",
       "      <th>region</th>\n",
       "      <th>vehicle_capacity</th>\n",
       "      <th>hub_lng</th>\n",
       "      <th>hub_lat</th>\n",
       "      <th>delivery_size</th>\n",
       "      <th>delivery_lng</th>\n",
       "      <th>delivery_lat</th>\n",
       "      <th>hub_suburb</th>\n",
       "      <th>hub_city</th>\n",
       "    </tr>\n",
       "  </thead>\n",
       "  <tbody>\n",
       "    <tr>\n",
       "      <th>0</th>\n",
       "      <td>cvrp-2-df-33</td>\n",
       "      <td>df-2</td>\n",
       "      <td>180</td>\n",
       "      <td>-48.054989</td>\n",
       "      <td>-15.838145</td>\n",
       "      <td>9</td>\n",
       "      <td>-48.116189</td>\n",
       "      <td>-15.848929</td>\n",
       "      <td>Taguatinga</td>\n",
       "      <td>Taguatinga</td>\n",
       "    </tr>\n",
       "    <tr>\n",
       "      <th>1</th>\n",
       "      <td>cvrp-2-df-33</td>\n",
       "      <td>df-2</td>\n",
       "      <td>180</td>\n",
       "      <td>-48.054989</td>\n",
       "      <td>-15.838145</td>\n",
       "      <td>2</td>\n",
       "      <td>-48.118195</td>\n",
       "      <td>-15.850772</td>\n",
       "      <td>Taguatinga</td>\n",
       "      <td>Taguatinga</td>\n",
       "    </tr>\n",
       "    <tr>\n",
       "      <th>2</th>\n",
       "      <td>cvrp-2-df-33</td>\n",
       "      <td>df-2</td>\n",
       "      <td>180</td>\n",
       "      <td>-48.054989</td>\n",
       "      <td>-15.838145</td>\n",
       "      <td>1</td>\n",
       "      <td>-48.112483</td>\n",
       "      <td>-15.847871</td>\n",
       "      <td>Taguatinga</td>\n",
       "      <td>Taguatinga</td>\n",
       "    </tr>\n",
       "    <tr>\n",
       "      <th>3</th>\n",
       "      <td>cvrp-2-df-33</td>\n",
       "      <td>df-2</td>\n",
       "      <td>180</td>\n",
       "      <td>-48.054989</td>\n",
       "      <td>-15.838145</td>\n",
       "      <td>2</td>\n",
       "      <td>-48.118023</td>\n",
       "      <td>-15.846471</td>\n",
       "      <td>Taguatinga</td>\n",
       "      <td>Taguatinga</td>\n",
       "    </tr>\n",
       "    <tr>\n",
       "      <th>4</th>\n",
       "      <td>cvrp-2-df-33</td>\n",
       "      <td>df-2</td>\n",
       "      <td>180</td>\n",
       "      <td>-48.054989</td>\n",
       "      <td>-15.838145</td>\n",
       "      <td>7</td>\n",
       "      <td>-48.114898</td>\n",
       "      <td>-15.858055</td>\n",
       "      <td>Taguatinga</td>\n",
       "      <td>Taguatinga</td>\n",
       "    </tr>\n",
       "  </tbody>\n",
       "</table>\n",
       "</div>\n",
       "      <button class=\"colab-df-convert\" onclick=\"convertToInteractive('df-d2fe0f15-6034-4778-81c8-a0a6cd3a8260')\"\n",
       "              title=\"Convert this dataframe to an interactive table.\"\n",
       "              style=\"display:none;\">\n",
       "        \n",
       "  <svg xmlns=\"http://www.w3.org/2000/svg\" height=\"24px\"viewBox=\"0 0 24 24\"\n",
       "       width=\"24px\">\n",
       "    <path d=\"M0 0h24v24H0V0z\" fill=\"none\"/>\n",
       "    <path d=\"M18.56 5.44l.94 2.06.94-2.06 2.06-.94-2.06-.94-.94-2.06-.94 2.06-2.06.94zm-11 1L8.5 8.5l.94-2.06 2.06-.94-2.06-.94L8.5 2.5l-.94 2.06-2.06.94zm10 10l.94 2.06.94-2.06 2.06-.94-2.06-.94-.94-2.06-.94 2.06-2.06.94z\"/><path d=\"M17.41 7.96l-1.37-1.37c-.4-.4-.92-.59-1.43-.59-.52 0-1.04.2-1.43.59L10.3 9.45l-7.72 7.72c-.78.78-.78 2.05 0 2.83L4 21.41c.39.39.9.59 1.41.59.51 0 1.02-.2 1.41-.59l7.78-7.78 2.81-2.81c.8-.78.8-2.07 0-2.86zM5.41 20L4 18.59l7.72-7.72 1.47 1.35L5.41 20z\"/>\n",
       "  </svg>\n",
       "      </button>\n",
       "      \n",
       "  <style>\n",
       "    .colab-df-container {\n",
       "      display:flex;\n",
       "      flex-wrap:wrap;\n",
       "      gap: 12px;\n",
       "    }\n",
       "\n",
       "    .colab-df-convert {\n",
       "      background-color: #E8F0FE;\n",
       "      border: none;\n",
       "      border-radius: 50%;\n",
       "      cursor: pointer;\n",
       "      display: none;\n",
       "      fill: #1967D2;\n",
       "      height: 32px;\n",
       "      padding: 0 0 0 0;\n",
       "      width: 32px;\n",
       "    }\n",
       "\n",
       "    .colab-df-convert:hover {\n",
       "      background-color: #E2EBFA;\n",
       "      box-shadow: 0px 1px 2px rgba(60, 64, 67, 0.3), 0px 1px 3px 1px rgba(60, 64, 67, 0.15);\n",
       "      fill: #174EA6;\n",
       "    }\n",
       "\n",
       "    [theme=dark] .colab-df-convert {\n",
       "      background-color: #3B4455;\n",
       "      fill: #D2E3FC;\n",
       "    }\n",
       "\n",
       "    [theme=dark] .colab-df-convert:hover {\n",
       "      background-color: #434B5C;\n",
       "      box-shadow: 0px 1px 3px 1px rgba(0, 0, 0, 0.15);\n",
       "      filter: drop-shadow(0px 1px 2px rgba(0, 0, 0, 0.3));\n",
       "      fill: #FFFFFF;\n",
       "    }\n",
       "  </style>\n",
       "\n",
       "      <script>\n",
       "        const buttonEl =\n",
       "          document.querySelector('#df-d2fe0f15-6034-4778-81c8-a0a6cd3a8260 button.colab-df-convert');\n",
       "        buttonEl.style.display =\n",
       "          google.colab.kernel.accessAllowed ? 'block' : 'none';\n",
       "\n",
       "        async function convertToInteractive(key) {\n",
       "          const element = document.querySelector('#df-d2fe0f15-6034-4778-81c8-a0a6cd3a8260');\n",
       "          const dataTable =\n",
       "            await google.colab.kernel.invokeFunction('convertToInteractive',\n",
       "                                                     [key], {});\n",
       "          if (!dataTable) return;\n",
       "\n",
       "          const docLinkHtml = 'Like what you see? Visit the ' +\n",
       "            '<a target=\"_blank\" href=https://colab.research.google.com/notebooks/data_table.ipynb>data table notebook</a>'\n",
       "            + ' to learn more about interactive tables.';\n",
       "          element.innerHTML = '';\n",
       "          dataTable['output_type'] = 'display_data';\n",
       "          await google.colab.output.renderOutput(dataTable, element);\n",
       "          const docLink = document.createElement('div');\n",
       "          docLink.innerHTML = docLinkHtml;\n",
       "          element.appendChild(docLink);\n",
       "        }\n",
       "      </script>\n",
       "    </div>\n",
       "  </div>\n",
       "  "
      ],
      "text/plain": [
       "           name region  ...   hub_suburb     hub_city\n",
       "0  cvrp-2-df-33   df-2  ...   Taguatinga   Taguatinga\n",
       "1  cvrp-2-df-33   df-2  ...   Taguatinga   Taguatinga\n",
       "2  cvrp-2-df-33   df-2  ...   Taguatinga   Taguatinga\n",
       "3  cvrp-2-df-33   df-2  ...   Taguatinga   Taguatinga\n",
       "4  cvrp-2-df-33   df-2  ...   Taguatinga   Taguatinga\n",
       "\n",
       "[5 rows x 10 columns]"
      ]
     },
     "execution_count": 20,
     "metadata": {},
     "output_type": "execute_result"
    }
   ],
   "source": [
    "hubs = pd.merge(hubs, hubs_geodata, left_index=True, right_index=True)\n",
    "hubs = hubs[['region', 'hub_suburb', 'hub_city']]\n",
    "\n",
    "deliveries_df = pd.merge(deliveries_df, hubs, how='inner', on='region')\n",
    "\n",
    "deliveries_df.head()"
   ]
  },
  {
   "cell_type": "markdown",
   "metadata": {
    "id": "WW38b_lfCLDG"
   },
   "source": [
    "Por fim, unimos os dados geográficos de cada hub ao dataframe original."
   ]
  },
  {
   "cell_type": "code",
   "execution_count": null,
   "metadata": {
    "colab": {
     "base_uri": "https://localhost:8080/"
    },
    "executionInfo": {
     "elapsed": 386,
     "status": "ok",
     "timestamp": 1643127021672,
     "user": {
      "displayName": "Pedro Sartoro",
      "photoUrl": "https://lh3.googleusercontent.com/a-/AOh14GgW0XBtdT2QXAMbCHjbuvidYUCNdUXOZL5KVQUh=s64",
      "userId": "12375826268682074049"
     },
     "user_tz": 180
    },
    "id": "ClJBF9JG6fpN",
    "outputId": "d0f9d1a2-195d-4f9f-c7f3-422a7def6700"
   },
   "outputs": [
    {
     "name": "stdout",
     "output_type": "stream",
     "text": [
      "<class 'pandas.core.frame.DataFrame'>\n",
      "Int64Index: 636149 entries, 0 to 636148\n",
      "Data columns (total 10 columns):\n",
      " #   Column            Non-Null Count   Dtype  \n",
      "---  ------            --------------   -----  \n",
      " 0   name              636149 non-null  object \n",
      " 1   region            636149 non-null  object \n",
      " 2   vehicle_capacity  636149 non-null  int64  \n",
      " 3   hub_lng           636149 non-null  float64\n",
      " 4   hub_lat           636149 non-null  float64\n",
      " 5   delivery_size     636149 non-null  int64  \n",
      " 6   delivery_lng      636149 non-null  float64\n",
      " 7   delivery_lat      636149 non-null  float64\n",
      " 8   hub_suburb        636149 non-null  object \n",
      " 9   hub_city          636149 non-null  object \n",
      "dtypes: float64(4), int64(2), object(4)\n",
      "memory usage: 53.4+ MB\n"
     ]
    }
   ],
   "source": [
    "deliveries_df.info()"
   ]
  },
  {
   "cell_type": "markdown",
   "metadata": {
    "id": "1ZOjFEcTCYmR"
   },
   "source": [
    "Com a adição dos novos dados ao dataframe original, o tamanho se manteve e não há nenhum dado nulo."
   ]
  },
  {
   "cell_type": "markdown",
   "metadata": {
    "id": "hNQg9vsoDIs3"
   },
   "source": [
    "### Deliveries"
   ]
  },
  {
   "cell_type": "markdown",
   "metadata": {
    "id": "V00sJMOBDbPM"
   },
   "source": [
    "Devido ao tamanho da informação e o tempo que levaria para consultar cada entrega, os dados foram coletados do link abaixo."
   ]
  },
  {
   "cell_type": "code",
   "execution_count": null,
   "metadata": {
    "id": "vi38GVECCnUd"
   },
   "outputs": [],
   "source": [
    "!wget -q \"https://raw.githubusercontent.com/andre-marcos-perez/ebac-course-utils/main/dataset/deliveries-geodata.csv\" -O deliveries-geodata.csv"
   ]
  },
  {
   "cell_type": "code",
   "execution_count": null,
   "metadata": {
    "colab": {
     "base_uri": "https://localhost:8080/",
     "height": 204
    },
    "executionInfo": {
     "elapsed": 878,
     "status": "ok",
     "timestamp": 1643128011770,
     "user": {
      "displayName": "Pedro Sartoro",
      "photoUrl": "https://lh3.googleusercontent.com/a-/AOh14GgW0XBtdT2QXAMbCHjbuvidYUCNdUXOZL5KVQUh=s64",
      "userId": "12375826268682074049"
     },
     "user_tz": 180
    },
    "id": "SyNEPzfUDnEV",
    "outputId": "1b43318b-3dd5-4870-fd85-2d984b6f43cf"
   },
   "outputs": [
    {
     "data": {
      "text/html": [
       "\n",
       "  <div id=\"df-dab2f982-b828-4cc7-b6cf-109e53a634b2\">\n",
       "    <div class=\"colab-df-container\">\n",
       "      <div>\n",
       "<style scoped>\n",
       "    .dataframe tbody tr th:only-of-type {\n",
       "        vertical-align: middle;\n",
       "    }\n",
       "\n",
       "    .dataframe tbody tr th {\n",
       "        vertical-align: top;\n",
       "    }\n",
       "\n",
       "    .dataframe thead th {\n",
       "        text-align: right;\n",
       "    }\n",
       "</style>\n",
       "<table border=\"1\" class=\"dataframe\">\n",
       "  <thead>\n",
       "    <tr style=\"text-align: right;\">\n",
       "      <th></th>\n",
       "      <th>delivery_lng</th>\n",
       "      <th>delivery_lat</th>\n",
       "      <th>delivery_city</th>\n",
       "      <th>delivery_suburb</th>\n",
       "    </tr>\n",
       "  </thead>\n",
       "  <tbody>\n",
       "    <tr>\n",
       "      <th>0</th>\n",
       "      <td>-48.116189</td>\n",
       "      <td>-15.848929</td>\n",
       "      <td>Ceilândia</td>\n",
       "      <td>P Sul</td>\n",
       "    </tr>\n",
       "    <tr>\n",
       "      <th>1</th>\n",
       "      <td>-48.118195</td>\n",
       "      <td>-15.850772</td>\n",
       "      <td>Ceilândia</td>\n",
       "      <td>P Sul</td>\n",
       "    </tr>\n",
       "    <tr>\n",
       "      <th>2</th>\n",
       "      <td>-48.112483</td>\n",
       "      <td>-15.847871</td>\n",
       "      <td>Ceilândia</td>\n",
       "      <td>P Sul</td>\n",
       "    </tr>\n",
       "    <tr>\n",
       "      <th>3</th>\n",
       "      <td>-48.118023</td>\n",
       "      <td>-15.846471</td>\n",
       "      <td>Ceilândia</td>\n",
       "      <td>P Sul</td>\n",
       "    </tr>\n",
       "    <tr>\n",
       "      <th>4</th>\n",
       "      <td>-48.114898</td>\n",
       "      <td>-15.858055</td>\n",
       "      <td>Sol Nascente/Pôr do Sol</td>\n",
       "      <td>Sol Nascente/Pôr do Sol</td>\n",
       "    </tr>\n",
       "  </tbody>\n",
       "</table>\n",
       "</div>\n",
       "      <button class=\"colab-df-convert\" onclick=\"convertToInteractive('df-dab2f982-b828-4cc7-b6cf-109e53a634b2')\"\n",
       "              title=\"Convert this dataframe to an interactive table.\"\n",
       "              style=\"display:none;\">\n",
       "        \n",
       "  <svg xmlns=\"http://www.w3.org/2000/svg\" height=\"24px\"viewBox=\"0 0 24 24\"\n",
       "       width=\"24px\">\n",
       "    <path d=\"M0 0h24v24H0V0z\" fill=\"none\"/>\n",
       "    <path d=\"M18.56 5.44l.94 2.06.94-2.06 2.06-.94-2.06-.94-.94-2.06-.94 2.06-2.06.94zm-11 1L8.5 8.5l.94-2.06 2.06-.94-2.06-.94L8.5 2.5l-.94 2.06-2.06.94zm10 10l.94 2.06.94-2.06 2.06-.94-2.06-.94-.94-2.06-.94 2.06-2.06.94z\"/><path d=\"M17.41 7.96l-1.37-1.37c-.4-.4-.92-.59-1.43-.59-.52 0-1.04.2-1.43.59L10.3 9.45l-7.72 7.72c-.78.78-.78 2.05 0 2.83L4 21.41c.39.39.9.59 1.41.59.51 0 1.02-.2 1.41-.59l7.78-7.78 2.81-2.81c.8-.78.8-2.07 0-2.86zM5.41 20L4 18.59l7.72-7.72 1.47 1.35L5.41 20z\"/>\n",
       "  </svg>\n",
       "      </button>\n",
       "      \n",
       "  <style>\n",
       "    .colab-df-container {\n",
       "      display:flex;\n",
       "      flex-wrap:wrap;\n",
       "      gap: 12px;\n",
       "    }\n",
       "\n",
       "    .colab-df-convert {\n",
       "      background-color: #E8F0FE;\n",
       "      border: none;\n",
       "      border-radius: 50%;\n",
       "      cursor: pointer;\n",
       "      display: none;\n",
       "      fill: #1967D2;\n",
       "      height: 32px;\n",
       "      padding: 0 0 0 0;\n",
       "      width: 32px;\n",
       "    }\n",
       "\n",
       "    .colab-df-convert:hover {\n",
       "      background-color: #E2EBFA;\n",
       "      box-shadow: 0px 1px 2px rgba(60, 64, 67, 0.3), 0px 1px 3px 1px rgba(60, 64, 67, 0.15);\n",
       "      fill: #174EA6;\n",
       "    }\n",
       "\n",
       "    [theme=dark] .colab-df-convert {\n",
       "      background-color: #3B4455;\n",
       "      fill: #D2E3FC;\n",
       "    }\n",
       "\n",
       "    [theme=dark] .colab-df-convert:hover {\n",
       "      background-color: #434B5C;\n",
       "      box-shadow: 0px 1px 3px 1px rgba(0, 0, 0, 0.15);\n",
       "      filter: drop-shadow(0px 1px 2px rgba(0, 0, 0, 0.3));\n",
       "      fill: #FFFFFF;\n",
       "    }\n",
       "  </style>\n",
       "\n",
       "      <script>\n",
       "        const buttonEl =\n",
       "          document.querySelector('#df-dab2f982-b828-4cc7-b6cf-109e53a634b2 button.colab-df-convert');\n",
       "        buttonEl.style.display =\n",
       "          google.colab.kernel.accessAllowed ? 'block' : 'none';\n",
       "\n",
       "        async function convertToInteractive(key) {\n",
       "          const element = document.querySelector('#df-dab2f982-b828-4cc7-b6cf-109e53a634b2');\n",
       "          const dataTable =\n",
       "            await google.colab.kernel.invokeFunction('convertToInteractive',\n",
       "                                                     [key], {});\n",
       "          if (!dataTable) return;\n",
       "\n",
       "          const docLinkHtml = 'Like what you see? Visit the ' +\n",
       "            '<a target=\"_blank\" href=https://colab.research.google.com/notebooks/data_table.ipynb>data table notebook</a>'\n",
       "            + ' to learn more about interactive tables.';\n",
       "          element.innerHTML = '';\n",
       "          dataTable['output_type'] = 'display_data';\n",
       "          await google.colab.output.renderOutput(dataTable, element);\n",
       "          const docLink = document.createElement('div');\n",
       "          docLink.innerHTML = docLinkHtml;\n",
       "          element.appendChild(docLink);\n",
       "        }\n",
       "      </script>\n",
       "    </div>\n",
       "  </div>\n",
       "  "
      ],
      "text/plain": [
       "   delivery_lng  delivery_lat            delivery_city          delivery_suburb\n",
       "0    -48.116189    -15.848929                Ceilândia                    P Sul\n",
       "1    -48.118195    -15.850772                Ceilândia                    P Sul\n",
       "2    -48.112483    -15.847871                Ceilândia                    P Sul\n",
       "3    -48.118023    -15.846471                Ceilândia                    P Sul\n",
       "4    -48.114898    -15.858055  Sol Nascente/Pôr do Sol  Sol Nascente/Pôr do Sol"
      ]
     },
     "execution_count": 32,
     "metadata": {},
     "output_type": "execute_result"
    }
   ],
   "source": [
    "deliveries_geo_df = pd.read_csv('deliveries-geodata.csv')\n",
    "deliveries_geo_df.head()"
   ]
  },
  {
   "cell_type": "code",
   "execution_count": null,
   "metadata": {
    "colab": {
     "base_uri": "https://localhost:8080/"
    },
    "executionInfo": {
     "elapsed": 259,
     "status": "ok",
     "timestamp": 1643128093172,
     "user": {
      "displayName": "Pedro Sartoro",
      "photoUrl": "https://lh3.googleusercontent.com/a-/AOh14GgW0XBtdT2QXAMbCHjbuvidYUCNdUXOZL5KVQUh=s64",
      "userId": "12375826268682074049"
     },
     "user_tz": 180
    },
    "id": "HMf7qALKD43N",
    "outputId": "d223e4cd-94d4-4952-8c46-b37b5094714f"
   },
   "outputs": [
    {
     "name": "stdout",
     "output_type": "stream",
     "text": [
      "<class 'pandas.core.frame.DataFrame'>\n",
      "RangeIndex: 636149 entries, 0 to 636148\n",
      "Data columns (total 4 columns):\n",
      " #   Column           Non-Null Count   Dtype  \n",
      "---  ------           --------------   -----  \n",
      " 0   delivery_lng     636149 non-null  float64\n",
      " 1   delivery_lat     636149 non-null  float64\n",
      " 2   delivery_city    634447 non-null  object \n",
      " 3   delivery_suburb  476264 non-null  object \n",
      "dtypes: float64(2), object(2)\n",
      "memory usage: 19.4+ MB\n"
     ]
    }
   ],
   "source": [
    "deliveries_geo_df.info()"
   ]
  },
  {
   "cell_type": "markdown",
   "metadata": {
    "id": "05NFXRg4ERyv"
   },
   "source": [
    "O novo dataframe possui muitos dados nulos das cidades e bairros."
   ]
  },
  {
   "cell_type": "code",
   "execution_count": null,
   "metadata": {
    "colab": {
     "base_uri": "https://localhost:8080/"
    },
    "executionInfo": {
     "elapsed": 548,
     "status": "ok",
     "timestamp": 1643128151098,
     "user": {
      "displayName": "Pedro Sartoro",
      "photoUrl": "https://lh3.googleusercontent.com/a-/AOh14GgW0XBtdT2QXAMbCHjbuvidYUCNdUXOZL5KVQUh=s64",
      "userId": "12375826268682074049"
     },
     "user_tz": 180
    },
    "id": "AFDdO97hEZJD",
    "outputId": "c5c31057-dbb0-4fcc-dbbb-d34cba502650"
   },
   "outputs": [
    {
     "data": {
      "text/plain": [
       "delivery_lng            0\n",
       "delivery_lat            0\n",
       "delivery_city        1702\n",
       "delivery_suburb    159885\n",
       "dtype: int64"
      ]
     },
     "execution_count": 34,
     "metadata": {},
     "output_type": "execute_result"
    }
   ],
   "source": [
    "deliveries_geo_df.isnull().sum()"
   ]
  },
  {
   "cell_type": "markdown",
   "metadata": {
    "id": "5UaYXTDwEf0Q"
   },
   "source": [
    "Não possui dados de mais da metade dos bairros e algumas cidades."
   ]
  },
  {
   "cell_type": "code",
   "execution_count": null,
   "metadata": {
    "colab": {
     "base_uri": "https://localhost:8080/",
     "height": 204
    },
    "executionInfo": {
     "elapsed": 387,
     "status": "ok",
     "timestamp": 1643128318438,
     "user": {
      "displayName": "Pedro Sartoro",
      "photoUrl": "https://lh3.googleusercontent.com/a-/AOh14GgW0XBtdT2QXAMbCHjbuvidYUCNdUXOZL5KVQUh=s64",
      "userId": "12375826268682074049"
     },
     "user_tz": 180
    },
    "id": "WtDscVolEl0o",
    "outputId": "9095d9a3-00da-48bd-e28b-a1f34d85f205"
   },
   "outputs": [
    {
     "data": {
      "text/html": [
       "\n",
       "  <div id=\"df-bc15f947-7e40-489d-9866-f2b202f3a0fd\">\n",
       "    <div class=\"colab-df-container\">\n",
       "      <div>\n",
       "<style scoped>\n",
       "    .dataframe tbody tr th:only-of-type {\n",
       "        vertical-align: middle;\n",
       "    }\n",
       "\n",
       "    .dataframe tbody tr th {\n",
       "        vertical-align: top;\n",
       "    }\n",
       "\n",
       "    .dataframe thead th {\n",
       "        text-align: right;\n",
       "    }\n",
       "</style>\n",
       "<table border=\"1\" class=\"dataframe\">\n",
       "  <thead>\n",
       "    <tr style=\"text-align: right;\">\n",
       "      <th></th>\n",
       "      <th>name</th>\n",
       "      <th>region</th>\n",
       "      <th>vehicle_capacity</th>\n",
       "      <th>hub_lng</th>\n",
       "      <th>hub_lat</th>\n",
       "      <th>delivery_size</th>\n",
       "      <th>delivery_lng</th>\n",
       "      <th>delivery_lat</th>\n",
       "      <th>hub_suburb</th>\n",
       "      <th>hub_city</th>\n",
       "      <th>delivery_city</th>\n",
       "      <th>delivery_suburb</th>\n",
       "    </tr>\n",
       "  </thead>\n",
       "  <tbody>\n",
       "    <tr>\n",
       "      <th>0</th>\n",
       "      <td>cvrp-2-df-33</td>\n",
       "      <td>df-2</td>\n",
       "      <td>180</td>\n",
       "      <td>-48.054989</td>\n",
       "      <td>-15.838145</td>\n",
       "      <td>9</td>\n",
       "      <td>-48.116189</td>\n",
       "      <td>-15.848929</td>\n",
       "      <td>Taguatinga</td>\n",
       "      <td>Taguatinga</td>\n",
       "      <td>Ceilândia</td>\n",
       "      <td>P Sul</td>\n",
       "    </tr>\n",
       "    <tr>\n",
       "      <th>1</th>\n",
       "      <td>cvrp-2-df-33</td>\n",
       "      <td>df-2</td>\n",
       "      <td>180</td>\n",
       "      <td>-48.054989</td>\n",
       "      <td>-15.838145</td>\n",
       "      <td>2</td>\n",
       "      <td>-48.118195</td>\n",
       "      <td>-15.850772</td>\n",
       "      <td>Taguatinga</td>\n",
       "      <td>Taguatinga</td>\n",
       "      <td>Ceilândia</td>\n",
       "      <td>P Sul</td>\n",
       "    </tr>\n",
       "    <tr>\n",
       "      <th>2</th>\n",
       "      <td>cvrp-2-df-33</td>\n",
       "      <td>df-2</td>\n",
       "      <td>180</td>\n",
       "      <td>-48.054989</td>\n",
       "      <td>-15.838145</td>\n",
       "      <td>1</td>\n",
       "      <td>-48.112483</td>\n",
       "      <td>-15.847871</td>\n",
       "      <td>Taguatinga</td>\n",
       "      <td>Taguatinga</td>\n",
       "      <td>Ceilândia</td>\n",
       "      <td>P Sul</td>\n",
       "    </tr>\n",
       "    <tr>\n",
       "      <th>3</th>\n",
       "      <td>cvrp-2-df-33</td>\n",
       "      <td>df-2</td>\n",
       "      <td>180</td>\n",
       "      <td>-48.054989</td>\n",
       "      <td>-15.838145</td>\n",
       "      <td>2</td>\n",
       "      <td>-48.118023</td>\n",
       "      <td>-15.846471</td>\n",
       "      <td>Taguatinga</td>\n",
       "      <td>Taguatinga</td>\n",
       "      <td>Ceilândia</td>\n",
       "      <td>P Sul</td>\n",
       "    </tr>\n",
       "    <tr>\n",
       "      <th>4</th>\n",
       "      <td>cvrp-2-df-33</td>\n",
       "      <td>df-2</td>\n",
       "      <td>180</td>\n",
       "      <td>-48.054989</td>\n",
       "      <td>-15.838145</td>\n",
       "      <td>7</td>\n",
       "      <td>-48.114898</td>\n",
       "      <td>-15.858055</td>\n",
       "      <td>Taguatinga</td>\n",
       "      <td>Taguatinga</td>\n",
       "      <td>Sol Nascente/Pôr do Sol</td>\n",
       "      <td>Sol Nascente/Pôr do Sol</td>\n",
       "    </tr>\n",
       "  </tbody>\n",
       "</table>\n",
       "</div>\n",
       "      <button class=\"colab-df-convert\" onclick=\"convertToInteractive('df-bc15f947-7e40-489d-9866-f2b202f3a0fd')\"\n",
       "              title=\"Convert this dataframe to an interactive table.\"\n",
       "              style=\"display:none;\">\n",
       "        \n",
       "  <svg xmlns=\"http://www.w3.org/2000/svg\" height=\"24px\"viewBox=\"0 0 24 24\"\n",
       "       width=\"24px\">\n",
       "    <path d=\"M0 0h24v24H0V0z\" fill=\"none\"/>\n",
       "    <path d=\"M18.56 5.44l.94 2.06.94-2.06 2.06-.94-2.06-.94-.94-2.06-.94 2.06-2.06.94zm-11 1L8.5 8.5l.94-2.06 2.06-.94-2.06-.94L8.5 2.5l-.94 2.06-2.06.94zm10 10l.94 2.06.94-2.06 2.06-.94-2.06-.94-.94-2.06-.94 2.06-2.06.94z\"/><path d=\"M17.41 7.96l-1.37-1.37c-.4-.4-.92-.59-1.43-.59-.52 0-1.04.2-1.43.59L10.3 9.45l-7.72 7.72c-.78.78-.78 2.05 0 2.83L4 21.41c.39.39.9.59 1.41.59.51 0 1.02-.2 1.41-.59l7.78-7.78 2.81-2.81c.8-.78.8-2.07 0-2.86zM5.41 20L4 18.59l7.72-7.72 1.47 1.35L5.41 20z\"/>\n",
       "  </svg>\n",
       "      </button>\n",
       "      \n",
       "  <style>\n",
       "    .colab-df-container {\n",
       "      display:flex;\n",
       "      flex-wrap:wrap;\n",
       "      gap: 12px;\n",
       "    }\n",
       "\n",
       "    .colab-df-convert {\n",
       "      background-color: #E8F0FE;\n",
       "      border: none;\n",
       "      border-radius: 50%;\n",
       "      cursor: pointer;\n",
       "      display: none;\n",
       "      fill: #1967D2;\n",
       "      height: 32px;\n",
       "      padding: 0 0 0 0;\n",
       "      width: 32px;\n",
       "    }\n",
       "\n",
       "    .colab-df-convert:hover {\n",
       "      background-color: #E2EBFA;\n",
       "      box-shadow: 0px 1px 2px rgba(60, 64, 67, 0.3), 0px 1px 3px 1px rgba(60, 64, 67, 0.15);\n",
       "      fill: #174EA6;\n",
       "    }\n",
       "\n",
       "    [theme=dark] .colab-df-convert {\n",
       "      background-color: #3B4455;\n",
       "      fill: #D2E3FC;\n",
       "    }\n",
       "\n",
       "    [theme=dark] .colab-df-convert:hover {\n",
       "      background-color: #434B5C;\n",
       "      box-shadow: 0px 1px 3px 1px rgba(0, 0, 0, 0.15);\n",
       "      filter: drop-shadow(0px 1px 2px rgba(0, 0, 0, 0.3));\n",
       "      fill: #FFFFFF;\n",
       "    }\n",
       "  </style>\n",
       "\n",
       "      <script>\n",
       "        const buttonEl =\n",
       "          document.querySelector('#df-bc15f947-7e40-489d-9866-f2b202f3a0fd button.colab-df-convert');\n",
       "        buttonEl.style.display =\n",
       "          google.colab.kernel.accessAllowed ? 'block' : 'none';\n",
       "\n",
       "        async function convertToInteractive(key) {\n",
       "          const element = document.querySelector('#df-bc15f947-7e40-489d-9866-f2b202f3a0fd');\n",
       "          const dataTable =\n",
       "            await google.colab.kernel.invokeFunction('convertToInteractive',\n",
       "                                                     [key], {});\n",
       "          if (!dataTable) return;\n",
       "\n",
       "          const docLinkHtml = 'Like what you see? Visit the ' +\n",
       "            '<a target=\"_blank\" href=https://colab.research.google.com/notebooks/data_table.ipynb>data table notebook</a>'\n",
       "            + ' to learn more about interactive tables.';\n",
       "          element.innerHTML = '';\n",
       "          dataTable['output_type'] = 'display_data';\n",
       "          await google.colab.output.renderOutput(dataTable, element);\n",
       "          const docLink = document.createElement('div');\n",
       "          docLink.innerHTML = docLinkHtml;\n",
       "          element.appendChild(docLink);\n",
       "        }\n",
       "      </script>\n",
       "    </div>\n",
       "  </div>\n",
       "  "
      ],
      "text/plain": [
       "           name region  ...            delivery_city          delivery_suburb\n",
       "0  cvrp-2-df-33   df-2  ...                Ceilândia                    P Sul\n",
       "1  cvrp-2-df-33   df-2  ...                Ceilândia                    P Sul\n",
       "2  cvrp-2-df-33   df-2  ...                Ceilândia                    P Sul\n",
       "3  cvrp-2-df-33   df-2  ...                Ceilândia                    P Sul\n",
       "4  cvrp-2-df-33   df-2  ...  Sol Nascente/Pôr do Sol  Sol Nascente/Pôr do Sol\n",
       "\n",
       "[5 rows x 12 columns]"
      ]
     },
     "execution_count": 35,
     "metadata": {},
     "output_type": "execute_result"
    }
   ],
   "source": [
    "deliveries_df = pd.merge(\n",
    "    deliveries_df, \n",
    "    deliveries_geo_df[[\"delivery_city\", \"delivery_suburb\"]], \n",
    "    how=\"inner\", \n",
    "    left_index=True, \n",
    "    right_index=True\n",
    "    )\n",
    "\n",
    "deliveries_df.head()"
   ]
  },
  {
   "cell_type": "code",
   "execution_count": null,
   "metadata": {
    "colab": {
     "base_uri": "https://localhost:8080/"
    },
    "executionInfo": {
     "elapsed": 416,
     "status": "ok",
     "timestamp": 1643128338449,
     "user": {
      "displayName": "Pedro Sartoro",
      "photoUrl": "https://lh3.googleusercontent.com/a-/AOh14GgW0XBtdT2QXAMbCHjbuvidYUCNdUXOZL5KVQUh=s64",
      "userId": "12375826268682074049"
     },
     "user_tz": 180
    },
    "id": "9Th0hAIyFJRD",
    "outputId": "9ac11326-f4d8-4a41-d1bf-671aa21b1f5e"
   },
   "outputs": [
    {
     "name": "stdout",
     "output_type": "stream",
     "text": [
      "<class 'pandas.core.frame.DataFrame'>\n",
      "Int64Index: 636149 entries, 0 to 636148\n",
      "Data columns (total 12 columns):\n",
      " #   Column            Non-Null Count   Dtype  \n",
      "---  ------            --------------   -----  \n",
      " 0   name              636149 non-null  object \n",
      " 1   region            636149 non-null  object \n",
      " 2   vehicle_capacity  636149 non-null  int64  \n",
      " 3   hub_lng           636149 non-null  float64\n",
      " 4   hub_lat           636149 non-null  float64\n",
      " 5   delivery_size     636149 non-null  int64  \n",
      " 6   delivery_lng      636149 non-null  float64\n",
      " 7   delivery_lat      636149 non-null  float64\n",
      " 8   hub_suburb        636149 non-null  object \n",
      " 9   hub_city          636149 non-null  object \n",
      " 10  delivery_city     634447 non-null  object \n",
      " 11  delivery_suburb   476264 non-null  object \n",
      "dtypes: float64(4), int64(2), object(6)\n",
      "memory usage: 83.1+ MB\n"
     ]
    }
   ],
   "source": [
    "deliveries_df.info()"
   ]
  },
  {
   "cell_type": "markdown",
   "metadata": {
    "id": "cP7as1ptFNcS"
   },
   "source": [
    "Após o merge, o dataframe original aumentou de tamanho na memória e agora, como visto antes, temos dados nulos."
   ]
  },
  {
   "cell_type": "markdown",
   "metadata": {
    "id": "mo-p80JxFtqk"
   },
   "source": [
    "### Proporção de dados nulos"
   ]
  },
  {
   "cell_type": "code",
   "execution_count": null,
   "metadata": {
    "colab": {
     "base_uri": "https://localhost:8080/"
    },
    "executionInfo": {
     "elapsed": 395,
     "status": "ok",
     "timestamp": 1643128891355,
     "user": {
      "displayName": "Pedro Sartoro",
      "photoUrl": "https://lh3.googleusercontent.com/a-/AOh14GgW0XBtdT2QXAMbCHjbuvidYUCNdUXOZL5KVQUh=s64",
      "userId": "12375826268682074049"
     },
     "user_tz": 180
    },
    "id": "dDcZgclyFqfY",
    "outputId": "cbc180a1-ac6e-473e-ce0f-c3b36e217bf1"
   },
   "outputs": [
    {
     "name": "stdout",
     "output_type": "stream",
     "text": [
      "Proporção de dados nulos\n",
      "delivery_city possui 0.27% dos dados nulos\n",
      "delivery_suburb possui 25.13% dos dados nulos\n"
     ]
    }
   ],
   "source": [
    "city_isna = round((deliveries_df.delivery_city.isnull().sum() / len(deliveries_df)) * 100, 2)\n",
    "suburb_isna = round((deliveries_df.delivery_suburb.isnull().sum() / len(deliveries_df)) * 100, 2)\n",
    "print('Proporção de dados nulos')\n",
    "print(f'delivery_city possui {city_isna}% dos dados nulos\\ndelivery_suburb possui {suburb_isna}% dos dados nulos')"
   ]
  },
  {
   "cell_type": "markdown",
   "metadata": {
    "id": "bLJdoCrPH2iR"
   },
   "source": [
    "Mais de 25% dos dados de bairro estão faltando. Tem de se avaliar se essa informação será relevante para a análise."
   ]
  },
  {
   "cell_type": "code",
   "execution_count": null,
   "metadata": {
    "colab": {
     "base_uri": "https://localhost:8080/"
    },
    "executionInfo": {
     "elapsed": 271,
     "status": "ok",
     "timestamp": 1643129196091,
     "user": {
      "displayName": "Pedro Sartoro",
      "photoUrl": "https://lh3.googleusercontent.com/a-/AOh14GgW0XBtdT2QXAMbCHjbuvidYUCNdUXOZL5KVQUh=s64",
      "userId": "12375826268682074049"
     },
     "user_tz": 180
    },
    "id": "yZln6IvvFLG4",
    "outputId": "1283aa05-cb79-4b0b-aa05-e204042d6da0"
   },
   "outputs": [
    {
     "data": {
      "text/plain": [
       "Brasília                23.42\n",
       "Taguatinga               7.16\n",
       "Sudoeste / Octogonal     6.95\n",
       "Ceilândia                5.97\n",
       "Águas Claras             5.83\n",
       "Guará                    5.56\n",
       "Lago Sul                 4.56\n",
       "Sobradinho               4.54\n",
       "Lago Norte               4.08\n",
       "Gama                     3.49\n",
       "Name: delivery_city, dtype: float64"
      ]
     },
     "execution_count": 60,
     "metadata": {},
     "output_type": "execute_result"
    }
   ],
   "source": [
    "round((deliveries_df.delivery_city.value_counts() / len(deliveries_df)) * 100, 2).head(10)"
   ]
  },
  {
   "cell_type": "code",
   "execution_count": 139,
   "metadata": {
    "colab": {
     "base_uri": "https://localhost:8080/"
    },
    "executionInfo": {
     "elapsed": 420,
     "status": "ok",
     "timestamp": 1643139627216,
     "user": {
      "displayName": "Pedro Sartoro",
      "photoUrl": "https://lh3.googleusercontent.com/a-/AOh14GgW0XBtdT2QXAMbCHjbuvidYUCNdUXOZL5KVQUh=s64",
      "userId": "12375826268682074049"
     },
     "user_tz": 180
    },
    "id": "v6tM2md-IPma",
    "outputId": "29eeea42-db15-4e6e-9329-8a17a456796d"
   },
   "outputs": [
    {
     "data": {
      "text/plain": [
       "Brasília            8.46\n",
       "Asa Norte           7.66\n",
       "Taguatinga          6.34\n",
       "Asa Sul             5.93\n",
       "Águas Claras        5.66\n",
       "Guará               5.56\n",
       "Samambaia           2.65\n",
       "Sobradinho          1.81\n",
       "Recanto das Emas    1.50\n",
       "P Sul               1.28\n",
       "Name: delivery_suburb, dtype: float64"
      ]
     },
     "execution_count": 139,
     "metadata": {},
     "output_type": "execute_result"
    }
   ],
   "source": [
    "round((deliveries_df.delivery_suburb.value_counts() / len(deliveries_df)) * 100, 2).head(10)"
   ]
  },
  {
   "cell_type": "markdown",
   "metadata": {
    "id": "oK6IT-5oI1e9"
   },
   "source": [
    "Tanto em cidades quanto nos bairros,existem muitos dados agregados em Brasília, o que pode confundir, visto que não existe, dentro do contexto, cidade nem bairro denominados como Brasília, e sim regiões do Distrito Federal."
   ]
  },
  {
   "cell_type": "markdown",
   "metadata": {
    "id": "IKNVB3y9JpXD"
   },
   "source": [
    "## 5\\. Visualização"
   ]
  },
  {
   "cell_type": "code",
   "execution_count": null,
   "metadata": {
    "id": "XI7TwcJaJXEH"
   },
   "outputs": [],
   "source": [
    "!wget -q \"https://geoftp.ibge.gov.br/cartas_e_mapas/bases_cartograficas_continuas/bc100/go_df/versao2016/shapefile/bc100_go_df_shp.zip\" -O distrito-federal.zip\n",
    "!unzip -q distrito-federal.zip -d ./maps\n",
    "!cp ./maps/LIM_Unidade_Federacao_A.shp ./distrito-federal.shp\n",
    "!cp ./maps/LIM_Unidade_Federacao_A.shx ./distrito-federal.shx"
   ]
  },
  {
   "cell_type": "code",
   "execution_count": null,
   "metadata": {
    "colab": {
     "base_uri": "https://localhost:8080/",
     "height": 80
    },
    "executionInfo": {
     "elapsed": 280,
     "status": "ok",
     "timestamp": 1643132012553,
     "user": {
      "displayName": "Pedro Sartoro",
      "photoUrl": "https://lh3.googleusercontent.com/a-/AOh14GgW0XBtdT2QXAMbCHjbuvidYUCNdUXOZL5KVQUh=s64",
      "userId": "12375826268682074049"
     },
     "user_tz": 180
    },
    "id": "6ic3BRwALv_x",
    "outputId": "9f8cde36-3fab-4448-ae2e-8744a45318d9"
   },
   "outputs": [
    {
     "data": {
      "text/html": [
       "\n",
       "  <div id=\"df-eba0ff7c-b0b9-41c4-8047-485a8d98c941\">\n",
       "    <div class=\"colab-df-container\">\n",
       "      <div>\n",
       "<style scoped>\n",
       "    .dataframe tbody tr th:only-of-type {\n",
       "        vertical-align: middle;\n",
       "    }\n",
       "\n",
       "    .dataframe tbody tr th {\n",
       "        vertical-align: top;\n",
       "    }\n",
       "\n",
       "    .dataframe thead th {\n",
       "        text-align: right;\n",
       "    }\n",
       "</style>\n",
       "<table border=\"1\" class=\"dataframe\">\n",
       "  <thead>\n",
       "    <tr style=\"text-align: right;\">\n",
       "      <th></th>\n",
       "      <th>geometry</th>\n",
       "    </tr>\n",
       "  </thead>\n",
       "  <tbody>\n",
       "    <tr>\n",
       "      <th>0</th>\n",
       "      <td>POLYGON Z ((-47.31048 -16.03602 0.00000, -47.3...</td>\n",
       "    </tr>\n",
       "  </tbody>\n",
       "</table>\n",
       "</div>\n",
       "      <button class=\"colab-df-convert\" onclick=\"convertToInteractive('df-eba0ff7c-b0b9-41c4-8047-485a8d98c941')\"\n",
       "              title=\"Convert this dataframe to an interactive table.\"\n",
       "              style=\"display:none;\">\n",
       "        \n",
       "  <svg xmlns=\"http://www.w3.org/2000/svg\" height=\"24px\"viewBox=\"0 0 24 24\"\n",
       "       width=\"24px\">\n",
       "    <path d=\"M0 0h24v24H0V0z\" fill=\"none\"/>\n",
       "    <path d=\"M18.56 5.44l.94 2.06.94-2.06 2.06-.94-2.06-.94-.94-2.06-.94 2.06-2.06.94zm-11 1L8.5 8.5l.94-2.06 2.06-.94-2.06-.94L8.5 2.5l-.94 2.06-2.06.94zm10 10l.94 2.06.94-2.06 2.06-.94-2.06-.94-.94-2.06-.94 2.06-2.06.94z\"/><path d=\"M17.41 7.96l-1.37-1.37c-.4-.4-.92-.59-1.43-.59-.52 0-1.04.2-1.43.59L10.3 9.45l-7.72 7.72c-.78.78-.78 2.05 0 2.83L4 21.41c.39.39.9.59 1.41.59.51 0 1.02-.2 1.41-.59l7.78-7.78 2.81-2.81c.8-.78.8-2.07 0-2.86zM5.41 20L4 18.59l7.72-7.72 1.47 1.35L5.41 20z\"/>\n",
       "  </svg>\n",
       "      </button>\n",
       "      \n",
       "  <style>\n",
       "    .colab-df-container {\n",
       "      display:flex;\n",
       "      flex-wrap:wrap;\n",
       "      gap: 12px;\n",
       "    }\n",
       "\n",
       "    .colab-df-convert {\n",
       "      background-color: #E8F0FE;\n",
       "      border: none;\n",
       "      border-radius: 50%;\n",
       "      cursor: pointer;\n",
       "      display: none;\n",
       "      fill: #1967D2;\n",
       "      height: 32px;\n",
       "      padding: 0 0 0 0;\n",
       "      width: 32px;\n",
       "    }\n",
       "\n",
       "    .colab-df-convert:hover {\n",
       "      background-color: #E2EBFA;\n",
       "      box-shadow: 0px 1px 2px rgba(60, 64, 67, 0.3), 0px 1px 3px 1px rgba(60, 64, 67, 0.15);\n",
       "      fill: #174EA6;\n",
       "    }\n",
       "\n",
       "    [theme=dark] .colab-df-convert {\n",
       "      background-color: #3B4455;\n",
       "      fill: #D2E3FC;\n",
       "    }\n",
       "\n",
       "    [theme=dark] .colab-df-convert:hover {\n",
       "      background-color: #434B5C;\n",
       "      box-shadow: 0px 1px 3px 1px rgba(0, 0, 0, 0.15);\n",
       "      filter: drop-shadow(0px 1px 2px rgba(0, 0, 0, 0.3));\n",
       "      fill: #FFFFFF;\n",
       "    }\n",
       "  </style>\n",
       "\n",
       "      <script>\n",
       "        const buttonEl =\n",
       "          document.querySelector('#df-eba0ff7c-b0b9-41c4-8047-485a8d98c941 button.colab-df-convert');\n",
       "        buttonEl.style.display =\n",
       "          google.colab.kernel.accessAllowed ? 'block' : 'none';\n",
       "\n",
       "        async function convertToInteractive(key) {\n",
       "          const element = document.querySelector('#df-eba0ff7c-b0b9-41c4-8047-485a8d98c941');\n",
       "          const dataTable =\n",
       "            await google.colab.kernel.invokeFunction('convertToInteractive',\n",
       "                                                     [key], {});\n",
       "          if (!dataTable) return;\n",
       "\n",
       "          const docLinkHtml = 'Like what you see? Visit the ' +\n",
       "            '<a target=\"_blank\" href=https://colab.research.google.com/notebooks/data_table.ipynb>data table notebook</a>'\n",
       "            + ' to learn more about interactive tables.';\n",
       "          element.innerHTML = '';\n",
       "          dataTable['output_type'] = 'display_data';\n",
       "          await google.colab.output.renderOutput(dataTable, element);\n",
       "          const docLink = document.createElement('div');\n",
       "          docLink.innerHTML = docLinkHtml;\n",
       "          element.appendChild(docLink);\n",
       "        }\n",
       "      </script>\n",
       "    </div>\n",
       "  </div>\n",
       "  "
      ],
      "text/plain": [
       "                                            geometry\n",
       "0  POLYGON Z ((-47.31048 -16.03602 0.00000, -47.3..."
      ]
     },
     "execution_count": 97,
     "metadata": {},
     "output_type": "execute_result"
    }
   ],
   "source": [
    "mapa = geopandas.read_file('distrito-federal.shp')\n",
    "mapa = mapa.loc[[0]]\n",
    "mapa.head()"
   ]
  },
  {
   "cell_type": "code",
   "execution_count": null,
   "metadata": {
    "colab": {
     "base_uri": "https://localhost:8080/",
     "height": 142
    },
    "executionInfo": {
     "elapsed": 294,
     "status": "ok",
     "timestamp": 1643132220782,
     "user": {
      "displayName": "Pedro Sartoro",
      "photoUrl": "https://lh3.googleusercontent.com/a-/AOh14GgW0XBtdT2QXAMbCHjbuvidYUCNdUXOZL5KVQUh=s64",
      "userId": "12375826268682074049"
     },
     "user_tz": 180
    },
    "id": "2sdrjof5TRSX",
    "outputId": "453b2aac-dba7-4f57-fa2f-a126ad0ab225"
   },
   "outputs": [
    {
     "data": {
      "text/html": [
       "\n",
       "  <div id=\"df-9379dc39-aa54-455b-96ff-b2c03437beb4\">\n",
       "    <div class=\"colab-df-container\">\n",
       "      <div>\n",
       "<style scoped>\n",
       "    .dataframe tbody tr th:only-of-type {\n",
       "        vertical-align: middle;\n",
       "    }\n",
       "\n",
       "    .dataframe tbody tr th {\n",
       "        vertical-align: top;\n",
       "    }\n",
       "\n",
       "    .dataframe thead th {\n",
       "        text-align: right;\n",
       "    }\n",
       "</style>\n",
       "<table border=\"1\" class=\"dataframe\">\n",
       "  <thead>\n",
       "    <tr style=\"text-align: right;\">\n",
       "      <th></th>\n",
       "      <th>region</th>\n",
       "      <th>hub_lng</th>\n",
       "      <th>hub_lat</th>\n",
       "      <th>geometry</th>\n",
       "    </tr>\n",
       "  </thead>\n",
       "  <tbody>\n",
       "    <tr>\n",
       "      <th>0</th>\n",
       "      <td>df-2</td>\n",
       "      <td>-48.054989</td>\n",
       "      <td>-15.838145</td>\n",
       "      <td>POINT (-48.05499 -15.83814)</td>\n",
       "    </tr>\n",
       "    <tr>\n",
       "      <th>1</th>\n",
       "      <td>df-1</td>\n",
       "      <td>-47.893662</td>\n",
       "      <td>-15.805118</td>\n",
       "      <td>POINT (-47.89366 -15.80512)</td>\n",
       "    </tr>\n",
       "    <tr>\n",
       "      <th>2</th>\n",
       "      <td>df-0</td>\n",
       "      <td>-47.802665</td>\n",
       "      <td>-15.657014</td>\n",
       "      <td>POINT (-47.80266 -15.65701)</td>\n",
       "    </tr>\n",
       "  </tbody>\n",
       "</table>\n",
       "</div>\n",
       "      <button class=\"colab-df-convert\" onclick=\"convertToInteractive('df-9379dc39-aa54-455b-96ff-b2c03437beb4')\"\n",
       "              title=\"Convert this dataframe to an interactive table.\"\n",
       "              style=\"display:none;\">\n",
       "        \n",
       "  <svg xmlns=\"http://www.w3.org/2000/svg\" height=\"24px\"viewBox=\"0 0 24 24\"\n",
       "       width=\"24px\">\n",
       "    <path d=\"M0 0h24v24H0V0z\" fill=\"none\"/>\n",
       "    <path d=\"M18.56 5.44l.94 2.06.94-2.06 2.06-.94-2.06-.94-.94-2.06-.94 2.06-2.06.94zm-11 1L8.5 8.5l.94-2.06 2.06-.94-2.06-.94L8.5 2.5l-.94 2.06-2.06.94zm10 10l.94 2.06.94-2.06 2.06-.94-2.06-.94-.94-2.06-.94 2.06-2.06.94z\"/><path d=\"M17.41 7.96l-1.37-1.37c-.4-.4-.92-.59-1.43-.59-.52 0-1.04.2-1.43.59L10.3 9.45l-7.72 7.72c-.78.78-.78 2.05 0 2.83L4 21.41c.39.39.9.59 1.41.59.51 0 1.02-.2 1.41-.59l7.78-7.78 2.81-2.81c.8-.78.8-2.07 0-2.86zM5.41 20L4 18.59l7.72-7.72 1.47 1.35L5.41 20z\"/>\n",
       "  </svg>\n",
       "      </button>\n",
       "      \n",
       "  <style>\n",
       "    .colab-df-container {\n",
       "      display:flex;\n",
       "      flex-wrap:wrap;\n",
       "      gap: 12px;\n",
       "    }\n",
       "\n",
       "    .colab-df-convert {\n",
       "      background-color: #E8F0FE;\n",
       "      border: none;\n",
       "      border-radius: 50%;\n",
       "      cursor: pointer;\n",
       "      display: none;\n",
       "      fill: #1967D2;\n",
       "      height: 32px;\n",
       "      padding: 0 0 0 0;\n",
       "      width: 32px;\n",
       "    }\n",
       "\n",
       "    .colab-df-convert:hover {\n",
       "      background-color: #E2EBFA;\n",
       "      box-shadow: 0px 1px 2px rgba(60, 64, 67, 0.3), 0px 1px 3px 1px rgba(60, 64, 67, 0.15);\n",
       "      fill: #174EA6;\n",
       "    }\n",
       "\n",
       "    [theme=dark] .colab-df-convert {\n",
       "      background-color: #3B4455;\n",
       "      fill: #D2E3FC;\n",
       "    }\n",
       "\n",
       "    [theme=dark] .colab-df-convert:hover {\n",
       "      background-color: #434B5C;\n",
       "      box-shadow: 0px 1px 3px 1px rgba(0, 0, 0, 0.15);\n",
       "      filter: drop-shadow(0px 1px 2px rgba(0, 0, 0, 0.3));\n",
       "      fill: #FFFFFF;\n",
       "    }\n",
       "  </style>\n",
       "\n",
       "      <script>\n",
       "        const buttonEl =\n",
       "          document.querySelector('#df-9379dc39-aa54-455b-96ff-b2c03437beb4 button.colab-df-convert');\n",
       "        buttonEl.style.display =\n",
       "          google.colab.kernel.accessAllowed ? 'block' : 'none';\n",
       "\n",
       "        async function convertToInteractive(key) {\n",
       "          const element = document.querySelector('#df-9379dc39-aa54-455b-96ff-b2c03437beb4');\n",
       "          const dataTable =\n",
       "            await google.colab.kernel.invokeFunction('convertToInteractive',\n",
       "                                                     [key], {});\n",
       "          if (!dataTable) return;\n",
       "\n",
       "          const docLinkHtml = 'Like what you see? Visit the ' +\n",
       "            '<a target=\"_blank\" href=https://colab.research.google.com/notebooks/data_table.ipynb>data table notebook</a>'\n",
       "            + ' to learn more about interactive tables.';\n",
       "          element.innerHTML = '';\n",
       "          dataTable['output_type'] = 'display_data';\n",
       "          await google.colab.output.renderOutput(dataTable, element);\n",
       "          const docLink = document.createElement('div');\n",
       "          docLink.innerHTML = docLinkHtml;\n",
       "          element.appendChild(docLink);\n",
       "        }\n",
       "      </script>\n",
       "    </div>\n",
       "  </div>\n",
       "  "
      ],
      "text/plain": [
       "  region    hub_lng    hub_lat                     geometry\n",
       "0   df-2 -48.054989 -15.838145  POINT (-48.05499 -15.83814)\n",
       "1   df-1 -47.893662 -15.805118  POINT (-47.89366 -15.80512)\n",
       "2   df-0 -47.802665 -15.657014  POINT (-47.80266 -15.65701)"
      ]
     },
     "execution_count": 98,
     "metadata": {},
     "output_type": "execute_result"
    }
   ],
   "source": [
    "hubs = deliveries_df[['region', 'hub_lng', 'hub_lat']].drop_duplicates().reset_index(drop=True)\n",
    "geo_hubs = geopandas.GeoDataFrame(hubs, geometry=geopandas.points_from_xy(hubs.hub_lng, hubs.hub_lat))\n",
    "geo_hubs.head()"
   ]
  },
  {
   "cell_type": "code",
   "execution_count": null,
   "metadata": {
    "colab": {
     "base_uri": "https://localhost:8080/",
     "height": 333
    },
    "executionInfo": {
     "elapsed": 8811,
     "status": "ok",
     "timestamp": 1643132343177,
     "user": {
      "displayName": "Pedro Sartoro",
      "photoUrl": "https://lh3.googleusercontent.com/a-/AOh14GgW0XBtdT2QXAMbCHjbuvidYUCNdUXOZL5KVQUh=s64",
      "userId": "12375826268682074049"
     },
     "user_tz": 180
    },
    "id": "t-t6Ul6oUTP3",
    "outputId": "45594e9d-06c4-4403-b946-14984f452d5f"
   },
   "outputs": [
    {
     "data": {
      "text/html": [
       "\n",
       "  <div id=\"df-9526370c-08dc-4bd9-88be-21f9e408495c\">\n",
       "    <div class=\"colab-df-container\">\n",
       "      <div>\n",
       "<style scoped>\n",
       "    .dataframe tbody tr th:only-of-type {\n",
       "        vertical-align: middle;\n",
       "    }\n",
       "\n",
       "    .dataframe tbody tr th {\n",
       "        vertical-align: top;\n",
       "    }\n",
       "\n",
       "    .dataframe thead th {\n",
       "        text-align: right;\n",
       "    }\n",
       "</style>\n",
       "<table border=\"1\" class=\"dataframe\">\n",
       "  <thead>\n",
       "    <tr style=\"text-align: right;\">\n",
       "      <th></th>\n",
       "      <th>name</th>\n",
       "      <th>region</th>\n",
       "      <th>vehicle_capacity</th>\n",
       "      <th>hub_lng</th>\n",
       "      <th>hub_lat</th>\n",
       "      <th>delivery_size</th>\n",
       "      <th>delivery_lng</th>\n",
       "      <th>delivery_lat</th>\n",
       "      <th>hub_suburb</th>\n",
       "      <th>hub_city</th>\n",
       "      <th>delivery_city</th>\n",
       "      <th>delivery_suburb</th>\n",
       "      <th>geometry</th>\n",
       "    </tr>\n",
       "  </thead>\n",
       "  <tbody>\n",
       "    <tr>\n",
       "      <th>0</th>\n",
       "      <td>cvrp-2-df-33</td>\n",
       "      <td>df-2</td>\n",
       "      <td>180</td>\n",
       "      <td>-48.054989</td>\n",
       "      <td>-15.838145</td>\n",
       "      <td>9</td>\n",
       "      <td>-48.116189</td>\n",
       "      <td>-15.848929</td>\n",
       "      <td>Taguatinga</td>\n",
       "      <td>Taguatinga</td>\n",
       "      <td>Ceilândia</td>\n",
       "      <td>P Sul</td>\n",
       "      <td>POINT (-48.11619 -15.84893)</td>\n",
       "    </tr>\n",
       "    <tr>\n",
       "      <th>1</th>\n",
       "      <td>cvrp-2-df-33</td>\n",
       "      <td>df-2</td>\n",
       "      <td>180</td>\n",
       "      <td>-48.054989</td>\n",
       "      <td>-15.838145</td>\n",
       "      <td>2</td>\n",
       "      <td>-48.118195</td>\n",
       "      <td>-15.850772</td>\n",
       "      <td>Taguatinga</td>\n",
       "      <td>Taguatinga</td>\n",
       "      <td>Ceilândia</td>\n",
       "      <td>P Sul</td>\n",
       "      <td>POINT (-48.11819 -15.85077)</td>\n",
       "    </tr>\n",
       "    <tr>\n",
       "      <th>2</th>\n",
       "      <td>cvrp-2-df-33</td>\n",
       "      <td>df-2</td>\n",
       "      <td>180</td>\n",
       "      <td>-48.054989</td>\n",
       "      <td>-15.838145</td>\n",
       "      <td>1</td>\n",
       "      <td>-48.112483</td>\n",
       "      <td>-15.847871</td>\n",
       "      <td>Taguatinga</td>\n",
       "      <td>Taguatinga</td>\n",
       "      <td>Ceilândia</td>\n",
       "      <td>P Sul</td>\n",
       "      <td>POINT (-48.11248 -15.84787)</td>\n",
       "    </tr>\n",
       "    <tr>\n",
       "      <th>3</th>\n",
       "      <td>cvrp-2-df-33</td>\n",
       "      <td>df-2</td>\n",
       "      <td>180</td>\n",
       "      <td>-48.054989</td>\n",
       "      <td>-15.838145</td>\n",
       "      <td>2</td>\n",
       "      <td>-48.118023</td>\n",
       "      <td>-15.846471</td>\n",
       "      <td>Taguatinga</td>\n",
       "      <td>Taguatinga</td>\n",
       "      <td>Ceilândia</td>\n",
       "      <td>P Sul</td>\n",
       "      <td>POINT (-48.11802 -15.84647)</td>\n",
       "    </tr>\n",
       "    <tr>\n",
       "      <th>4</th>\n",
       "      <td>cvrp-2-df-33</td>\n",
       "      <td>df-2</td>\n",
       "      <td>180</td>\n",
       "      <td>-48.054989</td>\n",
       "      <td>-15.838145</td>\n",
       "      <td>7</td>\n",
       "      <td>-48.114898</td>\n",
       "      <td>-15.858055</td>\n",
       "      <td>Taguatinga</td>\n",
       "      <td>Taguatinga</td>\n",
       "      <td>Sol Nascente/Pôr do Sol</td>\n",
       "      <td>Sol Nascente/Pôr do Sol</td>\n",
       "      <td>POINT (-48.11490 -15.85805)</td>\n",
       "    </tr>\n",
       "  </tbody>\n",
       "</table>\n",
       "</div>\n",
       "      <button class=\"colab-df-convert\" onclick=\"convertToInteractive('df-9526370c-08dc-4bd9-88be-21f9e408495c')\"\n",
       "              title=\"Convert this dataframe to an interactive table.\"\n",
       "              style=\"display:none;\">\n",
       "        \n",
       "  <svg xmlns=\"http://www.w3.org/2000/svg\" height=\"24px\"viewBox=\"0 0 24 24\"\n",
       "       width=\"24px\">\n",
       "    <path d=\"M0 0h24v24H0V0z\" fill=\"none\"/>\n",
       "    <path d=\"M18.56 5.44l.94 2.06.94-2.06 2.06-.94-2.06-.94-.94-2.06-.94 2.06-2.06.94zm-11 1L8.5 8.5l.94-2.06 2.06-.94-2.06-.94L8.5 2.5l-.94 2.06-2.06.94zm10 10l.94 2.06.94-2.06 2.06-.94-2.06-.94-.94-2.06-.94 2.06-2.06.94z\"/><path d=\"M17.41 7.96l-1.37-1.37c-.4-.4-.92-.59-1.43-.59-.52 0-1.04.2-1.43.59L10.3 9.45l-7.72 7.72c-.78.78-.78 2.05 0 2.83L4 21.41c.39.39.9.59 1.41.59.51 0 1.02-.2 1.41-.59l7.78-7.78 2.81-2.81c.8-.78.8-2.07 0-2.86zM5.41 20L4 18.59l7.72-7.72 1.47 1.35L5.41 20z\"/>\n",
       "  </svg>\n",
       "      </button>\n",
       "      \n",
       "  <style>\n",
       "    .colab-df-container {\n",
       "      display:flex;\n",
       "      flex-wrap:wrap;\n",
       "      gap: 12px;\n",
       "    }\n",
       "\n",
       "    .colab-df-convert {\n",
       "      background-color: #E8F0FE;\n",
       "      border: none;\n",
       "      border-radius: 50%;\n",
       "      cursor: pointer;\n",
       "      display: none;\n",
       "      fill: #1967D2;\n",
       "      height: 32px;\n",
       "      padding: 0 0 0 0;\n",
       "      width: 32px;\n",
       "    }\n",
       "\n",
       "    .colab-df-convert:hover {\n",
       "      background-color: #E2EBFA;\n",
       "      box-shadow: 0px 1px 2px rgba(60, 64, 67, 0.3), 0px 1px 3px 1px rgba(60, 64, 67, 0.15);\n",
       "      fill: #174EA6;\n",
       "    }\n",
       "\n",
       "    [theme=dark] .colab-df-convert {\n",
       "      background-color: #3B4455;\n",
       "      fill: #D2E3FC;\n",
       "    }\n",
       "\n",
       "    [theme=dark] .colab-df-convert:hover {\n",
       "      background-color: #434B5C;\n",
       "      box-shadow: 0px 1px 3px 1px rgba(0, 0, 0, 0.15);\n",
       "      filter: drop-shadow(0px 1px 2px rgba(0, 0, 0, 0.3));\n",
       "      fill: #FFFFFF;\n",
       "    }\n",
       "  </style>\n",
       "\n",
       "      <script>\n",
       "        const buttonEl =\n",
       "          document.querySelector('#df-9526370c-08dc-4bd9-88be-21f9e408495c button.colab-df-convert');\n",
       "        buttonEl.style.display =\n",
       "          google.colab.kernel.accessAllowed ? 'block' : 'none';\n",
       "\n",
       "        async function convertToInteractive(key) {\n",
       "          const element = document.querySelector('#df-9526370c-08dc-4bd9-88be-21f9e408495c');\n",
       "          const dataTable =\n",
       "            await google.colab.kernel.invokeFunction('convertToInteractive',\n",
       "                                                     [key], {});\n",
       "          if (!dataTable) return;\n",
       "\n",
       "          const docLinkHtml = 'Like what you see? Visit the ' +\n",
       "            '<a target=\"_blank\" href=https://colab.research.google.com/notebooks/data_table.ipynb>data table notebook</a>'\n",
       "            + ' to learn more about interactive tables.';\n",
       "          element.innerHTML = '';\n",
       "          dataTable['output_type'] = 'display_data';\n",
       "          await google.colab.output.renderOutput(dataTable, element);\n",
       "          const docLink = document.createElement('div');\n",
       "          docLink.innerHTML = docLinkHtml;\n",
       "          element.appendChild(docLink);\n",
       "        }\n",
       "      </script>\n",
       "    </div>\n",
       "  </div>\n",
       "  "
      ],
      "text/plain": [
       "           name region  ...          delivery_suburb                     geometry\n",
       "0  cvrp-2-df-33   df-2  ...                    P Sul  POINT (-48.11619 -15.84893)\n",
       "1  cvrp-2-df-33   df-2  ...                    P Sul  POINT (-48.11819 -15.85077)\n",
       "2  cvrp-2-df-33   df-2  ...                    P Sul  POINT (-48.11248 -15.84787)\n",
       "3  cvrp-2-df-33   df-2  ...                    P Sul  POINT (-48.11802 -15.84647)\n",
       "4  cvrp-2-df-33   df-2  ...  Sol Nascente/Pôr do Sol  POINT (-48.11490 -15.85805)\n",
       "\n",
       "[5 rows x 13 columns]"
      ]
     },
     "execution_count": 99,
     "metadata": {},
     "output_type": "execute_result"
    }
   ],
   "source": [
    "geo_deliveries = geopandas.GeoDataFrame(deliveries_df, geometry=geopandas.points_from_xy(deliveries_df.delivery_lng, deliveries_df.delivery_lat))\n",
    "geo_deliveries.head()"
   ]
  },
  {
   "cell_type": "code",
   "execution_count": 142,
   "metadata": {
    "colab": {
     "base_uri": "https://localhost:8080/",
     "height": 716
    },
    "executionInfo": {
     "elapsed": 38538,
     "status": "ok",
     "timestamp": 1643140212527,
     "user": {
      "displayName": "Pedro Sartoro",
      "photoUrl": "https://lh3.googleusercontent.com/a-/AOh14GgW0XBtdT2QXAMbCHjbuvidYUCNdUXOZL5KVQUh=s64",
      "userId": "12375826268682074049"
     },
     "user_tz": 180
    },
    "id": "qT0jvNqnUjge",
    "outputId": "b1ec40f3-e8f9-4f02-f53f-16310a214f75"
   },
   "outputs": [
    {
     "data": {
      "image/png": "[encoded data removed]",
      "text/plain": [
       "<Figure size 1417.32x1417.32 with 1 Axes>"
      ]
     },
     "metadata": {
      "needs_background": "light"
     },
     "output_type": "display_data"
    }
   ],
   "source": [
    "fig, ax = plt.subplots(figsize = (50/2.54, 50/2.54))\n",
    "mapa.plot(ax=ax, alpha=0.4, color=\"lightgrey\")\n",
    "\n",
    "geo_deliveries.query(\"region == 'df-0'\").plot(ax=ax, markersize=1, color='red', label='df-0')\n",
    "geo_deliveries.query(\"region == 'df-1'\").plot(ax=ax, markersize=1, color='blue', label='df-1')\n",
    "geo_deliveries.query(\"region == 'df-2'\").plot(ax=ax, markersize=1, color='seagreen', label='df-2')\n",
    "\n",
    "geo_hubs.plot(ax=ax, markersize=90, marker='o', color='#000', label='hubs')\n",
    "\n",
    "\n",
    "plt.title('\\nEntregas no Distrito Federal por Hub\\n', fontsize=14)\n",
    "lgnd = plt.legend(prop={\"size\": 15})\n",
    "for handle in lgnd.legendHandles:\n",
    "    handle.set_sizes([50])"
   ]
  },
  {
   "cell_type": "markdown",
   "metadata": {
    "id": "X408u-KKphu-"
   },
   "source": [
    "Usando o pacote `geopandas` construímos o mapa do DF e marcamos as coordenadas de cada hub, pintando sua área de cobertura de entrega.\n",
    "\n",
    "Região df-0 tem uma cobertura mais esparçada, enquanto os outros tem entregas mais concentradas. Talvez, nessa área, se concentre a zona rural do DF.\n",
    "\n",
    "Região df1 tem suas entregas mais concentradas, muito por atender o centro de Brasília.\n",
    "\n",
    "Região df-2 tem tanto entregas mais concentradas, quanto mais espalhadas.\n",
    "\n",
    "As regiões df-1 e df-2 possuem entregas que se confundem, \"invadinho\" o território um do outro. "
   ]
  },
  {
   "cell_type": "code",
   "execution_count": 119,
   "metadata": {
    "colab": {
     "base_uri": "https://localhost:8080/",
     "height": 142
    },
    "executionInfo": {
     "elapsed": 283,
     "status": "ok",
     "timestamp": 1643139146118,
     "user": {
      "displayName": "Pedro Sartoro",
      "photoUrl": "https://lh3.googleusercontent.com/a-/AOh14GgW0XBtdT2QXAMbCHjbuvidYUCNdUXOZL5KVQUh=s64",
      "userId": "12375826268682074049"
     },
     "user_tz": 180
    },
    "id": "RkxvNv_KrpRO",
    "outputId": "117204c2-68c2-49cc-ce9e-4605ddc7f951"
   },
   "outputs": [
    {
     "data": {
      "text/html": [
       "\n",
       "  <div id=\"df-dd9a69e4-7924-4d4b-88ff-71040a783b83\">\n",
       "    <div class=\"colab-df-container\">\n",
       "      <div>\n",
       "<style scoped>\n",
       "    .dataframe tbody tr th:only-of-type {\n",
       "        vertical-align: middle;\n",
       "    }\n",
       "\n",
       "    .dataframe tbody tr th {\n",
       "        vertical-align: top;\n",
       "    }\n",
       "\n",
       "    .dataframe thead th {\n",
       "        text-align: right;\n",
       "    }\n",
       "</style>\n",
       "<table border=\"1\" class=\"dataframe\">\n",
       "  <thead>\n",
       "    <tr style=\"text-align: right;\">\n",
       "      <th></th>\n",
       "      <th>region</th>\n",
       "      <th>vehicle_capacity</th>\n",
       "      <th>percent</th>\n",
       "    </tr>\n",
       "  </thead>\n",
       "  <tbody>\n",
       "    <tr>\n",
       "      <th>0</th>\n",
       "      <td>df-1</td>\n",
       "      <td>180</td>\n",
       "      <td>0.478988</td>\n",
       "    </tr>\n",
       "    <tr>\n",
       "      <th>1</th>\n",
       "      <td>df-2</td>\n",
       "      <td>180</td>\n",
       "      <td>0.410783</td>\n",
       "    </tr>\n",
       "    <tr>\n",
       "      <th>2</th>\n",
       "      <td>df-0</td>\n",
       "      <td>180</td>\n",
       "      <td>0.110229</td>\n",
       "    </tr>\n",
       "  </tbody>\n",
       "</table>\n",
       "</div>\n",
       "      <button class=\"colab-df-convert\" onclick=\"convertToInteractive('df-dd9a69e4-7924-4d4b-88ff-71040a783b83')\"\n",
       "              title=\"Convert this dataframe to an interactive table.\"\n",
       "              style=\"display:none;\">\n",
       "        \n",
       "  <svg xmlns=\"http://www.w3.org/2000/svg\" height=\"24px\"viewBox=\"0 0 24 24\"\n",
       "       width=\"24px\">\n",
       "    <path d=\"M0 0h24v24H0V0z\" fill=\"none\"/>\n",
       "    <path d=\"M18.56 5.44l.94 2.06.94-2.06 2.06-.94-2.06-.94-.94-2.06-.94 2.06-2.06.94zm-11 1L8.5 8.5l.94-2.06 2.06-.94-2.06-.94L8.5 2.5l-.94 2.06-2.06.94zm10 10l.94 2.06.94-2.06 2.06-.94-2.06-.94-.94-2.06-.94 2.06-2.06.94z\"/><path d=\"M17.41 7.96l-1.37-1.37c-.4-.4-.92-.59-1.43-.59-.52 0-1.04.2-1.43.59L10.3 9.45l-7.72 7.72c-.78.78-.78 2.05 0 2.83L4 21.41c.39.39.9.59 1.41.59.51 0 1.02-.2 1.41-.59l7.78-7.78 2.81-2.81c.8-.78.8-2.07 0-2.86zM5.41 20L4 18.59l7.72-7.72 1.47 1.35L5.41 20z\"/>\n",
       "  </svg>\n",
       "      </button>\n",
       "      \n",
       "  <style>\n",
       "    .colab-df-container {\n",
       "      display:flex;\n",
       "      flex-wrap:wrap;\n",
       "      gap: 12px;\n",
       "    }\n",
       "\n",
       "    .colab-df-convert {\n",
       "      background-color: #E8F0FE;\n",
       "      border: none;\n",
       "      border-radius: 50%;\n",
       "      cursor: pointer;\n",
       "      display: none;\n",
       "      fill: #1967D2;\n",
       "      height: 32px;\n",
       "      padding: 0 0 0 0;\n",
       "      width: 32px;\n",
       "    }\n",
       "\n",
       "    .colab-df-convert:hover {\n",
       "      background-color: #E2EBFA;\n",
       "      box-shadow: 0px 1px 2px rgba(60, 64, 67, 0.3), 0px 1px 3px 1px rgba(60, 64, 67, 0.15);\n",
       "      fill: #174EA6;\n",
       "    }\n",
       "\n",
       "    [theme=dark] .colab-df-convert {\n",
       "      background-color: #3B4455;\n",
       "      fill: #D2E3FC;\n",
       "    }\n",
       "\n",
       "    [theme=dark] .colab-df-convert:hover {\n",
       "      background-color: #434B5C;\n",
       "      box-shadow: 0px 1px 3px 1px rgba(0, 0, 0, 0.15);\n",
       "      filter: drop-shadow(0px 1px 2px rgba(0, 0, 0, 0.3));\n",
       "      fill: #FFFFFF;\n",
       "    }\n",
       "  </style>\n",
       "\n",
       "      <script>\n",
       "        const buttonEl =\n",
       "          document.querySelector('#df-dd9a69e4-7924-4d4b-88ff-71040a783b83 button.colab-df-convert');\n",
       "        buttonEl.style.display =\n",
       "          google.colab.kernel.accessAllowed ? 'block' : 'none';\n",
       "\n",
       "        async function convertToInteractive(key) {\n",
       "          const element = document.querySelector('#df-dd9a69e4-7924-4d4b-88ff-71040a783b83');\n",
       "          const dataTable =\n",
       "            await google.colab.kernel.invokeFunction('convertToInteractive',\n",
       "                                                     [key], {});\n",
       "          if (!dataTable) return;\n",
       "\n",
       "          const docLinkHtml = 'Like what you see? Visit the ' +\n",
       "            '<a target=\"_blank\" href=https://colab.research.google.com/notebooks/data_table.ipynb>data table notebook</a>'\n",
       "            + ' to learn more about interactive tables.';\n",
       "          element.innerHTML = '';\n",
       "          dataTable['output_type'] = 'display_data';\n",
       "          await google.colab.output.renderOutput(dataTable, element);\n",
       "          const docLink = document.createElement('div');\n",
       "          docLink.innerHTML = docLinkHtml;\n",
       "          element.appendChild(docLink);\n",
       "        }\n",
       "      </script>\n",
       "    </div>\n",
       "  </div>\n",
       "  "
      ],
      "text/plain": [
       "  region  vehicle_capacity   percent\n",
       "0   df-1               180  0.478988\n",
       "1   df-2               180  0.410783\n",
       "2   df-0               180  0.110229"
      ]
     },
     "execution_count": 119,
     "metadata": {},
     "output_type": "execute_result"
    }
   ],
   "source": [
    "data = pd.DataFrame(deliveries_df[['region', 'vehicle_capacity']].value_counts(normalize=True)).reset_index()\n",
    "data.rename(columns={0: 'percent'\u001c",
    "}, inplace=True)\n",
    "data"
   ]
  },
  {
   "cell_type": "code",
   "execution_count": 141,
   "metadata": {
    "colab": {
     "base_uri": "https://localhost:8080/",
     "height": 393
    },
    "executionInfo": {
     "elapsed": 282,
     "status": "ok",
     "timestamp": 1643140015766,
     "user": {
      "displayName": "Pedro Sartoro",
      "photoUrl": "https://lh3.googleusercontent.com/a-/AOh14GgW0XBtdT2QXAMbCHjbuvidYUCNdUXOZL5KVQUh=s64",
      "userId": "12375826268682074049"
     },
     "user_tz": 180
    },
    "id": "ynmVkFJZueV5",
    "outputId": "00156eb3-6683-4353-d384-8afb3fad5842"
   },
   "outputs": [
    {
     "data": {
      "image/png": "[encoded data removed]",
      "text/plain": [
       "<Figure size 576x360 with 1 Axes>"
      ]
     },
     "metadata": {
      "needs_background": "light"
     },
     "output_type": "display_data"
    }
   ],
   "source": [
    "plt.figure(figsize=(8, 5))\n",
    "\n",
    "sns.barplot(data=data, x='region', y='percent')\n",
    "\n",
    "plt.title('\\nProporção de entregas por região\\n', size=16)\n",
    "plt.xticks(size=13)\n",
    "plt.yticks(size=13)\n",
    "plt.xlabel('Região', fontsize=13)\n",
    "plt.ylabel('Proporção', fontsize=13)\n",
    "\n",
    "plt.show()"
   ]
  },
  {
   "cell_type": "markdown",
   "metadata": {
    "id": "5DFIPbrww8nb"
   },
   "source": [
    "As entregas estão mais concentradas nas regiões 1 e 2. Tendo os veículos a mesma capacidade, poderia haver uma melhor distribuição de veículos nessas regiões, e deslocar uma frota menor para região 0. Porém, sendo a região 0 mais espalhada, talvez os verículos fiquem mais tempo rodando, sendo necessário mantê-los."
   ]
  }
 ],
 "metadata": {
  "colab": {
   "collapsed_sections": [],
   "name": "Analise_Exploratoria_de Dados_de_Logistica_I_pedrosartoro.ipynb",
   "provenance": [],
   "toc_visible": true
  },
  "kernelspec": {
   "display_name": "Python 3",
   "language": "python",
   "name": "python3"
  },
  "language_info": {
   "codemirror_mode": {
    "name": "ipython",
    "version": 3
   },
   "file_extension": ".py",
   "mimetype": "text/x-python",
   "name": "python",
   "nbconvert_exporter": "python",
   "pygments_lexer": "ipython3",
   "version": "3.8.2"
  }
 },
 "nbformat": 4,
 "nbformat_minor": 1
}
