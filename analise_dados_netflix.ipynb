{
 "cells": [
  {
   "cell_type": "markdown",
   "metadata": {},
   "source": [
    "# Analisando meus dados da Netflix\n",
    "### Quanto tempo passamos assistindo Netflix?"
   ]
  },
  {
   "cell_type": "markdown",
   "metadata": {},
   "source": [
    "## 1. Contexto\n",
    "O objetivo dessa análise é descobrir quanto tempo minha família e eu passamos assistindo Netflix.\n",
    "\n",
    "Algumas perguntas que respoderei?\n",
    "- **Quanto tempo passamos assistindo Netflix?**\n",
    "- **Assistimos mais séries ou filmes?**\n",
    "- **Quais séries ou filmes mais assistimos?**\n",
    "- **Qual dia da semana mais assistimos?**\n",
    "- **Qual hora do dia assistimos com mais frequência?**\n",
    " \n",
    "> A inspiração veio do seguinte artigo do site Dataquest<br>\n",
    "**Beginner Python Tutorial: Analyze Your Personal Netflix Data** ([link](https://www.dataquest.io/blog/python-tutorial-analyze-personal-netflix-data/))"
   ]
  },
  {
   "cell_type": "markdown",
   "metadata": {
    "slideshow": {
     "slide_type": "subslide"
    }
   },
   "source": [
    "### 1.1 TLDR\n",
    "\n",
    " - **Processamento**:\n",
    "  - Github ([link](https://github.com/psartoro)). \n",
    " - **Fonte**:\n",
    "  - Get My Info Netflix: [link](https://netflix.com/account/getmyinfo)"
   ]
  },
  {
   "cell_type": "markdown",
   "metadata": {},
   "source": [
    "### 1.2 Netflix"
   ]
  },
  {
   "cell_type": "markdown",
   "metadata": {},
   "source": [
    "> Netflix é um serviço de streaming de filmes e séries, fundada em 1997 nos Estados Unidos, surgindo, inicialmente, como um serviço de entrega de DVDs pelo correio. A partir de 2007 começaram a expandir para o seviço de streaming nos EUA. Hoje está presente em mais de 190 países. Além de de filmes e séries de vários estúdios, produz seus próprios conteúdos. Fonte: [Wikipédia](https://pt.wikipedia.org/wiki/Netflix)"
   ]
  },
  {
   "cell_type": "markdown",
   "metadata": {},
   "source": [
    "### 1.3 Dados"
   ]
  },
  {
   "cell_type": "markdown",
   "metadata": {},
   "source": [
    "Os dados foram requisitados e baixados diretamente da Netflix. Para solicitar, é necessário estar logado na conta e acessar a página [Get My Info](https://netflix.com/account/getmyinfo) e clicar no botão que aparecerá. A Netflix enviará um e-mail de confirmação, no qual é necessário clicar para confirmar o pedido. O processo pode demorar de 24h a 30 dias. A Netflix enviará um e-mail para download dos dados.\n",
    "\n",
    "Os dados:\n",
    "- **Profile**: perfil da conta\n",
    "- **Start Time**: data e hora em que se iniciou a visualização\n",
    "- **Duration**: duração da visualização\n",
    "- **Attributes**: atributos da visualização\n",
    "- **Title**: título do silme/série\n",
    "- **Supplemental Video Type**: tipo de vídeo suplementar\n",
    "- **Device Type**: tipo do dispositivo\n",
    "- **Bookmark**: marcação\n",
    "- **Latest Bookmark**: última marcação\n",
    "- **Country**: país"
   ]
  },
  {
   "cell_type": "markdown",
   "metadata": {},
   "source": [
    "## 2. Extração e Transformação dos Dados"
   ]
  },
  {
   "cell_type": "code",
   "execution_count": 1,
   "metadata": {},
   "outputs": [],
   "source": [
    "# bibliotecas\n",
    "import pandas as pd\n",
    "import matplotlib\n",
    "import matplotlib.pyplot as plt\n",
    "import seaborn as sns\n",
    "\n",
    "%matplotlib inline"
   ]
  },
  {
   "cell_type": "code",
   "execution_count": 2,
   "metadata": {},
   "outputs": [
    {
     "data": {
      "text/html": [
       "<div>\n",
       "<style scoped>\n",
       "    .dataframe tbody tr th:only-of-type {\n",
       "        vertical-align: middle;\n",
       "    }\n",
       "\n",
       "    .dataframe tbody tr th {\n",
       "        vertical-align: top;\n",
       "    }\n",
       "\n",
       "    .dataframe thead th {\n",
       "        text-align: right;\n",
       "    }\n",
       "</style>\n",
       "<table border=\"1\" class=\"dataframe\">\n",
       "  <thead>\n",
       "    <tr style=\"text-align: right;\">\n",
       "      <th></th>\n",
       "      <th>Profile</th>\n",
       "      <th>Start Time</th>\n",
       "      <th>Duration</th>\n",
       "      <th>Attributes</th>\n",
       "      <th>Title</th>\n",
       "      <th>Supplemental Video Type</th>\n",
       "      <th>Device Type</th>\n",
       "      <th>Bookmark</th>\n",
       "      <th>Latest Bookmark</th>\n",
       "      <th>Country</th>\n",
       "    </tr>\n",
       "  </thead>\n",
       "  <tbody>\n",
       "    <tr>\n",
       "      <th>15188</th>\n",
       "      <td>Pedro</td>\n",
       "      <td>2022-07-04 02:07:49</td>\n",
       "      <td>00:02:46</td>\n",
       "      <td>NaN</td>\n",
       "      <td>Supermães: Temporada 6: O grande (Episódio 4)</td>\n",
       "      <td>NaN</td>\n",
       "      <td>Elsys SEI Robotics SEI103E Streaming Stick</td>\n",
       "      <td>00:03:34</td>\n",
       "      <td>00:03:34</td>\n",
       "      <td>BR (Brazil)</td>\n",
       "    </tr>\n",
       "    <tr>\n",
       "      <th>15189</th>\n",
       "      <td>Pedro</td>\n",
       "      <td>2022-07-04 01:43:06</td>\n",
       "      <td>00:20:30</td>\n",
       "      <td>NaN</td>\n",
       "      <td>Supermães: Temporada 6: Adeus, Goldie (Episódi...</td>\n",
       "      <td>NaN</td>\n",
       "      <td>Elsys SEI Robotics SEI103E Streaming Stick</td>\n",
       "      <td>00:21:17</td>\n",
       "      <td>00:21:17</td>\n",
       "      <td>BR (Brazil)</td>\n",
       "    </tr>\n",
       "    <tr>\n",
       "      <th>15190</th>\n",
       "      <td>Pedro</td>\n",
       "      <td>2022-07-04 01:41:26</td>\n",
       "      <td>00:01:34</td>\n",
       "      <td>NaN</td>\n",
       "      <td>Supermães: Temporada 6: Lanche quente (Episódi...</td>\n",
       "      <td>NaN</td>\n",
       "      <td>Elsys SEI Robotics SEI103E Streaming Stick</td>\n",
       "      <td>00:21:14</td>\n",
       "      <td>00:21:14</td>\n",
       "      <td>BR (Brazil)</td>\n",
       "    </tr>\n",
       "    <tr>\n",
       "      <th>15191</th>\n",
       "      <td>Pedro</td>\n",
       "      <td>2022-07-04 01:18:45</td>\n",
       "      <td>00:19:19</td>\n",
       "      <td>Autoplayed: user action: User_Interaction;</td>\n",
       "      <td>Supermães: Temporada 6: Lanche quente (Episódi...</td>\n",
       "      <td>NaN</td>\n",
       "      <td>Elsys SEI Robotics SEI103E Streaming Stick</td>\n",
       "      <td>00:19:40</td>\n",
       "      <td>Not latest view</td>\n",
       "      <td>BR (Brazil)</td>\n",
       "    </tr>\n",
       "    <tr>\n",
       "      <th>15192</th>\n",
       "      <td>Pedro</td>\n",
       "      <td>2022-07-04 00:56:47</td>\n",
       "      <td>00:21:42</td>\n",
       "      <td>NaN</td>\n",
       "      <td>Supermães: Temporada 6: Hóspede (Episódio 1)</td>\n",
       "      <td>NaN</td>\n",
       "      <td>Elsys SEI Robotics SEI103E Streaming Stick</td>\n",
       "      <td>00:21:19</td>\n",
       "      <td>00:21:19</td>\n",
       "      <td>BR (Brazil)</td>\n",
       "    </tr>\n",
       "  </tbody>\n",
       "</table>\n",
       "</div>"
      ],
      "text/plain": [
       "      Profile           Start Time  Duration  \\\n",
       "15188   Pedro  2022-07-04 02:07:49  00:02:46   \n",
       "15189   Pedro  2022-07-04 01:43:06  00:20:30   \n",
       "15190   Pedro  2022-07-04 01:41:26  00:01:34   \n",
       "15191   Pedro  2022-07-04 01:18:45  00:19:19   \n",
       "15192   Pedro  2022-07-04 00:56:47  00:21:42   \n",
       "\n",
       "                                        Attributes  \\\n",
       "15188                                          NaN   \n",
       "15189                                          NaN   \n",
       "15190                                          NaN   \n",
       "15191  Autoplayed: user action: User_Interaction;    \n",
       "15192                                          NaN   \n",
       "\n",
       "                                                   Title  \\\n",
       "15188      Supermães: Temporada 6: O grande (Episódio 4)   \n",
       "15189  Supermães: Temporada 6: Adeus, Goldie (Episódi...   \n",
       "15190  Supermães: Temporada 6: Lanche quente (Episódi...   \n",
       "15191  Supermães: Temporada 6: Lanche quente (Episódi...   \n",
       "15192       Supermães: Temporada 6: Hóspede (Episódio 1)   \n",
       "\n",
       "      Supplemental Video Type                                 Device Type  \\\n",
       "15188                     NaN  Elsys SEI Robotics SEI103E Streaming Stick   \n",
       "15189                     NaN  Elsys SEI Robotics SEI103E Streaming Stick   \n",
       "15190                     NaN  Elsys SEI Robotics SEI103E Streaming Stick   \n",
       "15191                     NaN  Elsys SEI Robotics SEI103E Streaming Stick   \n",
       "15192                     NaN  Elsys SEI Robotics SEI103E Streaming Stick   \n",
       "\n",
       "       Bookmark  Latest Bookmark      Country  \n",
       "15188  00:03:34         00:03:34  BR (Brazil)  \n",
       "15189  00:21:17         00:21:17  BR (Brazil)  \n",
       "15190  00:21:14         00:21:14  BR (Brazil)  \n",
       "15191  00:19:40  Not latest view  BR (Brazil)  \n",
       "15192  00:21:19         00:21:19  BR (Brazil)  "
      ]
     },
     "execution_count": 2,
     "metadata": {},
     "output_type": "execute_result"
    }
   ],
   "source": [
    "df = pd.read_csv('./CONTENT_INTERACTION/ViewingActivity.csv')\n",
    "df = df.rename(columns={'Profile Name': 'Profile'})\n",
    "df = df.query('Profile == \"Pedro\"')\n",
    "df.head()"
   ]
  },
  {
   "cell_type": "markdown",
   "metadata": {},
   "source": [
    "> A Netflix envia vários arquivos em várias pastas. `ViewingActivity.csv` é exatamente o arquivo que possui os dados de visualização. Nomeei a coluna `Profile Name` para apenas `Profile` e filtrei por meu perfil, pois esta conta possui mais de um perfil."
   ]
  },
  {
   "cell_type": "code",
   "execution_count": 3,
   "metadata": {},
   "outputs": [
    {
     "name": "stdout",
     "output_type": "stream",
     "text": [
      "Linhas: 2670\n",
      "Colunas: 10\n"
     ]
    }
   ],
   "source": [
    "linhas, colunas = df.shape\n",
    "print(f'Linhas: {linhas}\\nColunas: {colunas}')"
   ]
  },
  {
   "cell_type": "markdown",
   "metadata": {},
   "source": [
    "> Dataset é grande, mais de 2000 linhas."
   ]
  },
  {
   "cell_type": "code",
   "execution_count": 4,
   "metadata": {},
   "outputs": [
    {
     "name": "stdout",
     "output_type": "stream",
     "text": [
      "<class 'pandas.core.frame.DataFrame'>\n",
      "Int64Index: 2670 entries, 15188 to 17857\n",
      "Data columns (total 10 columns):\n",
      " #   Column                   Non-Null Count  Dtype \n",
      "---  ------                   --------------  ----- \n",
      " 0   Profile                  2670 non-null   object\n",
      " 1   Start Time               2670 non-null   object\n",
      " 2   Duration                 2670 non-null   object\n",
      " 3   Attributes               1896 non-null   object\n",
      " 4   Title                    2670 non-null   object\n",
      " 5   Supplemental Video Type  678 non-null    object\n",
      " 6   Device Type              2670 non-null   object\n",
      " 7   Bookmark                 2670 non-null   object\n",
      " 8   Latest Bookmark          2670 non-null   object\n",
      " 9   Country                  2670 non-null   object\n",
      "dtypes: object(10)\n",
      "memory usage: 229.5+ KB\n"
     ]
    }
   ],
   "source": [
    "df.info()"
   ]
  },
  {
   "cell_type": "markdown",
   "metadata": {},
   "source": [
    "> Possui alguns dados nulos, mas não vou me preocupar por ora, pois ainda considerarei com quais colunas irei trabalhar. Os tipos estão todos como `object`, que são `strings`. Irei converter para os formatos corretos para possibilitar trabalhar com os cálculos que serão usados."
   ]
  },
  {
   "cell_type": "code",
   "execution_count": 5,
   "metadata": {},
   "outputs": [
    {
     "data": {
      "text/html": [
       "<div>\n",
       "<style scoped>\n",
       "    .dataframe tbody tr th:only-of-type {\n",
       "        vertical-align: middle;\n",
       "    }\n",
       "\n",
       "    .dataframe tbody tr th {\n",
       "        vertical-align: top;\n",
       "    }\n",
       "\n",
       "    .dataframe thead th {\n",
       "        text-align: right;\n",
       "    }\n",
       "</style>\n",
       "<table border=\"1\" class=\"dataframe\">\n",
       "  <thead>\n",
       "    <tr style=\"text-align: right;\">\n",
       "      <th></th>\n",
       "      <th>start_time</th>\n",
       "      <th>duration</th>\n",
       "      <th>title</th>\n",
       "    </tr>\n",
       "  </thead>\n",
       "  <tbody>\n",
       "    <tr>\n",
       "      <th>15188</th>\n",
       "      <td>2022-07-04 02:07:49</td>\n",
       "      <td>00:02:46</td>\n",
       "      <td>Supermães: Temporada 6: O grande (Episódio 4)</td>\n",
       "    </tr>\n",
       "    <tr>\n",
       "      <th>15189</th>\n",
       "      <td>2022-07-04 01:43:06</td>\n",
       "      <td>00:20:30</td>\n",
       "      <td>Supermães: Temporada 6: Adeus, Goldie (Episódi...</td>\n",
       "    </tr>\n",
       "    <tr>\n",
       "      <th>15190</th>\n",
       "      <td>2022-07-04 01:41:26</td>\n",
       "      <td>00:01:34</td>\n",
       "      <td>Supermães: Temporada 6: Lanche quente (Episódi...</td>\n",
       "    </tr>\n",
       "    <tr>\n",
       "      <th>15191</th>\n",
       "      <td>2022-07-04 01:18:45</td>\n",
       "      <td>00:19:19</td>\n",
       "      <td>Supermães: Temporada 6: Lanche quente (Episódi...</td>\n",
       "    </tr>\n",
       "    <tr>\n",
       "      <th>15192</th>\n",
       "      <td>2022-07-04 00:56:47</td>\n",
       "      <td>00:21:42</td>\n",
       "      <td>Supermães: Temporada 6: Hóspede (Episódio 1)</td>\n",
       "    </tr>\n",
       "  </tbody>\n",
       "</table>\n",
       "</div>"
      ],
      "text/plain": [
       "                start_time  duration  \\\n",
       "15188  2022-07-04 02:07:49  00:02:46   \n",
       "15189  2022-07-04 01:43:06  00:20:30   \n",
       "15190  2022-07-04 01:41:26  00:01:34   \n",
       "15191  2022-07-04 01:18:45  00:19:19   \n",
       "15192  2022-07-04 00:56:47  00:21:42   \n",
       "\n",
       "                                                   title  \n",
       "15188      Supermães: Temporada 6: O grande (Episódio 4)  \n",
       "15189  Supermães: Temporada 6: Adeus, Goldie (Episódi...  \n",
       "15190  Supermães: Temporada 6: Lanche quente (Episódi...  \n",
       "15191  Supermães: Temporada 6: Lanche quente (Episódi...  \n",
       "15192       Supermães: Temporada 6: Hóspede (Episódio 1)  "
      ]
     },
     "execution_count": 5,
     "metadata": {},
     "output_type": "execute_result"
    }
   ],
   "source": [
    "df = df[['Start Time', 'Duration', 'Title']]\n",
    "df.rename(columns={\n",
    "    'Start Time': 'start_time',\n",
    "    'Duration': 'duration',\n",
    "    'Title': 'title'\n",
    "}, inplace = True)\n",
    "df.head()"
   ]
  },
  {
   "cell_type": "markdown",
   "metadata": {},
   "source": [
    "> Aqui filtrei apenas as colunas de interesse e as renomeei para melhor organização."
   ]
  },
  {
   "cell_type": "code",
   "execution_count": 6,
   "metadata": {},
   "outputs": [
    {
     "data": {
      "text/plain": [
       "start_time    0\n",
       "duration      0\n",
       "title         0\n",
       "dtype: int64"
      ]
     },
     "execution_count": 6,
     "metadata": {},
     "output_type": "execute_result"
    }
   ],
   "source": [
    "df.isnull().sum()"
   ]
  },
  {
   "cell_type": "markdown",
   "metadata": {},
   "source": [
    "> Esse filtro não trouxe dados nulos, portanto, nenhum tratamento a ser feito por aqui."
   ]
  },
  {
   "cell_type": "code",
   "execution_count": 7,
   "metadata": {},
   "outputs": [
    {
     "data": {
      "text/html": [
       "<div>\n",
       "<style scoped>\n",
       "    .dataframe tbody tr th:only-of-type {\n",
       "        vertical-align: middle;\n",
       "    }\n",
       "\n",
       "    .dataframe tbody tr th {\n",
       "        vertical-align: top;\n",
       "    }\n",
       "\n",
       "    .dataframe thead th {\n",
       "        text-align: right;\n",
       "    }\n",
       "</style>\n",
       "<table border=\"1\" class=\"dataframe\">\n",
       "  <thead>\n",
       "    <tr style=\"text-align: right;\">\n",
       "      <th></th>\n",
       "      <th>start_time</th>\n",
       "      <th>duration</th>\n",
       "      <th>title</th>\n",
       "    </tr>\n",
       "  </thead>\n",
       "  <tbody>\n",
       "    <tr>\n",
       "      <th>0</th>\n",
       "      <td>2022-07-03 23:07:49-03:00</td>\n",
       "      <td>0 days 00:02:46</td>\n",
       "      <td>Supermães: Temporada 6: O grande (Episódio 4)</td>\n",
       "    </tr>\n",
       "    <tr>\n",
       "      <th>1</th>\n",
       "      <td>2022-07-03 22:43:06-03:00</td>\n",
       "      <td>0 days 00:20:30</td>\n",
       "      <td>Supermães: Temporada 6: Adeus, Goldie (Episódi...</td>\n",
       "    </tr>\n",
       "    <tr>\n",
       "      <th>2</th>\n",
       "      <td>2022-07-03 22:41:26-03:00</td>\n",
       "      <td>0 days 00:01:34</td>\n",
       "      <td>Supermães: Temporada 6: Lanche quente (Episódi...</td>\n",
       "    </tr>\n",
       "    <tr>\n",
       "      <th>3</th>\n",
       "      <td>2022-07-03 22:18:45-03:00</td>\n",
       "      <td>0 days 00:19:19</td>\n",
       "      <td>Supermães: Temporada 6: Lanche quente (Episódi...</td>\n",
       "    </tr>\n",
       "    <tr>\n",
       "      <th>4</th>\n",
       "      <td>2022-07-03 21:56:47-03:00</td>\n",
       "      <td>0 days 00:21:42</td>\n",
       "      <td>Supermães: Temporada 6: Hóspede (Episódio 1)</td>\n",
       "    </tr>\n",
       "  </tbody>\n",
       "</table>\n",
       "</div>"
      ],
      "text/plain": [
       "                 start_time        duration  \\\n",
       "0 2022-07-03 23:07:49-03:00 0 days 00:02:46   \n",
       "1 2022-07-03 22:43:06-03:00 0 days 00:20:30   \n",
       "2 2022-07-03 22:41:26-03:00 0 days 00:01:34   \n",
       "3 2022-07-03 22:18:45-03:00 0 days 00:19:19   \n",
       "4 2022-07-03 21:56:47-03:00 0 days 00:21:42   \n",
       "\n",
       "                                               title  \n",
       "0      Supermães: Temporada 6: O grande (Episódio 4)  \n",
       "1  Supermães: Temporada 6: Adeus, Goldie (Episódi...  \n",
       "2  Supermães: Temporada 6: Lanche quente (Episódi...  \n",
       "3  Supermães: Temporada 6: Lanche quente (Episódi...  \n",
       "4       Supermães: Temporada 6: Hóspede (Episódio 1)  "
      ]
     },
     "execution_count": 7,
     "metadata": {},
     "output_type": "execute_result"
    }
   ],
   "source": [
    "df['start_time'] = pd.to_datetime(df['start_time'], utc=True)\n",
    "df = df.set_index('start_time')\n",
    "df.index = df.index.tz_convert('America/Sao_Paulo')\n",
    "df = df.reset_index()\n",
    "df['duration'] = pd.to_timedelta(df['duration'])\n",
    "df.head()"
   ]
  },
  {
   "cell_type": "markdown",
   "metadata": {},
   "source": [
    "> Aqui converti as colunas da seguinte forma:\n",
    "> - Converti `start_time` para `Datetime`, adicionando o parâmetro UTC para anexar fuso horário;\n",
    "> - Converti o fuso horário para o nosso usando o `start_time`, passando como argumento a string do fuso horário local `America/Sao_Paulo`. Antes disso foi necessário setar `start_time` como index, para poder usar o `start_time`;\n",
    "> - Após esse processo, resetei o index;\n",
    "> - Converti a coluna `duration` para `to_timedelta`, que é uma medida de duração de tempo do pandas."
   ]
  },
  {
   "cell_type": "code",
   "execution_count": 8,
   "metadata": {},
   "outputs": [
    {
     "data": {
      "text/plain": [
       "start_time    datetime64[ns, America/Sao_Paulo]\n",
       "duration                        timedelta64[ns]\n",
       "title                                    object\n",
       "dtype: object"
      ]
     },
     "execution_count": 8,
     "metadata": {},
     "output_type": "execute_result"
    }
   ],
   "source": [
    "df.dtypes"
   ]
  },
  {
   "cell_type": "markdown",
   "metadata": {},
   "source": [
    "> Vemos então como ficaram os tipos dos dados das colunas de interesse."
   ]
  },
  {
   "cell_type": "code",
   "execution_count": 9,
   "metadata": {},
   "outputs": [
    {
     "data": {
      "text/html": [
       "<div>\n",
       "<style scoped>\n",
       "    .dataframe tbody tr th:only-of-type {\n",
       "        vertical-align: middle;\n",
       "    }\n",
       "\n",
       "    .dataframe tbody tr th {\n",
       "        vertical-align: top;\n",
       "    }\n",
       "\n",
       "    .dataframe thead th {\n",
       "        text-align: right;\n",
       "    }\n",
       "</style>\n",
       "<table border=\"1\" class=\"dataframe\">\n",
       "  <thead>\n",
       "    <tr style=\"text-align: right;\">\n",
       "      <th></th>\n",
       "      <th>start_time</th>\n",
       "      <th>duration</th>\n",
       "      <th>name</th>\n",
       "      <th>season</th>\n",
       "      <th>episode</th>\n",
       "    </tr>\n",
       "  </thead>\n",
       "  <tbody>\n",
       "    <tr>\n",
       "      <th>0</th>\n",
       "      <td>2022-07-03 23:07:49-03:00</td>\n",
       "      <td>0 days 00:02:46</td>\n",
       "      <td>Supermães</td>\n",
       "      <td>Temporada 6</td>\n",
       "      <td>O grande (Episódio 4)</td>\n",
       "    </tr>\n",
       "    <tr>\n",
       "      <th>1</th>\n",
       "      <td>2022-07-03 22:43:06-03:00</td>\n",
       "      <td>0 days 00:20:30</td>\n",
       "      <td>Supermães</td>\n",
       "      <td>Temporada 6</td>\n",
       "      <td>Adeus, Goldie (Episódio 3)</td>\n",
       "    </tr>\n",
       "    <tr>\n",
       "      <th>2</th>\n",
       "      <td>2022-07-03 22:41:26-03:00</td>\n",
       "      <td>0 days 00:01:34</td>\n",
       "      <td>Supermães</td>\n",
       "      <td>Temporada 6</td>\n",
       "      <td>Lanche quente (Episódio 2)</td>\n",
       "    </tr>\n",
       "    <tr>\n",
       "      <th>3</th>\n",
       "      <td>2022-07-03 22:18:45-03:00</td>\n",
       "      <td>0 days 00:19:19</td>\n",
       "      <td>Supermães</td>\n",
       "      <td>Temporada 6</td>\n",
       "      <td>Lanche quente (Episódio 2)</td>\n",
       "    </tr>\n",
       "    <tr>\n",
       "      <th>4</th>\n",
       "      <td>2022-07-03 21:56:47-03:00</td>\n",
       "      <td>0 days 00:21:42</td>\n",
       "      <td>Supermães</td>\n",
       "      <td>Temporada 6</td>\n",
       "      <td>Hóspede (Episódio 1)</td>\n",
       "    </tr>\n",
       "  </tbody>\n",
       "</table>\n",
       "</div>"
      ],
      "text/plain": [
       "                 start_time        duration       name        season  \\\n",
       "0 2022-07-03 23:07:49-03:00 0 days 00:02:46  Supermães   Temporada 6   \n",
       "1 2022-07-03 22:43:06-03:00 0 days 00:20:30  Supermães   Temporada 6   \n",
       "2 2022-07-03 22:41:26-03:00 0 days 00:01:34  Supermães   Temporada 6   \n",
       "3 2022-07-03 22:18:45-03:00 0 days 00:19:19  Supermães   Temporada 6   \n",
       "4 2022-07-03 21:56:47-03:00 0 days 00:21:42  Supermães   Temporada 6   \n",
       "\n",
       "                       episode  \n",
       "0        O grande (Episódio 4)  \n",
       "1   Adeus, Goldie (Episódio 3)  \n",
       "2   Lanche quente (Episódio 2)  \n",
       "3   Lanche quente (Episódio 2)  \n",
       "4         Hóspede (Episódio 1)  "
      ]
     },
     "execution_count": 9,
     "metadata": {},
     "output_type": "execute_result"
    }
   ],
   "source": [
    "df[['name', 'season', 'episode']] = df['title'].str.split(':', 2, expand=True)\n",
    "df.drop('title', axis=1, inplace=True)\n",
    "df.head()"
   ]
  },
  {
   "cell_type": "markdown",
   "metadata": {},
   "source": [
    "> O próximo tratamento que fiz foi \"quebrar\" a coluna `title` e criar novas colunas para separar o nome do programa, temporada e episódio. Após, deletei a coluna `title` que não mais será usada."
   ]
  },
  {
   "cell_type": "code",
   "execution_count": 10,
   "metadata": {},
   "outputs": [
    {
     "data": {
      "text/html": [
       "<div>\n",
       "<style scoped>\n",
       "    .dataframe tbody tr th:only-of-type {\n",
       "        vertical-align: middle;\n",
       "    }\n",
       "\n",
       "    .dataframe tbody tr th {\n",
       "        vertical-align: top;\n",
       "    }\n",
       "\n",
       "    .dataframe thead th {\n",
       "        text-align: right;\n",
       "    }\n",
       "</style>\n",
       "<table border=\"1\" class=\"dataframe\">\n",
       "  <thead>\n",
       "    <tr style=\"text-align: right;\">\n",
       "      <th></th>\n",
       "      <th>start_time</th>\n",
       "      <th>duration</th>\n",
       "      <th>name</th>\n",
       "      <th>season</th>\n",
       "      <th>episode</th>\n",
       "    </tr>\n",
       "  </thead>\n",
       "  <tbody>\n",
       "    <tr>\n",
       "      <th>0</th>\n",
       "      <td>2022-07-03 23:07:49-03:00</td>\n",
       "      <td>0 days 00:02:46</td>\n",
       "      <td>Supermães</td>\n",
       "      <td>Temporada 6</td>\n",
       "      <td>O grande (Episódio 4)</td>\n",
       "    </tr>\n",
       "    <tr>\n",
       "      <th>1</th>\n",
       "      <td>2022-07-03 22:43:06-03:00</td>\n",
       "      <td>0 days 00:20:30</td>\n",
       "      <td>Supermães</td>\n",
       "      <td>Temporada 6</td>\n",
       "      <td>Adeus, Goldie (Episódio 3)</td>\n",
       "    </tr>\n",
       "    <tr>\n",
       "      <th>3</th>\n",
       "      <td>2022-07-03 22:18:45-03:00</td>\n",
       "      <td>0 days 00:19:19</td>\n",
       "      <td>Supermães</td>\n",
       "      <td>Temporada 6</td>\n",
       "      <td>Lanche quente (Episódio 2)</td>\n",
       "    </tr>\n",
       "    <tr>\n",
       "      <th>4</th>\n",
       "      <td>2022-07-03 21:56:47-03:00</td>\n",
       "      <td>0 days 00:21:42</td>\n",
       "      <td>Supermães</td>\n",
       "      <td>Temporada 6</td>\n",
       "      <td>Hóspede (Episódio 1)</td>\n",
       "    </tr>\n",
       "    <tr>\n",
       "      <th>8</th>\n",
       "      <td>2022-07-03 02:40:11-03:00</td>\n",
       "      <td>0 days 00:09:25</td>\n",
       "      <td>Supermães</td>\n",
       "      <td>Temporada 5</td>\n",
       "      <td>Merd* (Episódio 10)</td>\n",
       "    </tr>\n",
       "  </tbody>\n",
       "</table>\n",
       "</div>"
      ],
      "text/plain": [
       "                 start_time        duration       name        season  \\\n",
       "0 2022-07-03 23:07:49-03:00 0 days 00:02:46  Supermães   Temporada 6   \n",
       "1 2022-07-03 22:43:06-03:00 0 days 00:20:30  Supermães   Temporada 6   \n",
       "3 2022-07-03 22:18:45-03:00 0 days 00:19:19  Supermães   Temporada 6   \n",
       "4 2022-07-03 21:56:47-03:00 0 days 00:21:42  Supermães   Temporada 6   \n",
       "8 2022-07-03 02:40:11-03:00 0 days 00:09:25  Supermães   Temporada 5   \n",
       "\n",
       "                       episode  \n",
       "0        O grande (Episódio 4)  \n",
       "1   Adeus, Goldie (Episódio 3)  \n",
       "3   Lanche quente (Episódio 2)  \n",
       "4         Hóspede (Episódio 1)  \n",
       "8          Merd* (Episódio 10)  "
      ]
     },
     "execution_count": 10,
     "metadata": {},
     "output_type": "execute_result"
    }
   ],
   "source": [
    "df = df[(df['duration'] > '0 days 00:02:00')]\n",
    "df.head()"
   ]
  },
  {
   "cell_type": "markdown",
   "metadata": {},
   "source": [
    "> Aplique um filtro no tempo de duração dos programas maiores que 2 minutos, para desconsiderar episódios e filmes assistidos parcialmente e aquela reprodução automática na página inicial."
   ]
  },
  {
   "cell_type": "code",
   "execution_count": 11,
   "metadata": {
    "scrolled": true
   },
   "outputs": [
    {
     "data": {
      "text/html": [
       "<div>\n",
       "<style scoped>\n",
       "    .dataframe tbody tr th:only-of-type {\n",
       "        vertical-align: middle;\n",
       "    }\n",
       "\n",
       "    .dataframe tbody tr th {\n",
       "        vertical-align: top;\n",
       "    }\n",
       "\n",
       "    .dataframe thead th {\n",
       "        text-align: right;\n",
       "    }\n",
       "</style>\n",
       "<table border=\"1\" class=\"dataframe\">\n",
       "  <thead>\n",
       "    <tr style=\"text-align: right;\">\n",
       "      <th></th>\n",
       "      <th>start_time</th>\n",
       "      <th>duration</th>\n",
       "      <th>name</th>\n",
       "      <th>season</th>\n",
       "      <th>episode</th>\n",
       "      <th>weekday</th>\n",
       "      <th>hour</th>\n",
       "    </tr>\n",
       "  </thead>\n",
       "  <tbody>\n",
       "    <tr>\n",
       "      <th>0</th>\n",
       "      <td>2022-07-03 23:07:49-03:00</td>\n",
       "      <td>0 days 00:02:46</td>\n",
       "      <td>Supermães</td>\n",
       "      <td>Temporada 6</td>\n",
       "      <td>O grande (Episódio 4)</td>\n",
       "      <td>6</td>\n",
       "      <td>23</td>\n",
       "    </tr>\n",
       "    <tr>\n",
       "      <th>1</th>\n",
       "      <td>2022-07-03 22:43:06-03:00</td>\n",
       "      <td>0 days 00:20:30</td>\n",
       "      <td>Supermães</td>\n",
       "      <td>Temporada 6</td>\n",
       "      <td>Adeus, Goldie (Episódio 3)</td>\n",
       "      <td>6</td>\n",
       "      <td>22</td>\n",
       "    </tr>\n",
       "    <tr>\n",
       "      <th>3</th>\n",
       "      <td>2022-07-03 22:18:45-03:00</td>\n",
       "      <td>0 days 00:19:19</td>\n",
       "      <td>Supermães</td>\n",
       "      <td>Temporada 6</td>\n",
       "      <td>Lanche quente (Episódio 2)</td>\n",
       "      <td>6</td>\n",
       "      <td>22</td>\n",
       "    </tr>\n",
       "    <tr>\n",
       "      <th>4</th>\n",
       "      <td>2022-07-03 21:56:47-03:00</td>\n",
       "      <td>0 days 00:21:42</td>\n",
       "      <td>Supermães</td>\n",
       "      <td>Temporada 6</td>\n",
       "      <td>Hóspede (Episódio 1)</td>\n",
       "      <td>6</td>\n",
       "      <td>21</td>\n",
       "    </tr>\n",
       "    <tr>\n",
       "      <th>8</th>\n",
       "      <td>2022-07-03 02:40:11-03:00</td>\n",
       "      <td>0 days 00:09:25</td>\n",
       "      <td>Supermães</td>\n",
       "      <td>Temporada 5</td>\n",
       "      <td>Merd* (Episódio 10)</td>\n",
       "      <td>6</td>\n",
       "      <td>2</td>\n",
       "    </tr>\n",
       "  </tbody>\n",
       "</table>\n",
       "</div>"
      ],
      "text/plain": [
       "                 start_time        duration       name        season  \\\n",
       "0 2022-07-03 23:07:49-03:00 0 days 00:02:46  Supermães   Temporada 6   \n",
       "1 2022-07-03 22:43:06-03:00 0 days 00:20:30  Supermães   Temporada 6   \n",
       "3 2022-07-03 22:18:45-03:00 0 days 00:19:19  Supermães   Temporada 6   \n",
       "4 2022-07-03 21:56:47-03:00 0 days 00:21:42  Supermães   Temporada 6   \n",
       "8 2022-07-03 02:40:11-03:00 0 days 00:09:25  Supermães   Temporada 5   \n",
       "\n",
       "                       episode  weekday  hour  \n",
       "0        O grande (Episódio 4)        6    23  \n",
       "1   Adeus, Goldie (Episódio 3)        6    22  \n",
       "3   Lanche quente (Episódio 2)        6    22  \n",
       "4         Hóspede (Episódio 1)        6    21  \n",
       "8          Merd* (Episódio 10)        6     2  "
      ]
     },
     "execution_count": 11,
     "metadata": {},
     "output_type": "execute_result"
    }
   ],
   "source": [
    "df['weekday'] = df['start_time'].dt.weekday\n",
    "df['hour'] = df['start_time'].dt.hour\n",
    "df.head()"
   ]
  },
  {
   "cell_type": "markdown",
   "metadata": {},
   "source": [
    "> Criei mais duas colunas, `weekday` para pegar o dia da semana, sendo de 0 a 6 (Seg a Dom) e `hour` para pegar a hora do dia. Com elas poderemos respoder uma das perguntas."
   ]
  },
  {
   "cell_type": "code",
   "execution_count": 12,
   "metadata": {},
   "outputs": [
    {
     "data": {
      "text/html": [
       "<div>\n",
       "<style scoped>\n",
       "    .dataframe tbody tr th:only-of-type {\n",
       "        vertical-align: middle;\n",
       "    }\n",
       "\n",
       "    .dataframe tbody tr th {\n",
       "        vertical-align: top;\n",
       "    }\n",
       "\n",
       "    .dataframe thead th {\n",
       "        text-align: right;\n",
       "    }\n",
       "</style>\n",
       "<table border=\"1\" class=\"dataframe\">\n",
       "  <thead>\n",
       "    <tr style=\"text-align: right;\">\n",
       "      <th></th>\n",
       "      <th>start_time</th>\n",
       "      <th>duration</th>\n",
       "      <th>name</th>\n",
       "      <th>season</th>\n",
       "      <th>episode</th>\n",
       "      <th>weekday</th>\n",
       "      <th>hour</th>\n",
       "      <th>type</th>\n",
       "    </tr>\n",
       "  </thead>\n",
       "  <tbody>\n",
       "    <tr>\n",
       "      <th>0</th>\n",
       "      <td>2022-07-03 23:07:49-03:00</td>\n",
       "      <td>0 days 00:02:46</td>\n",
       "      <td>Supermães</td>\n",
       "      <td>Temporada 6</td>\n",
       "      <td>O grande (Episódio 4)</td>\n",
       "      <td>6</td>\n",
       "      <td>23</td>\n",
       "      <td>show</td>\n",
       "    </tr>\n",
       "    <tr>\n",
       "      <th>1</th>\n",
       "      <td>2022-07-03 22:43:06-03:00</td>\n",
       "      <td>0 days 00:20:30</td>\n",
       "      <td>Supermães</td>\n",
       "      <td>Temporada 6</td>\n",
       "      <td>Adeus, Goldie (Episódio 3)</td>\n",
       "      <td>6</td>\n",
       "      <td>22</td>\n",
       "      <td>show</td>\n",
       "    </tr>\n",
       "    <tr>\n",
       "      <th>3</th>\n",
       "      <td>2022-07-03 22:18:45-03:00</td>\n",
       "      <td>0 days 00:19:19</td>\n",
       "      <td>Supermães</td>\n",
       "      <td>Temporada 6</td>\n",
       "      <td>Lanche quente (Episódio 2)</td>\n",
       "      <td>6</td>\n",
       "      <td>22</td>\n",
       "      <td>show</td>\n",
       "    </tr>\n",
       "    <tr>\n",
       "      <th>4</th>\n",
       "      <td>2022-07-03 21:56:47-03:00</td>\n",
       "      <td>0 days 00:21:42</td>\n",
       "      <td>Supermães</td>\n",
       "      <td>Temporada 6</td>\n",
       "      <td>Hóspede (Episódio 1)</td>\n",
       "      <td>6</td>\n",
       "      <td>21</td>\n",
       "      <td>show</td>\n",
       "    </tr>\n",
       "    <tr>\n",
       "      <th>8</th>\n",
       "      <td>2022-07-03 02:40:11-03:00</td>\n",
       "      <td>0 days 00:09:25</td>\n",
       "      <td>Supermães</td>\n",
       "      <td>Temporada 5</td>\n",
       "      <td>Merd* (Episódio 10)</td>\n",
       "      <td>6</td>\n",
       "      <td>2</td>\n",
       "      <td>show</td>\n",
       "    </tr>\n",
       "  </tbody>\n",
       "</table>\n",
       "</div>"
      ],
      "text/plain": [
       "                 start_time        duration       name        season  \\\n",
       "0 2022-07-03 23:07:49-03:00 0 days 00:02:46  Supermães   Temporada 6   \n",
       "1 2022-07-03 22:43:06-03:00 0 days 00:20:30  Supermães   Temporada 6   \n",
       "3 2022-07-03 22:18:45-03:00 0 days 00:19:19  Supermães   Temporada 6   \n",
       "4 2022-07-03 21:56:47-03:00 0 days 00:21:42  Supermães   Temporada 6   \n",
       "8 2022-07-03 02:40:11-03:00 0 days 00:09:25  Supermães   Temporada 5   \n",
       "\n",
       "                       episode  weekday  hour  type  \n",
       "0        O grande (Episódio 4)        6    23  show  \n",
       "1   Adeus, Goldie (Episódio 3)        6    22  show  \n",
       "3   Lanche quente (Episódio 2)        6    22  show  \n",
       "4         Hóspede (Episódio 1)        6    21  show  \n",
       "8          Merd* (Episódio 10)        6     2  show  "
      ]
     },
     "execution_count": 12,
     "metadata": {},
     "output_type": "execute_result"
    }
   ],
   "source": [
    "df['type'] = df['episode'].apply(lambda e: 'show' if (e is not None) else 'movie')\n",
    "df.head()"
   ]
  },
  {
   "cell_type": "markdown",
   "metadata": {},
   "source": [
    "> O último tratamento que fiz nos dados foi criar uma coluna `type`. Essa coluna define se o programa é um filme `movie` ou série `show`."
   ]
  },
  {
   "cell_type": "markdown",
   "metadata": {},
   "source": [
    "## 3. Analise Explortória\n",
    "### Respondendo as perguntas"
   ]
  },
  {
   "cell_type": "markdown",
   "metadata": {},
   "source": [
    "### 3.1 Quanto tempo passamos assistindo Netflix?"
   ]
  },
  {
   "cell_type": "code",
   "execution_count": 13,
   "metadata": {},
   "outputs": [
    {
     "name": "stdout",
     "output_type": "stream",
     "text": [
      "Tempo assisitindo: 31 days 04:25:55\n"
     ]
    }
   ],
   "source": [
    "print(f'Tempo assisitindo: {df.duration.sum()}')"
   ]
  },
  {
   "cell_type": "markdown",
   "metadata": {},
   "source": [
    "> Passamos um total de 31 dias, 7 horas e 9 minutos assistindo Netflix. Com certeza, a maior parte esmagadora desse tempo foi assisito por minha esposa e filhos."
   ]
  },
  {
   "cell_type": "markdown",
   "metadata": {},
   "source": [
    "### 3.2 Assistimos mais séries ou filmes?"
   ]
  },
  {
   "cell_type": "code",
   "execution_count": 14,
   "metadata": {
    "scrolled": true
   },
   "outputs": [
    {
     "data": {
      "text/html": [
       "<div>\n",
       "<style scoped>\n",
       "    .dataframe tbody tr th:only-of-type {\n",
       "        vertical-align: middle;\n",
       "    }\n",
       "\n",
       "    .dataframe tbody tr th {\n",
       "        vertical-align: top;\n",
       "    }\n",
       "\n",
       "    .dataframe thead th {\n",
       "        text-align: right;\n",
       "    }\n",
       "</style>\n",
       "<table border=\"1\" class=\"dataframe\">\n",
       "  <thead>\n",
       "    <tr style=\"text-align: right;\">\n",
       "      <th></th>\n",
       "      <th>type</th>\n",
       "      <th>percent</th>\n",
       "    </tr>\n",
       "  </thead>\n",
       "  <tbody>\n",
       "    <tr>\n",
       "      <th>1</th>\n",
       "      <td>show</td>\n",
       "      <td>88.69</td>\n",
       "    </tr>\n",
       "    <tr>\n",
       "      <th>0</th>\n",
       "      <td>movie</td>\n",
       "      <td>11.31</td>\n",
       "    </tr>\n",
       "  </tbody>\n",
       "</table>\n",
       "</div>"
      ],
      "text/plain": [
       "    type  percent\n",
       "1   show    88.69\n",
       "0  movie    11.31"
      ]
     },
     "execution_count": 14,
     "metadata": {},
     "output_type": "execute_result"
    }
   ],
   "source": [
    "total_tipo_assistido = round((df.groupby('type').size()/df.shape[0])*100, 2)\n",
    "total_tipo_assistido = total_tipo_assistido.reset_index()\n",
    "total_tipo_assistido.columns = ['type', 'percent']\n",
    "total_tipo_assistido = total_tipo_assistido.sort_values(by='percent', ascending=False)\n",
    "total_tipo_assistido"
   ]
  },
  {
   "cell_type": "code",
   "execution_count": 15,
   "metadata": {
    "scrolled": true
   },
   "outputs": [
    {
     "data": {
      "image/png": "[encoded data removed]",
      "text/plain": [
       "<Figure size 468x288 with 1 Axes>"
      ]
     },
     "metadata": {},
     "output_type": "display_data"
    }
   ],
   "source": [
    "with sns.axes_style('whitegrid'):\n",
    "    fig, ax = plt.subplots(figsize=(6.5, 4))\n",
    "    ax = sns.barplot(x='percent',\n",
    "                        y='type',\n",
    "                        data=total_tipo_assistido,\n",
    "                        orient='h',\n",
    "                        color='#4169E1')\n",
    "    ax.set(xlabel=None, ylabel=None)\n",
    "    ax.set(title='\\nTipo de programa mais assistido. Séries ou Filmes?\\n')"
   ]
  },
  {
   "cell_type": "markdown",
   "metadata": {},
   "source": [
    "> Mais de 80% dos programas assisitidos foram séries. Claramente uma preferência por esse gênero de show. Sendo assim, vou analisar somente o tipo show."
   ]
  },
  {
   "cell_type": "markdown",
   "metadata": {},
   "source": [
    "### 3.2 Quais séries ou filmes mais assistimos?"
   ]
  },
  {
   "cell_type": "code",
   "execution_count": 16,
   "metadata": {},
   "outputs": [
    {
     "data": {
      "text/html": [
       "<div>\n",
       "<style scoped>\n",
       "    .dataframe tbody tr th:only-of-type {\n",
       "        vertical-align: middle;\n",
       "    }\n",
       "\n",
       "    .dataframe tbody tr th {\n",
       "        vertical-align: top;\n",
       "    }\n",
       "\n",
       "    .dataframe thead th {\n",
       "        text-align: right;\n",
       "    }\n",
       "</style>\n",
       "<table border=\"1\" class=\"dataframe\">\n",
       "  <thead>\n",
       "    <tr style=\"text-align: right;\">\n",
       "      <th></th>\n",
       "      <th>name</th>\n",
       "      <th>count</th>\n",
       "    </tr>\n",
       "  </thead>\n",
       "  <tbody>\n",
       "    <tr>\n",
       "      <th>0</th>\n",
       "      <td>Patrulha Canina</td>\n",
       "      <td>180</td>\n",
       "    </tr>\n",
       "    <tr>\n",
       "      <th>1</th>\n",
       "      <td>Bob Esponja</td>\n",
       "      <td>101</td>\n",
       "    </tr>\n",
       "    <tr>\n",
       "      <th>2</th>\n",
       "      <td>Supermães</td>\n",
       "      <td>88</td>\n",
       "    </tr>\n",
       "    <tr>\n",
       "      <th>3</th>\n",
       "      <td>Peaky Blinders</td>\n",
       "      <td>84</td>\n",
       "    </tr>\n",
       "    <tr>\n",
       "      <th>4</th>\n",
       "      <td>Os Jovens Titãs em Ação</td>\n",
       "      <td>65</td>\n",
       "    </tr>\n",
       "    <tr>\n",
       "      <th>5</th>\n",
       "      <td>Better Call Saul</td>\n",
       "      <td>64</td>\n",
       "    </tr>\n",
       "    <tr>\n",
       "      <th>6</th>\n",
       "      <td>The Sinner</td>\n",
       "      <td>50</td>\n",
       "    </tr>\n",
       "    <tr>\n",
       "      <th>7</th>\n",
       "      <td>The Crown</td>\n",
       "      <td>42</td>\n",
       "    </tr>\n",
       "    <tr>\n",
       "      <th>8</th>\n",
       "      <td>As Telefonistas</td>\n",
       "      <td>42</td>\n",
       "    </tr>\n",
       "    <tr>\n",
       "      <th>9</th>\n",
       "      <td>Stranger Things</td>\n",
       "      <td>36</td>\n",
       "    </tr>\n",
       "  </tbody>\n",
       "</table>\n",
       "</div>"
      ],
      "text/plain": [
       "                      name  count\n",
       "0          Patrulha Canina    180\n",
       "1              Bob Esponja    101\n",
       "2                Supermães     88\n",
       "3           Peaky Blinders     84\n",
       "4  Os Jovens Titãs em Ação     65\n",
       "5         Better Call Saul     64\n",
       "6               The Sinner     50\n",
       "7                The Crown     42\n",
       "8          As Telefonistas     42\n",
       "9          Stranger Things     36"
      ]
     },
     "execution_count": 16,
     "metadata": {},
     "output_type": "execute_result"
    }
   ],
   "source": [
    "episodios = df.query('type == \"show\"')\n",
    "episodios = episodios.groupby('name').count().sort_values(by='episode', ascending=False)['episode']\n",
    "episodios = episodios.reset_index()\n",
    "episodios.columns = ['name', 'count']\n",
    "episodios.head(10)"
   ]
  },
  {
   "cell_type": "code",
   "execution_count": 17,
   "metadata": {},
   "outputs": [
    {
     "data": {
      "image/png": "[encoded data removed]",
      "text/plain": [
       "<Figure size 720x432 with 1 Axes>"
      ]
     },
     "metadata": {},
     "output_type": "display_data"
    }
   ],
   "source": [
    "with sns.axes_style('whitegrid'):\n",
    "    fig, ax = plt.subplots(figsize=(10, 6))\n",
    "    ax = sns.barplot(x='count',\n",
    "                        y='name',\n",
    "                        data=episodios.head(10),\n",
    "                        orient='h',\n",
    "                        color='#4169E1')\n",
    "    ax.set(xlabel=None, ylabel=None)\n",
    "    ax.set(title='\\nQuantidade de episódios assisitidos por série [Top 10]\\n')"
   ]
  },
  {
   "cell_type": "markdown",
   "metadata": {},
   "source": [
    "> Posso considerar que meus filhos de 1 e 5 anos passam mais tempo assistindo Netflix que minha esposa e eu. Basta ver as duas séries mais assistidas. Devo considerar que algumas séries assistimos os episódios apenas uma vez. Não temos costume de assistir novamente algum episódio. Raramente fazemos isso. Mas meus filhos assistem repetidamente muitos episódios de suas séries. Também considero nessa lista séries que não assisitimos ainda a todos os episódios."
   ]
  },
  {
   "cell_type": "markdown",
   "metadata": {},
   "source": [
    "### 3.3 Qual dia da semana mais assistimos?"
   ]
  },
  {
   "cell_type": "code",
   "execution_count": 21,
   "metadata": {},
   "outputs": [
    {
     "data": {
      "image/png": "[encoded data removed]",
      "text/plain": [
       "<Figure size 576x360 with 1 Axes>"
      ]
     },
     "metadata": {},
     "output_type": "display_data"
    }
   ],
   "source": [
    "with sns.axes_style('whitegrid'):\n",
    "    fig, ax = plt.subplots(figsize=(8, 5))\n",
    "    ax = sns.countplot(x='weekday',\n",
    "                          data=df,\n",
    "                          color='#4169E1')\n",
    "    for p in ax.patches:\n",
    "        x=p.get_bbox().get_points()[:,0]\n",
    "        y=p.get_bbox().get_points()[1,1]\n",
    "        ax.annotate('{:.0f}'.format(y), (x.mean(), y),\n",
    "                ha='center', va='bottom')\n",
    "    \n",
    "    ax.set(xlabel=None, ylabel=None)\n",
    "    ax.set(yticklabels=[])\n",
    "    ax.set(xticklabels=['Mon', 'Tue', 'Wed', 'Thu', 'Fri', 'Sat', 'Sun'])\n",
    "    ax.set(title='\\nQuantidade de episódios assisitidos por Dia da Semana\\n')"
   ]
  },
  {
   "cell_type": "markdown",
   "metadata": {},
   "source": [
    "> Domingo é o dia em que mais assistimos Netflix, seguido de sábado terça e sexta bem atrás."
   ]
  },
  {
   "cell_type": "markdown",
   "metadata": {},
   "source": [
    "### 3.4 Qual hora do dia assistimos com mais frequência?"
   ]
  },
  {
   "cell_type": "code",
   "execution_count": 19,
   "metadata": {},
   "outputs": [
    {
     "data": {
      "image/png": "[encoded data removed]",
      "text/plain": [
       "<Figure size 720x432 with 1 Axes>"
      ]
     },
     "metadata": {},
     "output_type": "display_data"
    }
   ],
   "source": [
    "with sns.axes_style('whitegrid'):\n",
    "    fig, ax = plt.subplots(figsize=(10, 6))\n",
    "    ax = sns.countplot(x='hour',\n",
    "                          data=df,\n",
    "                          color='#4169E1')\n",
    "    for p in ax.patches:\n",
    "        x=p.get_bbox().get_points()[:,0]\n",
    "        y=p.get_bbox().get_points()[1,1]\n",
    "        ax.annotate('{:.0f}'.format(y), (x.mean(), y),\n",
    "                ha='center', va='bottom')\n",
    "    \n",
    "    ax.set(xlabel=None, ylabel=None)\n",
    "    ax.set(yticklabels=[])\n",
    "    ax.set(title='\\nQuantidade de episódios assisitidos por hora\\n')"
   ]
  },
  {
   "cell_type": "markdown",
   "metadata": {},
   "source": [
    "> Entre 19h e 22h são os horários que mais assisitimos. Nesse horário as crianças começam a se preparar para dormir e minha esposa e eu assistimos tudo que podemos, pois é mais difícil em outros horários. Raramente assistimos das 0h as 6h. Quando meus filhos não estão na escola, o período de 7h as 12h estão assistindo algo. Minha esposa chega do trabalho as 13h, então isso explica o crescimento desse horário em diante."
   ]
  },
  {
   "cell_type": "markdown",
   "metadata": {},
   "source": [
    "# Contatos\n",
    "- **LinkedIn**: https://www.linkedin.com/in/pedrosart/\n",
    "- **Github**: https://github.com/psartoro\n",
    "- **Email**: pedrosartoro9@gmail.com"
   ]
  },
  {
   "cell_type": "code",
   "execution_count": null,
   "metadata": {},
   "outputs": [],
   "source": []
  }
 ],
 "metadata": {
  "kernelspec": {
   "display_name": "Python 3",
   "language": "python",
   "name": "python3"
  },
  "language_info": {
   "codemirror_mode": {
    "name": "ipython",
    "version": 3
   },
   "file_extension": ".py",
   "mimetype": "text/x-python",
   "name": "python",
   "nbconvert_exporter": "python",
   "pygments_lexer": "ipython3",
   "version": "3.8.2"
  }
 },
 "nbformat": 4,
 "nbformat_minor": 4
}
