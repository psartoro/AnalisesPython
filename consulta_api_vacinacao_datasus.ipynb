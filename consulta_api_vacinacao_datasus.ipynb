{
 "cells": [
  {
   "cell_type": "markdown",
   "metadata": {},
   "source": [
    "# Consulta dos dados de Vacinação Covid-19\n",
    "### Exemplo de Webscraping com Python\n",
    "\n",
    "Prática de como coletar dados por Webscraping, tratá-los e analisá-los.\n",
    "\n",
    "Amostra contendo 10000 observações com os dados de vacinação de todo país, coletados do [openDataSus](https://opendatasus.saude.gov.br/dataset/covid-19-vacinacao) através de API."
   ]
  },
  {
   "cell_type": "code",
   "execution_count": 178,
   "metadata": {},
   "outputs": [],
   "source": [
    "import pandas as pd\n",
    "import numpy as np\n",
    "import requests\n",
    "import json\n",
    "\n",
    "import matplotlib.pyplot as plt\n",
    "from matplotlib import cm\n",
    "\n",
    "from requests.auth import HTTPBasicAuth"
   ]
  },
  {
   "cell_type": "code",
   "execution_count": 2,
   "metadata": {},
   "outputs": [
    {
     "data": {
      "text/plain": [
       "<Response [200]>"
      ]
     },
     "execution_count": 2,
     "metadata": {},
     "output_type": "execute_result"
    }
   ],
   "source": [
    "url = 'https://imunizacao-es.saude.gov.br/_search?scroll=1m'\n",
    "\n",
    "payload = {\n",
    "  \"size\": 10000\n",
    "}\n",
    "\n",
    "r = requests.post(url, \n",
    "                  auth=HTTPBasicAuth('imunizacao_public', 'qlto5t&7r_@+#Tlstigi'),\n",
    "                  params=payload)\n",
    "\n",
    "r"
   ]
  },
  {
   "cell_type": "markdown",
   "metadata": {},
   "source": [
    "Com auxilio da documentação da API, coletei os dados via post, passando o parâmetro _\"size\"_ para definir o tamanho da amostra dos dados. Sem esse parâmetro, a API retorna apenas 10 observações. O retorno _200_ indica que a requisição foi bem sucedida."
   ]
  },
  {
   "cell_type": "code",
   "execution_count": 3,
   "metadata": {},
   "outputs": [
    {
     "data": {
      "text/html": [
       "<div>\n",
       "<style scoped>\n",
       "    .dataframe tbody tr th:only-of-type {\n",
       "        vertical-align: middle;\n",
       "    }\n",
       "\n",
       "    .dataframe tbody tr th {\n",
       "        vertical-align: top;\n",
       "    }\n",
       "\n",
       "    .dataframe thead th {\n",
       "        text-align: right;\n",
       "    }\n",
       "</style>\n",
       "<table border=\"1\" class=\"dataframe\">\n",
       "  <thead>\n",
       "    <tr style=\"text-align: right;\">\n",
       "      <th></th>\n",
       "      <th>_index</th>\n",
       "      <th>_type</th>\n",
       "      <th>_id</th>\n",
       "      <th>_score</th>\n",
       "      <th>_source.vacina_categoria_codigo</th>\n",
       "      <th>_source.estalecimento_noFantasia</th>\n",
       "      <th>_source.paciente_endereco_coPais</th>\n",
       "      <th>_source.vacina_lote</th>\n",
       "      <th>_source.document_id</th>\n",
       "      <th>_source.paciente_endereco_nmPais</th>\n",
       "      <th>...</th>\n",
       "      <th>_source.paciente_racaCor_codigo</th>\n",
       "      <th>_source.paciente_enumSexoBiologico</th>\n",
       "      <th>_source.data_importacao_rnds</th>\n",
       "      <th>_source.@version</th>\n",
       "      <th>_source.dt_deleted</th>\n",
       "      <th>_source.estabelecimento_municipio_codigo</th>\n",
       "      <th>_source.paciente_id</th>\n",
       "      <th>_source.estabelecimento_municipio_nome</th>\n",
       "      <th>_source.paciente_endereco_cep</th>\n",
       "      <th>_source.vacina_categoria_nome</th>\n",
       "    </tr>\n",
       "  </thead>\n",
       "  <tbody>\n",
       "    <tr>\n",
       "      <th>0</th>\n",
       "      <td>desc-imunizacao-v3</td>\n",
       "      <td>_doc</td>\n",
       "      <td>3c4d7bac-84bb-41c0-9e73-b6bbe45232b5-i0b0</td>\n",
       "      <td>1.0</td>\n",
       "      <td>3</td>\n",
       "      <td>UNIDADE MICRO REGIONAL DE REFERENCIA CMEC</td>\n",
       "      <td>10</td>\n",
       "      <td>210014</td>\n",
       "      <td>3c4d7bac-84bb-41c0-9e73-b6bbe45232b5-i0b0</td>\n",
       "      <td>BRASIL</td>\n",
       "      <td>...</td>\n",
       "      <td>01</td>\n",
       "      <td>F</td>\n",
       "      <td>2021-02-16T16:03:28.000Z</td>\n",
       "      <td>1</td>\n",
       "      <td>None</td>\n",
       "      <td>310150</td>\n",
       "      <td>587d5c56a89b8fdd9c419fcd303c38836dcfe3ba9d665b...</td>\n",
       "      <td>ALEM PARAIBA</td>\n",
       "      <td>36660</td>\n",
       "      <td>Pessoas de 60 anos ou mais institucionalizadas</td>\n",
       "    </tr>\n",
       "    <tr>\n",
       "      <th>1</th>\n",
       "      <td>desc-imunizacao-v3</td>\n",
       "      <td>_doc</td>\n",
       "      <td>7ca1ddcc-b536-488b-ab20-c14d5607a858-i0b0</td>\n",
       "      <td>1.0</td>\n",
       "      <td>3</td>\n",
       "      <td>UNIDADE MICRO REGIONAL DE REFERENCIA CMEC</td>\n",
       "      <td>10</td>\n",
       "      <td>210014</td>\n",
       "      <td>7ca1ddcc-b536-488b-ab20-c14d5607a858-i0b0</td>\n",
       "      <td>BRASIL</td>\n",
       "      <td>...</td>\n",
       "      <td>01</td>\n",
       "      <td>F</td>\n",
       "      <td>2021-02-16T15:27:03.000Z</td>\n",
       "      <td>1</td>\n",
       "      <td>None</td>\n",
       "      <td>310150</td>\n",
       "      <td>49d68e94312c811991ec68020fc006ce285ac6b24103ef...</td>\n",
       "      <td>ALEM PARAIBA</td>\n",
       "      <td>36660</td>\n",
       "      <td>Pessoas de 60 anos ou mais institucionalizadas</td>\n",
       "    </tr>\n",
       "    <tr>\n",
       "      <th>2</th>\n",
       "      <td>desc-imunizacao-v3</td>\n",
       "      <td>_doc</td>\n",
       "      <td>a4d13c11-cc8c-4829-9c06-1b79f0b69902-i0b0</td>\n",
       "      <td>1.0</td>\n",
       "      <td>3</td>\n",
       "      <td>UNIDADE MICRO REGIONAL DE REFERENCIA CMEC</td>\n",
       "      <td>10</td>\n",
       "      <td>210014</td>\n",
       "      <td>a4d13c11-cc8c-4829-9c06-1b79f0b69902-i0b0</td>\n",
       "      <td>BRASIL</td>\n",
       "      <td>...</td>\n",
       "      <td>01</td>\n",
       "      <td>F</td>\n",
       "      <td>2021-02-16T15:07:36.000Z</td>\n",
       "      <td>1</td>\n",
       "      <td>None</td>\n",
       "      <td>310150</td>\n",
       "      <td>f64a1d36894c3b807059994a14053d748e92baebd315c3...</td>\n",
       "      <td>ALEM PARAIBA</td>\n",
       "      <td>36660</td>\n",
       "      <td>Pessoas de 60 anos ou mais institucionalizadas</td>\n",
       "    </tr>\n",
       "    <tr>\n",
       "      <th>3</th>\n",
       "      <td>desc-imunizacao-v3</td>\n",
       "      <td>_doc</td>\n",
       "      <td>8fd27eeb-db73-4084-8b0c-e93c4d723647-i0b0</td>\n",
       "      <td>1.0</td>\n",
       "      <td>3</td>\n",
       "      <td>UNIDADE MICRO REGIONAL DE REFERENCIA CMEC</td>\n",
       "      <td>10</td>\n",
       "      <td>210014</td>\n",
       "      <td>8fd27eeb-db73-4084-8b0c-e93c4d723647-i0b0</td>\n",
       "      <td>BRASIL</td>\n",
       "      <td>...</td>\n",
       "      <td>02</td>\n",
       "      <td>F</td>\n",
       "      <td>2021-02-16T15:34:24.000Z</td>\n",
       "      <td>1</td>\n",
       "      <td>None</td>\n",
       "      <td>310150</td>\n",
       "      <td>456b430fc7044da837559f8be64efaa2d24fa717bf4ca9...</td>\n",
       "      <td>ALEM PARAIBA</td>\n",
       "      <td>36660</td>\n",
       "      <td>Pessoas de 60 anos ou mais institucionalizadas</td>\n",
       "    </tr>\n",
       "    <tr>\n",
       "      <th>4</th>\n",
       "      <td>desc-imunizacao-v3</td>\n",
       "      <td>_doc</td>\n",
       "      <td>2ff46df7-f842-4757-ac7e-c98ea0ae523f-i0b0</td>\n",
       "      <td>1.0</td>\n",
       "      <td>9</td>\n",
       "      <td>HOSPITAL BP</td>\n",
       "      <td>10</td>\n",
       "      <td>210015</td>\n",
       "      <td>2ff46df7-f842-4757-ac7e-c98ea0ae523f-i0b0</td>\n",
       "      <td>BRASIL</td>\n",
       "      <td>...</td>\n",
       "      <td>01</td>\n",
       "      <td>F</td>\n",
       "      <td>2021-03-30T03:00:00.000Z</td>\n",
       "      <td>1</td>\n",
       "      <td>None</td>\n",
       "      <td>355030</td>\n",
       "      <td>56c10a902b2855d2aa8c00e1530534c757c9677da4e429...</td>\n",
       "      <td>SAO PAULO</td>\n",
       "      <td>06730</td>\n",
       "      <td>Trabalhadores de Saúde</td>\n",
       "    </tr>\n",
       "  </tbody>\n",
       "</table>\n",
       "<p>5 rows × 42 columns</p>\n",
       "</div>"
      ],
      "text/plain": [
       "               _index _type                                        _id  \\\n",
       "0  desc-imunizacao-v3  _doc  3c4d7bac-84bb-41c0-9e73-b6bbe45232b5-i0b0   \n",
       "1  desc-imunizacao-v3  _doc  7ca1ddcc-b536-488b-ab20-c14d5607a858-i0b0   \n",
       "2  desc-imunizacao-v3  _doc  a4d13c11-cc8c-4829-9c06-1b79f0b69902-i0b0   \n",
       "3  desc-imunizacao-v3  _doc  8fd27eeb-db73-4084-8b0c-e93c4d723647-i0b0   \n",
       "4  desc-imunizacao-v3  _doc  2ff46df7-f842-4757-ac7e-c98ea0ae523f-i0b0   \n",
       "\n",
       "   _score _source.vacina_categoria_codigo  \\\n",
       "0     1.0                               3   \n",
       "1     1.0                               3   \n",
       "2     1.0                               3   \n",
       "3     1.0                               3   \n",
       "4     1.0                               9   \n",
       "\n",
       "            _source.estalecimento_noFantasia _source.paciente_endereco_coPais  \\\n",
       "0  UNIDADE MICRO REGIONAL DE REFERENCIA CMEC                               10   \n",
       "1  UNIDADE MICRO REGIONAL DE REFERENCIA CMEC                               10   \n",
       "2  UNIDADE MICRO REGIONAL DE REFERENCIA CMEC                               10   \n",
       "3  UNIDADE MICRO REGIONAL DE REFERENCIA CMEC                               10   \n",
       "4                                HOSPITAL BP                               10   \n",
       "\n",
       "  _source.vacina_lote                        _source.document_id  \\\n",
       "0              210014  3c4d7bac-84bb-41c0-9e73-b6bbe45232b5-i0b0   \n",
       "1              210014  7ca1ddcc-b536-488b-ab20-c14d5607a858-i0b0   \n",
       "2              210014  a4d13c11-cc8c-4829-9c06-1b79f0b69902-i0b0   \n",
       "3              210014  8fd27eeb-db73-4084-8b0c-e93c4d723647-i0b0   \n",
       "4              210015  2ff46df7-f842-4757-ac7e-c98ea0ae523f-i0b0   \n",
       "\n",
       "  _source.paciente_endereco_nmPais  ... _source.paciente_racaCor_codigo  \\\n",
       "0                           BRASIL  ...                              01   \n",
       "1                           BRASIL  ...                              01   \n",
       "2                           BRASIL  ...                              01   \n",
       "3                           BRASIL  ...                              02   \n",
       "4                           BRASIL  ...                              01   \n",
       "\n",
       "  _source.paciente_enumSexoBiologico _source.data_importacao_rnds  \\\n",
       "0                                  F     2021-02-16T16:03:28.000Z   \n",
       "1                                  F     2021-02-16T15:27:03.000Z   \n",
       "2                                  F     2021-02-16T15:07:36.000Z   \n",
       "3                                  F     2021-02-16T15:34:24.000Z   \n",
       "4                                  F     2021-03-30T03:00:00.000Z   \n",
       "\n",
       "  _source.@version _source.dt_deleted  \\\n",
       "0                1               None   \n",
       "1                1               None   \n",
       "2                1               None   \n",
       "3                1               None   \n",
       "4                1               None   \n",
       "\n",
       "  _source.estabelecimento_municipio_codigo  \\\n",
       "0                                   310150   \n",
       "1                                   310150   \n",
       "2                                   310150   \n",
       "3                                   310150   \n",
       "4                                   355030   \n",
       "\n",
       "                                 _source.paciente_id  \\\n",
       "0  587d5c56a89b8fdd9c419fcd303c38836dcfe3ba9d665b...   \n",
       "1  49d68e94312c811991ec68020fc006ce285ac6b24103ef...   \n",
       "2  f64a1d36894c3b807059994a14053d748e92baebd315c3...   \n",
       "3  456b430fc7044da837559f8be64efaa2d24fa717bf4ca9...   \n",
       "4  56c10a902b2855d2aa8c00e1530534c757c9677da4e429...   \n",
       "\n",
       "  _source.estabelecimento_municipio_nome _source.paciente_endereco_cep  \\\n",
       "0                           ALEM PARAIBA                         36660   \n",
       "1                           ALEM PARAIBA                         36660   \n",
       "2                           ALEM PARAIBA                         36660   \n",
       "3                           ALEM PARAIBA                         36660   \n",
       "4                              SAO PAULO                         06730   \n",
       "\n",
       "                    _source.vacina_categoria_nome  \n",
       "0  Pessoas de 60 anos ou mais institucionalizadas  \n",
       "1  Pessoas de 60 anos ou mais institucionalizadas  \n",
       "2  Pessoas de 60 anos ou mais institucionalizadas  \n",
       "3  Pessoas de 60 anos ou mais institucionalizadas  \n",
       "4                          Trabalhadores de Saúde  \n",
       "\n",
       "[5 rows x 42 columns]"
      ]
     },
     "execution_count": 3,
     "metadata": {},
     "output_type": "execute_result"
    }
   ],
   "source": [
    "vacinacao = r.json()\n",
    "df = pd.json_normalize(vacinacao['hits']['hits'])\n",
    "df.head()"
   ]
  },
  {
   "cell_type": "markdown",
   "metadata": {},
   "source": [
    "Normalizei com o _json_normalize_ do _pandas_, apontando as tags que contém os dados."
   ]
  },
  {
   "cell_type": "code",
   "execution_count": 4,
   "metadata": {},
   "outputs": [
    {
     "data": {
      "text/plain": [
       "Index(['_index', '_type', '_id', '_score', '_source.vacina_categoria_codigo',\n",
       "       '_source.estalecimento_noFantasia', '_source.paciente_endereco_coPais',\n",
       "       '_source.vacina_lote', '_source.document_id',\n",
       "       '_source.paciente_endereco_nmPais',\n",
       "       '_source.vacina_fabricante_referencia', '_source.vacina_nome',\n",
       "       '_source.estabelecimento_valor', '_source.@timestamp',\n",
       "       '_source.paciente_dataNascimento',\n",
       "       '_source.estabelecimento_razaoSocial',\n",
       "       '_source.paciente_endereco_nmMunicipio',\n",
       "       '_source.vacina_descricao_dose', '_source.vacina_dataAplicacao',\n",
       "       '_source.paciente_nacionalidade_enumNacionalidade',\n",
       "       '_source.estabelecimento_uf', '_source.vacina_grupoAtendimento_codigo',\n",
       "       '_source.vacina_grupoAtendimento_nome',\n",
       "       '_source.vacina_fabricante_nome', '_source.vacina_codigo',\n",
       "       '_source.status', '_source.paciente_endereco_coIbgeMunicipio',\n",
       "       '_source.id_sistema_origem', '_source.sistema_origem',\n",
       "       '_source.paciente_endereco_uf', '_source.paciente_idade',\n",
       "       '_source.paciente_racaCor_valor', '_source.paciente_racaCor_codigo',\n",
       "       '_source.paciente_enumSexoBiologico', '_source.data_importacao_rnds',\n",
       "       '_source.@version', '_source.dt_deleted',\n",
       "       '_source.estabelecimento_municipio_codigo', '_source.paciente_id',\n",
       "       '_source.estabelecimento_municipio_nome',\n",
       "       '_source.paciente_endereco_cep', '_source.vacina_categoria_nome'],\n",
       "      dtype='object')"
      ]
     },
     "execution_count": 4,
     "metadata": {},
     "output_type": "execute_result"
    }
   ],
   "source": [
    "df.columns"
   ]
  },
  {
   "cell_type": "code",
   "execution_count": 428,
   "metadata": {},
   "outputs": [],
   "source": [
    "# Função para criar plots\n",
    "def cria_plot(x, y):\n",
    "    plt.style.use('dark_background')\n",
    "    plt.figure(figsize=(12,8))\n",
    "    plt.barh(x, y)\n",
    "    \n",
    "    for i in range(len(y.index)):\n",
    "        plt.text(y[y.index[i]], i-0.1, \n",
    "                 ' '+str(y[y.index[i]])+'%', size=12)\n",
    "\n",
    "    plt.yticks(fontsize=12)\n",
    "    plt.xticks([])\n",
    "    plt.xlim(0, y.max()+5)"
   ]
  },
  {
   "cell_type": "code",
   "execution_count": 433,
   "metadata": {},
   "outputs": [
    {
     "data": {
      "text/html": [
       "<div>\n",
       "<style scoped>\n",
       "    .dataframe tbody tr th:only-of-type {\n",
       "        vertical-align: middle;\n",
       "    }\n",
       "\n",
       "    .dataframe tbody tr th {\n",
       "        vertical-align: top;\n",
       "    }\n",
       "\n",
       "    .dataframe thead th {\n",
       "        text-align: right;\n",
       "    }\n",
       "</style>\n",
       "<table border=\"1\" class=\"dataframe\">\n",
       "  <thead>\n",
       "    <tr style=\"text-align: right;\">\n",
       "      <th></th>\n",
       "      <th>uf</th>\n",
       "      <th>count</th>\n",
       "      <th>pct</th>\n",
       "    </tr>\n",
       "  </thead>\n",
       "  <tbody>\n",
       "    <tr>\n",
       "      <th>22</th>\n",
       "      <td>SC</td>\n",
       "      <td>711</td>\n",
       "      <td>7.1</td>\n",
       "    </tr>\n",
       "    <tr>\n",
       "      <th>23</th>\n",
       "      <td>RS</td>\n",
       "      <td>794</td>\n",
       "      <td>7.9</td>\n",
       "    </tr>\n",
       "    <tr>\n",
       "      <th>24</th>\n",
       "      <td>RJ</td>\n",
       "      <td>922</td>\n",
       "      <td>9.2</td>\n",
       "    </tr>\n",
       "    <tr>\n",
       "      <th>25</th>\n",
       "      <td>MG</td>\n",
       "      <td>1049</td>\n",
       "      <td>10.5</td>\n",
       "    </tr>\n",
       "    <tr>\n",
       "      <th>26</th>\n",
       "      <td>SP</td>\n",
       "      <td>1879</td>\n",
       "      <td>18.8</td>\n",
       "    </tr>\n",
       "  </tbody>\n",
       "</table>\n",
       "</div>"
      ],
      "text/plain": [
       "    uf  count   pct\n",
       "22  SC    711   7.1\n",
       "23  RS    794   7.9\n",
       "24  RJ    922   9.2\n",
       "25  MG   1049  10.5\n",
       "26  SP   1879  18.8"
      ]
     },
     "execution_count": 433,
     "metadata": {},
     "output_type": "execute_result"
    }
   ],
   "source": [
    "# Top 5 estados que mais vacinaram\n",
    "uf = df.groupby('_source.estabelecimento_uf').size().sort_values()\n",
    "uf = uf.reset_index()\n",
    "uf.columns = ['uf', 'count']\n",
    "uf['pct'] = round(uf['count']/uf['count'].sum()*100, 1)\n",
    "uf = uf[uf.pct > 7]\n",
    "uf"
   ]
  },
  {
   "cell_type": "code",
   "execution_count": 431,
   "metadata": {},
   "outputs": [
    {
     "data": {
      "image/png": "[encoded data removed]",
      "text/plain": [
       "<Figure size 864x576 with 1 Axes>"
      ]
     },
     "metadata": {},
     "output_type": "display_data"
    }
   ],
   "source": [
    "cria_plot(uf.uf, uf.pct)\n",
    "\n",
    "plt.title('\\nTop 5 - Taxa de Vacinação por Estado\\n', fontsize=18)\n",
    "plt.show()"
   ]
  },
  {
   "cell_type": "markdown",
   "metadata": {},
   "source": [
    "A maioria dos vacinados deste conjunto de dados são do estado de _SP_."
   ]
  },
  {
   "cell_type": "code",
   "execution_count": 426,
   "metadata": {
    "scrolled": false
   },
   "outputs": [
    {
     "data": {
      "image/png": "[encoded data removed]",
      "text/plain": [
       "<Figure size 576x576 with 1 Axes>"
      ]
     },
     "metadata": {},
     "output_type": "display_data"
    }
   ],
   "source": [
    "sexo = df.groupby('_source.paciente_enumSexoBiologico').size().sort_values()\n",
    "cs = cm.Set2(np.arange(2))\n",
    "\n",
    "plt.figure(figsize=(8,8))\n",
    "plt.pie(sexo,\n",
    "        autopct='%1.1f%%',\n",
    "        labels=['Masculino', 'Feminino'],\n",
    "        textprops={'fontsize':14},\n",
    "        explode=(0.0, 0.1),\n",
    "        startangle=30,\n",
    "        colors=cs)\n",
    "plt.title('\\nTaxa Vacinação por Sexo\\n', fontsize=18, y=1.1)\n",
    "plt.show()"
   ]
  },
  {
   "cell_type": "markdown",
   "metadata": {},
   "source": [
    "Mulheres se vacinaram mais que os homens."
   ]
  },
  {
   "cell_type": "code",
   "execution_count": 423,
   "metadata": {
    "scrolled": false
   },
   "outputs": [
    {
     "data": {
      "text/html": [
       "<div>\n",
       "<style scoped>\n",
       "    .dataframe tbody tr th:only-of-type {\n",
       "        vertical-align: middle;\n",
       "    }\n",
       "\n",
       "    .dataframe tbody tr th {\n",
       "        vertical-align: top;\n",
       "    }\n",
       "\n",
       "    .dataframe thead th {\n",
       "        text-align: right;\n",
       "    }\n",
       "</style>\n",
       "<table border=\"1\" class=\"dataframe\">\n",
       "  <thead>\n",
       "    <tr style=\"text-align: right;\">\n",
       "      <th></th>\n",
       "      <th>grupo</th>\n",
       "      <th>count</th>\n",
       "      <th>pct</th>\n",
       "    </tr>\n",
       "  </thead>\n",
       "  <tbody>\n",
       "    <tr>\n",
       "      <th>4</th>\n",
       "      <td>Trabalhadores da Educação</td>\n",
       "      <td>203</td>\n",
       "      <td>2.0</td>\n",
       "    </tr>\n",
       "    <tr>\n",
       "      <th>3</th>\n",
       "      <td>Comorbidades</td>\n",
       "      <td>276</td>\n",
       "      <td>2.8</td>\n",
       "    </tr>\n",
       "    <tr>\n",
       "      <th>2</th>\n",
       "      <td>Trabalhadores Industriais</td>\n",
       "      <td>334</td>\n",
       "      <td>3.4</td>\n",
       "    </tr>\n",
       "    <tr>\n",
       "      <th>5</th>\n",
       "      <td>outros</td>\n",
       "      <td>430</td>\n",
       "      <td>4.5</td>\n",
       "    </tr>\n",
       "    <tr>\n",
       "      <th>1</th>\n",
       "      <td>Trabalhadores de Saúde</td>\n",
       "      <td>777</td>\n",
       "      <td>7.8</td>\n",
       "    </tr>\n",
       "    <tr>\n",
       "      <th>0</th>\n",
       "      <td>Faixa Etária</td>\n",
       "      <td>7948</td>\n",
       "      <td>79.7</td>\n",
       "    </tr>\n",
       "  </tbody>\n",
       "</table>\n",
       "</div>"
      ],
      "text/plain": [
       "                       grupo  count   pct\n",
       "4  Trabalhadores da Educação    203   2.0\n",
       "3               Comorbidades    276   2.8\n",
       "2  Trabalhadores Industriais    334   3.4\n",
       "5                     outros    430   4.5\n",
       "1     Trabalhadores de Saúde    777   7.8\n",
       "0               Faixa Etária   7948  79.7"
      ]
     },
     "execution_count": 423,
     "metadata": {},
     "output_type": "execute_result"
    }
   ],
   "source": [
    "grupos = df.groupby('_source.vacina_categoria_nome').size().sort_values(ascending=False)\n",
    "grupos = grupos.reset_index()\n",
    "grupos.columns = ['grupo', 'count']\n",
    "grupos['pct'] = round((grupos['count']/grupos['count'].sum())*100, 1)\n",
    "\n",
    "outros = {\n",
    "    'grupo': 'outros',\n",
    "    'count': grupos[grupos['count'] < 100]['count'].sum(),\n",
    "    'pct':   round(grupos[grupos['count'] < 100]['pct'].sum(), 1)\n",
    "}\n",
    "\n",
    "grupos = grupos[grupos['count'] > 100]\n",
    "grupos = grupos.append(outros, ignore_index=True)\n",
    "grupos = grupos.sort_values(by='pct')\n",
    "\n",
    "grupos"
   ]
  },
  {
   "cell_type": "code",
   "execution_count": 427,
   "metadata": {},
   "outputs": [
    {
     "data": {
      "image/png": "[encoded data removed]",
      "text/plain": [
       "<Figure size 864x576 with 1 Axes>"
      ]
     },
     "metadata": {},
     "output_type": "display_data"
    }
   ],
   "source": [
    "cria_plot(grupos.grupo, grupos.pct)\n",
    "plt.title('\\nTaxa de Vacinação por Grupo Prioritário\\n', fontsize=18)\n",
    "plt.show()"
   ]
  },
  {
   "cell_type": "markdown",
   "metadata": {},
   "source": [
    "Vacinados pelo critério de prioridade por faixa etária foram os que mais se vacinaram."
   ]
  },
  {
   "cell_type": "code",
   "execution_count": 344,
   "metadata": {},
   "outputs": [
    {
     "data": {
      "text/html": [
       "<div>\n",
       "<style scoped>\n",
       "    .dataframe tbody tr th:only-of-type {\n",
       "        vertical-align: middle;\n",
       "    }\n",
       "\n",
       "    .dataframe tbody tr th {\n",
       "        vertical-align: top;\n",
       "    }\n",
       "\n",
       "    .dataframe thead th {\n",
       "        text-align: right;\n",
       "    }\n",
       "</style>\n",
       "<table border=\"1\" class=\"dataframe\">\n",
       "  <thead>\n",
       "    <tr style=\"text-align: right;\">\n",
       "      <th></th>\n",
       "      <th>vacina</th>\n",
       "      <th>count</th>\n",
       "      <th>pct</th>\n",
       "    </tr>\n",
       "  </thead>\n",
       "  <tbody>\n",
       "    <tr>\n",
       "      <th>0</th>\n",
       "      <td>ASTRAZENECA</td>\n",
       "      <td>124</td>\n",
       "      <td>1.2</td>\n",
       "    </tr>\n",
       "    <tr>\n",
       "      <th>2</th>\n",
       "      <td>JANSSEN</td>\n",
       "      <td>1147</td>\n",
       "      <td>11.5</td>\n",
       "    </tr>\n",
       "    <tr>\n",
       "      <th>4</th>\n",
       "      <td>CORONAVAC</td>\n",
       "      <td>1208</td>\n",
       "      <td>12.1</td>\n",
       "    </tr>\n",
       "    <tr>\n",
       "      <th>3</th>\n",
       "      <td>PFIZER</td>\n",
       "      <td>3214</td>\n",
       "      <td>32.1</td>\n",
       "    </tr>\n",
       "    <tr>\n",
       "      <th>1</th>\n",
       "      <td>ASTRAZENECA/FIOCRUZ</td>\n",
       "      <td>4307</td>\n",
       "      <td>43.1</td>\n",
       "    </tr>\n",
       "  </tbody>\n",
       "</table>\n",
       "</div>"
      ],
      "text/plain": [
       "                vacina  count   pct\n",
       "0          ASTRAZENECA    124   1.2\n",
       "2              JANSSEN   1147  11.5\n",
       "4            CORONAVAC   1208  12.1\n",
       "3               PFIZER   3214  32.1\n",
       "1  ASTRAZENECA/FIOCRUZ   4307  43.1"
      ]
     },
     "execution_count": 344,
     "metadata": {},
     "output_type": "execute_result"
    }
   ],
   "source": [
    "vacinas = df.groupby('_source.vacina_nome').size()\n",
    "vacinas = vacinas.reset_index()\n",
    "vacinas.columns = ['vacina', 'count']\n",
    "vacinas['pct'] = round((vacinas['count']/vacinas['count'].sum())*100,1)\n",
    "\n",
    "vacinas['vacina'] = ['ASTRAZENECA', 'ASTRAZENECA/FIOCRUZ', 'JANSSEN', 'PFIZER', 'CORONAVAC']\n",
    "vacinas = vacinas.sort_values(by='pct')\n",
    "vacinas"
   ]
  },
  {
   "cell_type": "code",
   "execution_count": 425,
   "metadata": {},
   "outputs": [
    {
     "data": {
      "image/png": "[encoded data removed]",
      "text/plain": [
       "<Figure size 864x576 with 1 Axes>"
      ]
     },
     "metadata": {},
     "output_type": "display_data"
    }
   ],
   "source": [
    "cria_plot(vacinas.vacina, vacinas.pct)\n",
    "\n",
    "plt.title('\\nTaxa de Vacinação por Fabricante\\n', fontsize=18)\n",
    "plt.show()"
   ]
  },
  {
   "cell_type": "markdown",
   "metadata": {},
   "source": [
    "As vacinas do consórcio ASTRAZENECA/FIOCRUZ foram as mais aplicadas."
   ]
  }
 ],
 "metadata": {
  "kernelspec": {
   "display_name": "Python 3",
   "language": "python",
   "name": "python3"
  },
  "language_info": {
   "codemirror_mode": {
    "name": "ipython",
    "version": 3
   },
   "file_extension": ".py",
   "mimetype": "text/x-python",
   "name": "python",
   "nbconvert_exporter": "python",
   "pygments_lexer": "ipython3",
   "version": "3.8.5"
  }
 },
 "nbformat": 4,
 "nbformat_minor": 4
}
